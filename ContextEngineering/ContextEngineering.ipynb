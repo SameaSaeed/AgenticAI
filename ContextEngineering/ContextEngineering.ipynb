{
  "nbformat": 4,
  "nbformat_minor": 0,
  "metadata": {
    "colab": {
      "provenance": [],
      "gpuType": "T4"
    },
    "kernelspec": {
      "name": "python3",
      "display_name": "Python 3"
    },
    "language_info": {
      "name": "python"
    },
    "accelerator": "GPU"
  },
  "cells": [
    {
      "cell_type": "code",
      "source": [
        "from google.colab import drive\n",
        "drive.mount('/content/drive')"
      ],
      "metadata": {
        "colab": {
          "base_uri": "https://localhost:8080/"
        },
        "id": "N1iE9f8Yd0xo",
        "outputId": "c85f02ef-693d-4d24-8dcd-ba8331428e94"
      },
      "execution_count": 1,
      "outputs": [
        {
          "output_type": "stream",
          "name": "stdout",
          "text": [
            "Drive already mounted at /content/drive; to attempt to forcibly remount, call drive.mount(\"/content/drive\", force_remount=True).\n"
          ]
        }
      ]
    },
    {
      "cell_type": "code",
      "source": [
        "!pip install -r /content/drive/MyDrive/requirements.txt"
      ],
      "metadata": {
        "colab": {
          "base_uri": "https://localhost:8080/"
        },
        "collapsed": true,
        "id": "2kZWPHF0d3hC",
        "outputId": "bc45e6a4-06cc-4853-b240-f4a5eb64870e"
      },
      "execution_count": 2,
      "outputs": [
        {
          "output_type": "stream",
          "name": "stdout",
          "text": [
            "Requirement already satisfied: transformers>=4.30.0 in /usr/local/lib/python3.11/dist-packages (from -r /content/drive/MyDrive/requirements.txt (line 2)) (4.55.0)\n",
            "Requirement already satisfied: huggingface-hub>=0.15.0 in /usr/local/lib/python3.11/dist-packages (from -r /content/drive/MyDrive/requirements.txt (line 3)) (0.34.3)\n",
            "Requirement already satisfied: sentence-transformers>=2.2.2 in /usr/local/lib/python3.11/dist-packages (from -r /content/drive/MyDrive/requirements.txt (line 4)) (5.0.0)\n",
            "Requirement already satisfied: torch>=2.0.0 in /usr/local/lib/python3.11/dist-packages (from -r /content/drive/MyDrive/requirements.txt (line 7)) (2.6.0+cu124)\n",
            "Requirement already satisfied: langchain>=0.3.25 in /usr/local/lib/python3.11/dist-packages (from -r /content/drive/MyDrive/requirements.txt (line 10)) (0.3.27)\n",
            "Requirement already satisfied: langchain-core>=0.3.59 in /usr/local/lib/python3.11/dist-packages (from -r /content/drive/MyDrive/requirements.txt (line 11)) (0.3.72)\n",
            "Collecting langgraph>=0.4.3 (from -r /content/drive/MyDrive/requirements.txt (line 12))\n",
            "  Downloading langgraph-0.6.4-py3-none-any.whl.metadata (6.8 kB)\n",
            "Collecting langgraph-sdk>=0.1.66 (from -r /content/drive/MyDrive/requirements.txt (line 13))\n",
            "  Downloading langgraph_sdk-0.2.0-py3-none-any.whl.metadata (1.5 kB)\n",
            "Requirement already satisfied: filelock in /usr/local/lib/python3.11/dist-packages (from transformers>=4.30.0->-r /content/drive/MyDrive/requirements.txt (line 2)) (3.18.0)\n",
            "Requirement already satisfied: numpy>=1.17 in /usr/local/lib/python3.11/dist-packages (from transformers>=4.30.0->-r /content/drive/MyDrive/requirements.txt (line 2)) (2.0.2)\n",
            "Requirement already satisfied: packaging>=20.0 in /usr/local/lib/python3.11/dist-packages (from transformers>=4.30.0->-r /content/drive/MyDrive/requirements.txt (line 2)) (25.0)\n",
            "Requirement already satisfied: pyyaml>=5.1 in /usr/local/lib/python3.11/dist-packages (from transformers>=4.30.0->-r /content/drive/MyDrive/requirements.txt (line 2)) (6.0.2)\n",
            "Requirement already satisfied: regex!=2019.12.17 in /usr/local/lib/python3.11/dist-packages (from transformers>=4.30.0->-r /content/drive/MyDrive/requirements.txt (line 2)) (2024.11.6)\n",
            "Requirement already satisfied: requests in /usr/local/lib/python3.11/dist-packages (from transformers>=4.30.0->-r /content/drive/MyDrive/requirements.txt (line 2)) (2.32.3)\n",
            "Requirement already satisfied: tokenizers<0.22,>=0.21 in /usr/local/lib/python3.11/dist-packages (from transformers>=4.30.0->-r /content/drive/MyDrive/requirements.txt (line 2)) (0.21.4)\n",
            "Requirement already satisfied: safetensors>=0.4.3 in /usr/local/lib/python3.11/dist-packages (from transformers>=4.30.0->-r /content/drive/MyDrive/requirements.txt (line 2)) (0.6.1)\n",
            "Requirement already satisfied: tqdm>=4.27 in /usr/local/lib/python3.11/dist-packages (from transformers>=4.30.0->-r /content/drive/MyDrive/requirements.txt (line 2)) (4.67.1)\n",
            "Requirement already satisfied: fsspec>=2023.5.0 in /usr/local/lib/python3.11/dist-packages (from huggingface-hub>=0.15.0->-r /content/drive/MyDrive/requirements.txt (line 3)) (2025.3.0)\n",
            "Requirement already satisfied: typing-extensions>=3.7.4.3 in /usr/local/lib/python3.11/dist-packages (from huggingface-hub>=0.15.0->-r /content/drive/MyDrive/requirements.txt (line 3)) (4.14.1)\n",
            "Requirement already satisfied: hf-xet<2.0.0,>=1.1.3 in /usr/local/lib/python3.11/dist-packages (from huggingface-hub>=0.15.0->-r /content/drive/MyDrive/requirements.txt (line 3)) (1.1.7)\n",
            "Requirement already satisfied: scikit-learn in /usr/local/lib/python3.11/dist-packages (from sentence-transformers>=2.2.2->-r /content/drive/MyDrive/requirements.txt (line 4)) (1.6.1)\n",
            "Requirement already satisfied: scipy in /usr/local/lib/python3.11/dist-packages (from sentence-transformers>=2.2.2->-r /content/drive/MyDrive/requirements.txt (line 4)) (1.16.1)\n",
            "Requirement already satisfied: Pillow in /usr/local/lib/python3.11/dist-packages (from sentence-transformers>=2.2.2->-r /content/drive/MyDrive/requirements.txt (line 4)) (11.3.0)\n",
            "Requirement already satisfied: networkx in /usr/local/lib/python3.11/dist-packages (from torch>=2.0.0->-r /content/drive/MyDrive/requirements.txt (line 7)) (3.5)\n",
            "Requirement already satisfied: jinja2 in /usr/local/lib/python3.11/dist-packages (from torch>=2.0.0->-r /content/drive/MyDrive/requirements.txt (line 7)) (3.1.6)\n",
            "Collecting nvidia-cuda-nvrtc-cu12==12.4.127 (from torch>=2.0.0->-r /content/drive/MyDrive/requirements.txt (line 7))\n",
            "  Downloading nvidia_cuda_nvrtc_cu12-12.4.127-py3-none-manylinux2014_x86_64.whl.metadata (1.5 kB)\n",
            "Collecting nvidia-cuda-runtime-cu12==12.4.127 (from torch>=2.0.0->-r /content/drive/MyDrive/requirements.txt (line 7))\n",
            "  Downloading nvidia_cuda_runtime_cu12-12.4.127-py3-none-manylinux2014_x86_64.whl.metadata (1.5 kB)\n",
            "Collecting nvidia-cuda-cupti-cu12==12.4.127 (from torch>=2.0.0->-r /content/drive/MyDrive/requirements.txt (line 7))\n",
            "  Downloading nvidia_cuda_cupti_cu12-12.4.127-py3-none-manylinux2014_x86_64.whl.metadata (1.6 kB)\n",
            "Collecting nvidia-cudnn-cu12==9.1.0.70 (from torch>=2.0.0->-r /content/drive/MyDrive/requirements.txt (line 7))\n",
            "  Downloading nvidia_cudnn_cu12-9.1.0.70-py3-none-manylinux2014_x86_64.whl.metadata (1.6 kB)\n",
            "Collecting nvidia-cublas-cu12==12.4.5.8 (from torch>=2.0.0->-r /content/drive/MyDrive/requirements.txt (line 7))\n",
            "  Downloading nvidia_cublas_cu12-12.4.5.8-py3-none-manylinux2014_x86_64.whl.metadata (1.5 kB)\n",
            "Collecting nvidia-cufft-cu12==11.2.1.3 (from torch>=2.0.0->-r /content/drive/MyDrive/requirements.txt (line 7))\n",
            "  Downloading nvidia_cufft_cu12-11.2.1.3-py3-none-manylinux2014_x86_64.whl.metadata (1.5 kB)\n",
            "Collecting nvidia-curand-cu12==10.3.5.147 (from torch>=2.0.0->-r /content/drive/MyDrive/requirements.txt (line 7))\n",
            "  Downloading nvidia_curand_cu12-10.3.5.147-py3-none-manylinux2014_x86_64.whl.metadata (1.5 kB)\n",
            "Collecting nvidia-cusolver-cu12==11.6.1.9 (from torch>=2.0.0->-r /content/drive/MyDrive/requirements.txt (line 7))\n",
            "  Downloading nvidia_cusolver_cu12-11.6.1.9-py3-none-manylinux2014_x86_64.whl.metadata (1.6 kB)\n",
            "Collecting nvidia-cusparse-cu12==12.3.1.170 (from torch>=2.0.0->-r /content/drive/MyDrive/requirements.txt (line 7))\n",
            "  Downloading nvidia_cusparse_cu12-12.3.1.170-py3-none-manylinux2014_x86_64.whl.metadata (1.6 kB)\n",
            "Requirement already satisfied: nvidia-cusparselt-cu12==0.6.2 in /usr/local/lib/python3.11/dist-packages (from torch>=2.0.0->-r /content/drive/MyDrive/requirements.txt (line 7)) (0.6.2)\n",
            "Collecting nvidia-nccl-cu12==2.21.5 (from torch>=2.0.0->-r /content/drive/MyDrive/requirements.txt (line 7))\n",
            "  Downloading nvidia_nccl_cu12-2.21.5-py3-none-manylinux2014_x86_64.whl.metadata (1.8 kB)\n",
            "Requirement already satisfied: nvidia-nvtx-cu12==12.4.127 in /usr/local/lib/python3.11/dist-packages (from torch>=2.0.0->-r /content/drive/MyDrive/requirements.txt (line 7)) (12.4.127)\n",
            "Collecting nvidia-nvjitlink-cu12==12.4.127 (from torch>=2.0.0->-r /content/drive/MyDrive/requirements.txt (line 7))\n",
            "  Downloading nvidia_nvjitlink_cu12-12.4.127-py3-none-manylinux2014_x86_64.whl.metadata (1.5 kB)\n",
            "Requirement already satisfied: triton==3.2.0 in /usr/local/lib/python3.11/dist-packages (from torch>=2.0.0->-r /content/drive/MyDrive/requirements.txt (line 7)) (3.2.0)\n",
            "Requirement already satisfied: sympy==1.13.1 in /usr/local/lib/python3.11/dist-packages (from torch>=2.0.0->-r /content/drive/MyDrive/requirements.txt (line 7)) (1.13.1)\n",
            "Requirement already satisfied: mpmath<1.4,>=1.1.0 in /usr/local/lib/python3.11/dist-packages (from sympy==1.13.1->torch>=2.0.0->-r /content/drive/MyDrive/requirements.txt (line 7)) (1.3.0)\n",
            "Requirement already satisfied: langchain-text-splitters<1.0.0,>=0.3.9 in /usr/local/lib/python3.11/dist-packages (from langchain>=0.3.25->-r /content/drive/MyDrive/requirements.txt (line 10)) (0.3.9)\n",
            "Requirement already satisfied: langsmith>=0.1.17 in /usr/local/lib/python3.11/dist-packages (from langchain>=0.3.25->-r /content/drive/MyDrive/requirements.txt (line 10)) (0.4.12)\n",
            "Requirement already satisfied: pydantic<3.0.0,>=2.7.4 in /usr/local/lib/python3.11/dist-packages (from langchain>=0.3.25->-r /content/drive/MyDrive/requirements.txt (line 10)) (2.11.7)\n",
            "Requirement already satisfied: SQLAlchemy<3,>=1.4 in /usr/local/lib/python3.11/dist-packages (from langchain>=0.3.25->-r /content/drive/MyDrive/requirements.txt (line 10)) (2.0.42)\n",
            "Requirement already satisfied: tenacity!=8.4.0,<10.0.0,>=8.1.0 in /usr/local/lib/python3.11/dist-packages (from langchain-core>=0.3.59->-r /content/drive/MyDrive/requirements.txt (line 11)) (8.5.0)\n",
            "Requirement already satisfied: jsonpatch<2.0,>=1.33 in /usr/local/lib/python3.11/dist-packages (from langchain-core>=0.3.59->-r /content/drive/MyDrive/requirements.txt (line 11)) (1.33)\n",
            "Collecting langgraph-checkpoint<3.0.0,>=2.1.0 (from langgraph>=0.4.3->-r /content/drive/MyDrive/requirements.txt (line 12))\n",
            "  Downloading langgraph_checkpoint-2.1.1-py3-none-any.whl.metadata (4.2 kB)\n",
            "Collecting langgraph-prebuilt<0.7.0,>=0.6.0 (from langgraph>=0.4.3->-r /content/drive/MyDrive/requirements.txt (line 12))\n",
            "  Downloading langgraph_prebuilt-0.6.4-py3-none-any.whl.metadata (4.5 kB)\n",
            "Requirement already satisfied: xxhash>=3.5.0 in /usr/local/lib/python3.11/dist-packages (from langgraph>=0.4.3->-r /content/drive/MyDrive/requirements.txt (line 12)) (3.5.0)\n",
            "Requirement already satisfied: httpx>=0.25.2 in /usr/local/lib/python3.11/dist-packages (from langgraph-sdk>=0.1.66->-r /content/drive/MyDrive/requirements.txt (line 13)) (0.28.1)\n",
            "Requirement already satisfied: orjson>=3.10.1 in /usr/local/lib/python3.11/dist-packages (from langgraph-sdk>=0.1.66->-r /content/drive/MyDrive/requirements.txt (line 13)) (3.11.1)\n",
            "Requirement already satisfied: anyio in /usr/local/lib/python3.11/dist-packages (from httpx>=0.25.2->langgraph-sdk>=0.1.66->-r /content/drive/MyDrive/requirements.txt (line 13)) (4.10.0)\n",
            "Requirement already satisfied: certifi in /usr/local/lib/python3.11/dist-packages (from httpx>=0.25.2->langgraph-sdk>=0.1.66->-r /content/drive/MyDrive/requirements.txt (line 13)) (2025.8.3)\n",
            "Requirement already satisfied: httpcore==1.* in /usr/local/lib/python3.11/dist-packages (from httpx>=0.25.2->langgraph-sdk>=0.1.66->-r /content/drive/MyDrive/requirements.txt (line 13)) (1.0.9)\n",
            "Requirement already satisfied: idna in /usr/local/lib/python3.11/dist-packages (from httpx>=0.25.2->langgraph-sdk>=0.1.66->-r /content/drive/MyDrive/requirements.txt (line 13)) (3.10)\n",
            "Requirement already satisfied: h11>=0.16 in /usr/local/lib/python3.11/dist-packages (from httpcore==1.*->httpx>=0.25.2->langgraph-sdk>=0.1.66->-r /content/drive/MyDrive/requirements.txt (line 13)) (0.16.0)\n",
            "Requirement already satisfied: jsonpointer>=1.9 in /usr/local/lib/python3.11/dist-packages (from jsonpatch<2.0,>=1.33->langchain-core>=0.3.59->-r /content/drive/MyDrive/requirements.txt (line 11)) (3.0.0)\n",
            "Collecting ormsgpack>=1.10.0 (from langgraph-checkpoint<3.0.0,>=2.1.0->langgraph>=0.4.3->-r /content/drive/MyDrive/requirements.txt (line 12))\n",
            "  Downloading ormsgpack-1.10.0-cp311-cp311-manylinux_2_17_x86_64.manylinux2014_x86_64.whl.metadata (43 kB)\n",
            "\u001b[2K     \u001b[90m━━━━━━━━━━━━━━━━━━━━━━━━━━━━━━━━━━━━━━━━\u001b[0m \u001b[32m43.7/43.7 kB\u001b[0m \u001b[31m2.5 MB/s\u001b[0m eta \u001b[36m0:00:00\u001b[0m\n",
            "\u001b[?25hRequirement already satisfied: requests-toolbelt>=1.0.0 in /usr/local/lib/python3.11/dist-packages (from langsmith>=0.1.17->langchain>=0.3.25->-r /content/drive/MyDrive/requirements.txt (line 10)) (1.0.0)\n",
            "Requirement already satisfied: zstandard>=0.23.0 in /usr/local/lib/python3.11/dist-packages (from langsmith>=0.1.17->langchain>=0.3.25->-r /content/drive/MyDrive/requirements.txt (line 10)) (0.23.0)\n",
            "Requirement already satisfied: annotated-types>=0.6.0 in /usr/local/lib/python3.11/dist-packages (from pydantic<3.0.0,>=2.7.4->langchain>=0.3.25->-r /content/drive/MyDrive/requirements.txt (line 10)) (0.7.0)\n",
            "Requirement already satisfied: pydantic-core==2.33.2 in /usr/local/lib/python3.11/dist-packages (from pydantic<3.0.0,>=2.7.4->langchain>=0.3.25->-r /content/drive/MyDrive/requirements.txt (line 10)) (2.33.2)\n",
            "Requirement already satisfied: typing-inspection>=0.4.0 in /usr/local/lib/python3.11/dist-packages (from pydantic<3.0.0,>=2.7.4->langchain>=0.3.25->-r /content/drive/MyDrive/requirements.txt (line 10)) (0.4.1)\n",
            "Requirement already satisfied: charset-normalizer<4,>=2 in /usr/local/lib/python3.11/dist-packages (from requests->transformers>=4.30.0->-r /content/drive/MyDrive/requirements.txt (line 2)) (3.4.2)\n",
            "Requirement already satisfied: urllib3<3,>=1.21.1 in /usr/local/lib/python3.11/dist-packages (from requests->transformers>=4.30.0->-r /content/drive/MyDrive/requirements.txt (line 2)) (2.5.0)\n",
            "Requirement already satisfied: greenlet>=1 in /usr/local/lib/python3.11/dist-packages (from SQLAlchemy<3,>=1.4->langchain>=0.3.25->-r /content/drive/MyDrive/requirements.txt (line 10)) (3.2.3)\n",
            "Requirement already satisfied: MarkupSafe>=2.0 in /usr/local/lib/python3.11/dist-packages (from jinja2->torch>=2.0.0->-r /content/drive/MyDrive/requirements.txt (line 7)) (3.0.2)\n",
            "Requirement already satisfied: joblib>=1.2.0 in /usr/local/lib/python3.11/dist-packages (from scikit-learn->sentence-transformers>=2.2.2->-r /content/drive/MyDrive/requirements.txt (line 4)) (1.5.1)\n",
            "Requirement already satisfied: threadpoolctl>=3.1.0 in /usr/local/lib/python3.11/dist-packages (from scikit-learn->sentence-transformers>=2.2.2->-r /content/drive/MyDrive/requirements.txt (line 4)) (3.6.0)\n",
            "Requirement already satisfied: sniffio>=1.1 in /usr/local/lib/python3.11/dist-packages (from anyio->httpx>=0.25.2->langgraph-sdk>=0.1.66->-r /content/drive/MyDrive/requirements.txt (line 13)) (1.3.1)\n",
            "Downloading nvidia_cublas_cu12-12.4.5.8-py3-none-manylinux2014_x86_64.whl (363.4 MB)\n",
            "\u001b[2K   \u001b[90m━━━━━━━━━━━━━━━━━━━━━━━━━━━━━━━━━━━━━━━━\u001b[0m \u001b[32m363.4/363.4 MB\u001b[0m \u001b[31m1.5 MB/s\u001b[0m eta \u001b[36m0:00:00\u001b[0m\n",
            "\u001b[?25hDownloading nvidia_cuda_cupti_cu12-12.4.127-py3-none-manylinux2014_x86_64.whl (13.8 MB)\n",
            "\u001b[2K   \u001b[90m━━━━━━━━━━━━━━━━━━━━━━━━━━━━━━━━━━━━━━━━\u001b[0m \u001b[32m13.8/13.8 MB\u001b[0m \u001b[31m109.8 MB/s\u001b[0m eta \u001b[36m0:00:00\u001b[0m\n",
            "\u001b[?25hDownloading nvidia_cuda_nvrtc_cu12-12.4.127-py3-none-manylinux2014_x86_64.whl (24.6 MB)\n",
            "\u001b[2K   \u001b[90m━━━━━━━━━━━━━━━━━━━━━━━━━━━━━━━━━━━━━━━━\u001b[0m \u001b[32m24.6/24.6 MB\u001b[0m \u001b[31m88.3 MB/s\u001b[0m eta \u001b[36m0:00:00\u001b[0m\n",
            "\u001b[?25hDownloading nvidia_cuda_runtime_cu12-12.4.127-py3-none-manylinux2014_x86_64.whl (883 kB)\n",
            "\u001b[2K   \u001b[90m━━━━━━━━━━━━━━━━━━━━━━━━━━━━━━━━━━━━━━━━\u001b[0m \u001b[32m883.7/883.7 kB\u001b[0m \u001b[31m58.3 MB/s\u001b[0m eta \u001b[36m0:00:00\u001b[0m\n",
            "\u001b[?25hDownloading nvidia_cudnn_cu12-9.1.0.70-py3-none-manylinux2014_x86_64.whl (664.8 MB)\n",
            "\u001b[2K   \u001b[90m━━━━━━━━━━━━━━━━━━━━━━━━━━━━━━━━━━━━━━━━\u001b[0m \u001b[32m664.8/664.8 MB\u001b[0m \u001b[31m2.2 MB/s\u001b[0m eta \u001b[36m0:00:00\u001b[0m\n",
            "\u001b[?25hDownloading nvidia_cufft_cu12-11.2.1.3-py3-none-manylinux2014_x86_64.whl (211.5 MB)\n",
            "\u001b[2K   \u001b[90m━━━━━━━━━━━━━━━━━━━━━━━━━━━━━━━━━━━━━━━━\u001b[0m \u001b[32m211.5/211.5 MB\u001b[0m \u001b[31m5.9 MB/s\u001b[0m eta \u001b[36m0:00:00\u001b[0m\n",
            "\u001b[?25hDownloading nvidia_curand_cu12-10.3.5.147-py3-none-manylinux2014_x86_64.whl (56.3 MB)\n",
            "\u001b[2K   \u001b[90m━━━━━━━━━━━━━━━━━━━━━━━━━━━━━━━━━━━━━━━━\u001b[0m \u001b[32m56.3/56.3 MB\u001b[0m \u001b[31m15.1 MB/s\u001b[0m eta \u001b[36m0:00:00\u001b[0m\n",
            "\u001b[?25hDownloading nvidia_cusolver_cu12-11.6.1.9-py3-none-manylinux2014_x86_64.whl (127.9 MB)\n",
            "\u001b[2K   \u001b[90m━━━━━━━━━━━━━━━━━━━━━━━━━━━━━━━━━━━━━━━━\u001b[0m \u001b[32m127.9/127.9 MB\u001b[0m \u001b[31m8.2 MB/s\u001b[0m eta \u001b[36m0:00:00\u001b[0m\n",
            "\u001b[?25hDownloading nvidia_cusparse_cu12-12.3.1.170-py3-none-manylinux2014_x86_64.whl (207.5 MB)\n",
            "\u001b[2K   \u001b[90m━━━━━━━━━━━━━━━━━━━━━━━━━━━━━━━━━━━━━━━━\u001b[0m \u001b[32m207.5/207.5 MB\u001b[0m \u001b[31m4.1 MB/s\u001b[0m eta \u001b[36m0:00:00\u001b[0m\n",
            "\u001b[?25hDownloading nvidia_nccl_cu12-2.21.5-py3-none-manylinux2014_x86_64.whl (188.7 MB)\n",
            "\u001b[2K   \u001b[90m━━━━━━━━━━━━━━━━━━━━━━━━━━━━━━━━━━━━━━━━\u001b[0m \u001b[32m188.7/188.7 MB\u001b[0m \u001b[31m4.6 MB/s\u001b[0m eta \u001b[36m0:00:00\u001b[0m\n",
            "\u001b[?25hDownloading nvidia_nvjitlink_cu12-12.4.127-py3-none-manylinux2014_x86_64.whl (21.1 MB)\n",
            "\u001b[2K   \u001b[90m━━━━━━━━━━━━━━━━━━━━━━━━━━━━━━━━━━━━━━━━\u001b[0m \u001b[32m21.1/21.1 MB\u001b[0m \u001b[31m31.2 MB/s\u001b[0m eta \u001b[36m0:00:00\u001b[0m\n",
            "\u001b[?25hDownloading langgraph-0.6.4-py3-none-any.whl (153 kB)\n",
            "\u001b[2K   \u001b[90m━━━━━━━━━━━━━━━━━━━━━━━━━━━━━━━━━━━━━━━━\u001b[0m \u001b[32m153.2/153.2 kB\u001b[0m \u001b[31m15.1 MB/s\u001b[0m eta \u001b[36m0:00:00\u001b[0m\n",
            "\u001b[?25hDownloading langgraph_sdk-0.2.0-py3-none-any.whl (50 kB)\n",
            "\u001b[2K   \u001b[90m━━━━━━━━━━━━━━━━━━━━━━━━━━━━━━━━━━━━━━━━\u001b[0m \u001b[32m50.6/50.6 kB\u001b[0m \u001b[31m4.0 MB/s\u001b[0m eta \u001b[36m0:00:00\u001b[0m\n",
            "\u001b[?25hDownloading langgraph_checkpoint-2.1.1-py3-none-any.whl (43 kB)\n",
            "\u001b[2K   \u001b[90m━━━━━━━━━━━━━━━━━━━━━━━━━━━━━━━━━━━━━━━━\u001b[0m \u001b[32m43.9/43.9 kB\u001b[0m \u001b[31m2.9 MB/s\u001b[0m eta \u001b[36m0:00:00\u001b[0m\n",
            "\u001b[?25hDownloading langgraph_prebuilt-0.6.4-py3-none-any.whl (28 kB)\n",
            "Downloading ormsgpack-1.10.0-cp311-cp311-manylinux_2_17_x86_64.manylinux2014_x86_64.whl (216 kB)\n",
            "\u001b[2K   \u001b[90m━━━━━━━━━━━━━━━━━━━━━━━━━━━━━━━━━━━━━━━━\u001b[0m \u001b[32m216.5/216.5 kB\u001b[0m \u001b[31m19.7 MB/s\u001b[0m eta \u001b[36m0:00:00\u001b[0m\n",
            "\u001b[?25hInstalling collected packages: ormsgpack, nvidia-nvjitlink-cu12, nvidia-nccl-cu12, nvidia-curand-cu12, nvidia-cufft-cu12, nvidia-cuda-runtime-cu12, nvidia-cuda-nvrtc-cu12, nvidia-cuda-cupti-cu12, nvidia-cublas-cu12, nvidia-cusparse-cu12, nvidia-cudnn-cu12, nvidia-cusolver-cu12, langgraph-sdk, langgraph-checkpoint, langgraph-prebuilt, langgraph\n",
            "  Attempting uninstall: nvidia-nvjitlink-cu12\n",
            "    Found existing installation: nvidia-nvjitlink-cu12 12.5.82\n",
            "    Uninstalling nvidia-nvjitlink-cu12-12.5.82:\n",
            "      Successfully uninstalled nvidia-nvjitlink-cu12-12.5.82\n",
            "  Attempting uninstall: nvidia-nccl-cu12\n",
            "    Found existing installation: nvidia-nccl-cu12 2.23.4\n",
            "    Uninstalling nvidia-nccl-cu12-2.23.4:\n",
            "      Successfully uninstalled nvidia-nccl-cu12-2.23.4\n",
            "  Attempting uninstall: nvidia-curand-cu12\n",
            "    Found existing installation: nvidia-curand-cu12 10.3.6.82\n",
            "    Uninstalling nvidia-curand-cu12-10.3.6.82:\n",
            "      Successfully uninstalled nvidia-curand-cu12-10.3.6.82\n",
            "  Attempting uninstall: nvidia-cufft-cu12\n",
            "    Found existing installation: nvidia-cufft-cu12 11.2.3.61\n",
            "    Uninstalling nvidia-cufft-cu12-11.2.3.61:\n",
            "      Successfully uninstalled nvidia-cufft-cu12-11.2.3.61\n",
            "  Attempting uninstall: nvidia-cuda-runtime-cu12\n",
            "    Found existing installation: nvidia-cuda-runtime-cu12 12.5.82\n",
            "    Uninstalling nvidia-cuda-runtime-cu12-12.5.82:\n",
            "      Successfully uninstalled nvidia-cuda-runtime-cu12-12.5.82\n",
            "  Attempting uninstall: nvidia-cuda-nvrtc-cu12\n",
            "    Found existing installation: nvidia-cuda-nvrtc-cu12 12.5.82\n",
            "    Uninstalling nvidia-cuda-nvrtc-cu12-12.5.82:\n",
            "      Successfully uninstalled nvidia-cuda-nvrtc-cu12-12.5.82\n",
            "  Attempting uninstall: nvidia-cuda-cupti-cu12\n",
            "    Found existing installation: nvidia-cuda-cupti-cu12 12.5.82\n",
            "    Uninstalling nvidia-cuda-cupti-cu12-12.5.82:\n",
            "      Successfully uninstalled nvidia-cuda-cupti-cu12-12.5.82\n",
            "  Attempting uninstall: nvidia-cublas-cu12\n",
            "    Found existing installation: nvidia-cublas-cu12 12.5.3.2\n",
            "    Uninstalling nvidia-cublas-cu12-12.5.3.2:\n",
            "      Successfully uninstalled nvidia-cublas-cu12-12.5.3.2\n",
            "  Attempting uninstall: nvidia-cusparse-cu12\n",
            "    Found existing installation: nvidia-cusparse-cu12 12.5.1.3\n",
            "    Uninstalling nvidia-cusparse-cu12-12.5.1.3:\n",
            "      Successfully uninstalled nvidia-cusparse-cu12-12.5.1.3\n",
            "  Attempting uninstall: nvidia-cudnn-cu12\n",
            "    Found existing installation: nvidia-cudnn-cu12 9.3.0.75\n",
            "    Uninstalling nvidia-cudnn-cu12-9.3.0.75:\n",
            "      Successfully uninstalled nvidia-cudnn-cu12-9.3.0.75\n",
            "  Attempting uninstall: nvidia-cusolver-cu12\n",
            "    Found existing installation: nvidia-cusolver-cu12 11.6.3.83\n",
            "    Uninstalling nvidia-cusolver-cu12-11.6.3.83:\n",
            "      Successfully uninstalled nvidia-cusolver-cu12-11.6.3.83\n",
            "Successfully installed langgraph-0.6.4 langgraph-checkpoint-2.1.1 langgraph-prebuilt-0.6.4 langgraph-sdk-0.2.0 nvidia-cublas-cu12-12.4.5.8 nvidia-cuda-cupti-cu12-12.4.127 nvidia-cuda-nvrtc-cu12-12.4.127 nvidia-cuda-runtime-cu12-12.4.127 nvidia-cudnn-cu12-9.1.0.70 nvidia-cufft-cu12-11.2.1.3 nvidia-curand-cu12-10.3.5.147 nvidia-cusolver-cu12-11.6.1.9 nvidia-cusparse-cu12-12.3.1.170 nvidia-nccl-cu12-2.21.5 nvidia-nvjitlink-cu12-12.4.127 ormsgpack-1.10.0\n"
          ]
        }
      ]
    },
    {
      "cell_type": "code",
      "source": [
        "import os\n",
        "from huggingface_hub import login\n",
        "\n",
        "from google.colab import userdata  # to fetch secrets in Colab\n",
        "\n",
        "# Load the Hugging Face token set in Colab Secrets\n",
        "hf_token = userdata.get(\"HF_API_TOKEN\")\n",
        "if not hf_token:\n",
        "    raise EnvironmentError(\"Hugging Face token not found in Colab Secrets.\")\n",
        "\n",
        "# Log in using the retrieved token (non-interactive and secure)\n",
        "login(token=hf_token)\n"
      ],
      "metadata": {
        "id": "wvk8qQnfjFtO"
      },
      "execution_count": 7,
      "outputs": []
    },
    {
      "cell_type": "code",
      "source": [
        "from transformers import pipeline\n",
        "from langgraph.store.memory import InMemoryStore\n",
        "from langgraph_bigtool.utils import convert_positional_only_function_to_tool\n",
        "from langchain.embeddings import HuggingFaceEmbeddings  # Use Hugging Face embeddings\n",
        "import math, types, uuid\n",
        "from langgraph.store.memory import InMemoryStore"
      ],
      "metadata": {
        "id": "SbEj0COLldsP"
      },
      "execution_count": 13,
      "outputs": []
    },
    {
      "cell_type": "code",
      "source": [
        "from langchain_mistralai.chat_models import ChatMistralAI\n",
        "\n",
        "# Initialize the model\n",
        "llm = ChatMistralAI(\n",
        "    model=\"mistral-large-latest\",  # Replace with your desired model\n",
        "    temperature=0.7,\n",
        "    max_retries=2,\n",
        ")"
      ],
      "metadata": {
        "id": "e2mad8iIpIFs"
      },
      "execution_count": 41,
      "outputs": []
    },
    {
      "cell_type": "code",
      "source": [
        "# Initialize the HuggingFace embeddings model\n",
        "embeddings = HuggingFaceEmbeddings(\n",
        "    model_name=\"sentence-transformers/all-MiniLM-L6-v2\",\n",
        "    model_kwargs={\"device\": \"cpu\"},\n",
        "    encode_kwargs={\"normalize_embeddings\": False},\n",
        ")"
      ],
      "metadata": {
        "id": "kXuvkqa_5VKb"
      },
      "execution_count": 95,
      "outputs": []
    },
    {
      "cell_type": "markdown",
      "source": [
        "**Tool Loadout**"
      ],
      "metadata": {
        "id": "pWXdaxTrzf7_"
      }
    },
    {
      "cell_type": "code",
      "source": [
        "# Convert math functions into tools\n",
        "all_tools = []\n",
        "for name in dir(math):\n",
        "    func = getattr(math, name)\n",
        "    if isinstance(func, types.BuiltinFunctionType):\n",
        "        if tool := convert_positional_only_function_to_tool(func):\n",
        "            all_tools.append(tool)\n",
        "\n",
        "tool_registry = {str(uuid.uuid4()): tool for tool in all_tools}"
      ],
      "metadata": {
        "id": "8ZgLWWncmE7G"
      },
      "execution_count": 97,
      "outputs": []
    },
    {
      "cell_type": "code",
      "source": [
        "store = InMemoryStore(\n",
        "    index={\n",
        "        \"embed\": embeddings,\n",
        "        \"dims\": 384,  # MiniLM outputs 384-dimensional embeddings\n",
        "        \"fields\": [\"description\"],\n",
        "    }\n",
        ")\n",
        "\n",
        "for tool_id, tool in tool_registry.items():\n",
        "    store.put((\"tools\",), tool_id, {\"description\": f\"{tool.name}: {tool.description}\"})"
      ],
      "metadata": {
        "id": "HhbfNkJemIXu"
      },
      "execution_count": 18,
      "outputs": []
    },
    {
      "cell_type": "code",
      "source": [
        "# Import organization: Type hints and third-party packages\n",
        "from typing import Dict, Any\n",
        "from typing_extensions import Literal\n",
        "\n",
        "# LangChain core components\n",
        "from langchain_core.messages import SystemMessage, ToolMessage, HumanMessage\n",
        "\n",
        "# LangGraph components for workflow and state management\n",
        "from langgraph.store.base import BaseStore\n",
        "from langgraph.graph import END, START, StateGraph, MessagesState\n",
        "\n",
        "# Jupyter display utilities\n",
        "from IPython.display import Image, display\n",
        "\n",
        "# Extended state class to store dynamically selected tools\n",
        "class ToolLoadoutState(MessagesState):\n",
        "    \"\"\"State that extends MessagesState to include dynamically selected tools.\n",
        "\n",
        "    This allows the agent to maintain context about which tools are currently\n",
        "    available and bound to the conversation.\n",
        "    \"\"\"\n",
        "    tools_by_name: Dict[str, Any] = {}\n",
        "\n",
        "# System prompt defining the agent's role and capabilities\n",
        "system_prompt = \"\"\"You are a helpful assistant with access to mathematical functions from Python's math library.\n",
        "You can search for and use relevant mathematical tools to solve problems.\n",
        "When you need to perform mathematical calculations, first determine what type of mathematical operation you need,\n",
        "then use the appropriate tools from the math library.\"\"\"\n",
        "\n",
        "def llm_call(state: ToolLoadoutState, store: BaseStore) -> dict:\n",
        "    \"\"\"Main LLM call that dynamically selects and binds relevant tools.\n",
        "\n",
        "    This function implements the core tool loadout pattern:\n",
        "    1. Extract query context from user message\n",
        "    2. Search for semantically relevant tools\n",
        "    3. Bind only relevant tools to the LLM\n",
        "    4. Generate response with focused tool set\n",
        "\n",
        "    Args:\n",
        "        state: Current conversation state containing messages and tools\n",
        "        store: Vector store containing indexed tool descriptions\n",
        "\n",
        "    Returns:\n",
        "        Dictionary with new messages and updated tool registry\n",
        "    \"\"\"\n",
        "    # Extract user query for semantic tool search\n",
        "    messages = state[\"messages\"]\n",
        "    if messages and isinstance(messages[-1], HumanMessage):\n",
        "        query = messages[-1].content\n",
        "    else:\n",
        "        query = \"mathematical calculation\"  # Default fallback\n",
        "\n",
        "    # Perform semantic similarity search to find relevant tools\n",
        "    search_results = store.search((\"tools\",), query=query, limit=5)\n",
        "\n",
        "    # Build focused tool set from search results\n",
        "    relevant_tools = []\n",
        "    tools_by_name = {}\n",
        "\n",
        "    for result in search_results:\n",
        "        tool_id = result.key\n",
        "        if tool_id in tool_registry:\n",
        "            tool = tool_registry[tool_id]\n",
        "            relevant_tools.append(tool)\n",
        "            tools_by_name[tool.name] = tool\n",
        "\n",
        "    # Bind only relevant tools to avoid context overload\n",
        "    llm_with_tools = llm.bind_tools(relevant_tools) if relevant_tools else llm\n",
        "\n",
        "    # Generate response with focused context\n",
        "    response = llm_with_tools.invoke(\n",
        "        [SystemMessage(content=system_prompt)] + state[\"messages\"]\n",
        "    )\n",
        "\n",
        "    return {\n",
        "        \"messages\": [response],\n",
        "        \"tools_by_name\": tools_by_name\n",
        "    }\n",
        "\n",
        "def tool_node(state: ToolLoadoutState) -> dict:\n",
        "    \"\"\"Execute tool calls using the dynamically selected tool set.\n",
        "\n",
        "    Args:\n",
        "        state: Current conversation state with tool calls\n",
        "\n",
        "    Returns:\n",
        "        Dictionary with tool execution results\n",
        "    \"\"\"\n",
        "    result = []\n",
        "    for tool_call in state[\"messages\"][-1].tool_calls:\n",
        "        # Retrieve tool from the focused set stored in state\n",
        "        tool = state[\"tools_by_name\"][tool_call[\"name\"]]\n",
        "        observation = tool.invoke(tool_call[\"args\"])\n",
        "        result.append(ToolMessage(content=str(observation), tool_call_id=tool_call[\"id\"]))\n",
        "    return {\"messages\": result}\n",
        "\n",
        "def should_continue(state: ToolLoadoutState) -> Literal[\"tool_node\", \"__end__\"]:\n",
        "    \"\"\"Determine workflow continuation based on tool calls.\n",
        "\n",
        "    Args:\n",
        "        state: Current conversation state\n",
        "\n",
        "    Returns:\n",
        "        Next node name or END\n",
        "    \"\"\"\n",
        "    messages = state[\"messages\"]\n",
        "    last_message = messages[-1]\n",
        "\n",
        "    # Continue to tool execution if LLM made tool calls\n",
        "    if last_message.tool_calls:\n",
        "        return \"tool_node\"\n",
        "\n",
        "    # Otherwise end the conversation\n",
        "    return END\n",
        "\n",
        "# Build the tool loadout workflow\n",
        "agent_builder = StateGraph(ToolLoadoutState)\n",
        "\n",
        "# Add workflow nodes\n",
        "agent_builder.add_node(\"llm_call\", llm_call)\n",
        "agent_builder.add_node(\"tool_node\", tool_node)\n",
        "\n",
        "# Define workflow edges\n",
        "agent_builder.add_edge(START, \"llm_call\")\n",
        "agent_builder.add_conditional_edges(\n",
        "    \"llm_call\",\n",
        "    should_continue,\n",
        "    {\n",
        "        \"tool_node\": \"tool_node\",\n",
        "        END: END,\n",
        "    },\n",
        ")\n",
        "agent_builder.add_edge(\"tool_node\", \"llm_call\")\n",
        "\n",
        "# Compile the agent with tool store for semantic search\n",
        "agent = agent_builder.compile(store=store)\n",
        "\n",
        "# Display the workflow graph\n",
        "display(Image(agent.get_graph(xray=True).draw_mermaid_png()))"
      ],
      "metadata": {
        "colab": {
          "base_uri": "https://localhost:8080/",
          "height": 266
        },
        "id": "Y-jt6isLtycK",
        "outputId": "2523788d-b1cc-4deb-c3bf-e1408f7b31a4"
      },
      "execution_count": 42,
      "outputs": [
        {
          "output_type": "display_data",
          "data": {
            "image/png": "[encoded data removed]",
            "text/plain": [
              "<IPython.core.display.Image object>"
            ]
          },
          "metadata": {}
        }
      ]
    },
    {
      "cell_type": "code",
      "source": [
        "from rich.console import Console\n",
        "from rich.panel import Panel\n",
        "import json\n",
        "\n",
        "console = Console()\n",
        "\n",
        "\n",
        "def format_message_content(message):\n",
        "    \"\"\"Convert message content to displayable string\"\"\"\n",
        "    if isinstance(message.content, str):\n",
        "        return message.content\n",
        "    elif isinstance(message.content, list):\n",
        "        # Handle complex content like tool calls\n",
        "        parts = []\n",
        "        for item in message.content:\n",
        "            if item.get('type') == 'text':\n",
        "                parts.append(item['text'])\n",
        "            elif item.get('type') == 'tool_use':\n",
        "                parts.append(f\"\\n🔧 Tool Call: {item['name']}\")\n",
        "                parts.append(f\"   Args: {json.dumps(item['input'], indent=2)}\")\n",
        "        return \"\\n\".join(parts)\n",
        "    else:\n",
        "        return str(message.content)\n",
        "\n",
        "\n",
        "def format_messages(messages):\n",
        "    \"\"\"Format and display a list of messages with Rich formatting\"\"\"\n",
        "    for m in messages:\n",
        "        msg_type = m.__class__.__name__.replace('Message', '')\n",
        "        content = format_message_content(m)\n",
        "\n",
        "        if msg_type == 'Human':\n",
        "            console.print(Panel(content, title=\"🧑 Human\", border_style=\"blue\"))\n",
        "        elif msg_type == 'Ai':\n",
        "            console.print(Panel(content, title=\"🤖 Assistant\", border_style=\"green\"))\n",
        "        elif msg_type == 'Tool':\n",
        "            console.print(Panel(content, title=\"🔧 Tool Output\", border_style=\"yellow\"))\n",
        "        else:\n",
        "            console.print(Panel(content, title=f\"📝 {msg_type}\", border_style=\"white\"))\n",
        "\n",
        "\n",
        "def format_message(messages):\n",
        "    \"\"\"Alias for format_messages for backward compatibility\"\"\"\n",
        "    return format_messages(messages)\n",
        "\n",
        "\n",
        "def format_retriever_results(result, title=\"Retriever Tool Results\"):\n",
        "    \"\"\"Format and display retriever tool results with proper text wrapping\n",
        "\n",
        "    Args:\n",
        "        result: List of documents from retriever tool or a string\n",
        "        title: Title to display above the results\n",
        "    \"\"\"\n",
        "    # Initialize console for rich formatting with width limit\n",
        "    formatted_console = Console(width=100)\n",
        "\n",
        "    formatted_console.print(f\"[bold green]{title}:[/bold green]\")\n",
        "\n",
        "    # Handle case where result is a string\n",
        "    if isinstance(result, str):\n",
        "        formatted_console.print(f\"\\n[yellow]Content:[/yellow]\")\n",
        "        formatted_console.print(result, style=\"white\")\n",
        "        return\n",
        "\n",
        "    # Handle case where result is a list of documents\n",
        "    for i, doc in enumerate(result):\n",
        "        formatted_console.print(f\"\\n[bold blue]Document {i+1}:[/bold blue]\")\n",
        "\n",
        "        # Check if doc has metadata attribute (Document object)\n",
        "        if hasattr(doc, 'metadata'):\n",
        "            formatted_console.print(f\"[cyan]Source:[/cyan] {doc.metadata.get('source', 'Unknown')}\")\n",
        "            formatted_console.print(f\"[yellow]Content:[/yellow]\")\n",
        "            formatted_console.print(doc.page_content, style=\"white\")\n",
        "        else:\n",
        "            # Handle case where doc is just a string\n",
        "            formatted_console.print(f\"[yellow]Content:[/yellow]\")\n",
        "            formatted_console.print(str(doc), style=\"white\")"
      ],
      "metadata": {
        "id": "ycskirrRt5dT"
      },
      "execution_count": 43,
      "outputs": []
    },
    {
      "cell_type": "code",
      "source": [
        "from langchain_core.messages import HumanMessage\n",
        "\n",
        "query = \"Use available tools to calculate arc cosine of 0.5.\"\n",
        "result = agent.invoke({\"messages\": [HumanMessage(content=query)]})\n",
        "format_messages(result['messages'])"
      ],
      "metadata": {
        "colab": {
          "base_uri": "https://localhost:8080/",
          "height": 198
        },
        "id": "RMBuFWcQt5pA",
        "outputId": "c94829f2-5579-4fdd-bea1-e8346abc30e5"
      },
      "execution_count": 44,
      "outputs": [
        {
          "output_type": "display_data",
          "data": {
            "text/plain": [
              "\u001b[34m╭─\u001b[0m\u001b[34m──────────────────────────────────────────────────\u001b[0m\u001b[34m 🧑 Human \u001b[0m\u001b[34m───────────────────────────────────────────────────\u001b[0m\u001b[34m─╮\u001b[0m\n",
              "\u001b[34m│\u001b[0m Use available tools to calculate arc cosine of 0.5.                                                             \u001b[34m│\u001b[0m\n",
              "\u001b[34m╰─────────────────────────────────────────────────────────────────────────────────────────────────────────────────╯\u001b[0m\n"
            ],
            "text/html": [
              "<pre style=\"white-space:pre;overflow-x:auto;line-height:normal;font-family:Menlo,'DejaVu Sans Mono',consolas,'Courier New',monospace\"><span style=\"color: #000080; text-decoration-color: #000080\">╭─────────────────────────────────────────────────── 🧑 Human ────────────────────────────────────────────────────╮</span>\n",
              "<span style=\"color: #000080; text-decoration-color: #000080\">│</span> Use available tools to calculate arc cosine of 0.5.                                                             <span style=\"color: #000080; text-decoration-color: #000080\">│</span>\n",
              "<span style=\"color: #000080; text-decoration-color: #000080\">╰─────────────────────────────────────────────────────────────────────────────────────────────────────────────────╯</span>\n",
              "</pre>\n"
            ]
          },
          "metadata": {}
        },
        {
          "output_type": "display_data",
          "data": {
            "text/plain": [
              "\u001b[37m╭─\u001b[0m\u001b[37m────────────────────────────────────────────────────\u001b[0m\u001b[37m 📝 AI \u001b[0m\u001b[37m────────────────────────────────────────────────────\u001b[0m\u001b[37m─╮\u001b[0m\n",
              "\u001b[37m│\u001b[0m To calculate the arc cosine of 0.5, we can use the `acos` function from Python's math library. This function    \u001b[37m│\u001b[0m\n",
              "\u001b[37m│\u001b[0m returns the arc cosine of a value in radians. Here's how we can do it:acos(0.5)The arc cosine of 0.5 is         \u001b[37m│\u001b[0m\n",
              "\u001b[37m│\u001b[0m approximately 1.0472 radians.                                                                                   \u001b[37m│\u001b[0m\n",
              "\u001b[37m│\u001b[0m                                                                                                                 \u001b[37m│\u001b[0m\n",
              "\u001b[37m│\u001b[0m If you need the result in degrees, you can convert it using the `degrees` function from the math library. Would \u001b[37m│\u001b[0m\n",
              "\u001b[37m│\u001b[0m you like me to do that?                                                                                         \u001b[37m│\u001b[0m\n",
              "\u001b[37m╰─────────────────────────────────────────────────────────────────────────────────────────────────────────────────╯\u001b[0m\n"
            ],
            "text/html": [
              "<pre style=\"white-space:pre;overflow-x:auto;line-height:normal;font-family:Menlo,'DejaVu Sans Mono',consolas,'Courier New',monospace\"><span style=\"color: #c0c0c0; text-decoration-color: #c0c0c0\">╭───────────────────────────────────────────────────── 📝 AI ─────────────────────────────────────────────────────╮</span>\n",
              "<span style=\"color: #c0c0c0; text-decoration-color: #c0c0c0\">│</span> To calculate the arc cosine of 0.5, we can use the `acos` function from Python's math library. This function    <span style=\"color: #c0c0c0; text-decoration-color: #c0c0c0\">│</span>\n",
              "<span style=\"color: #c0c0c0; text-decoration-color: #c0c0c0\">│</span> returns the arc cosine of a value in radians. Here's how we can do it:acos(0.5)The arc cosine of 0.5 is         <span style=\"color: #c0c0c0; text-decoration-color: #c0c0c0\">│</span>\n",
              "<span style=\"color: #c0c0c0; text-decoration-color: #c0c0c0\">│</span> approximately 1.0472 radians.                                                                                   <span style=\"color: #c0c0c0; text-decoration-color: #c0c0c0\">│</span>\n",
              "<span style=\"color: #c0c0c0; text-decoration-color: #c0c0c0\">│</span>                                                                                                                 <span style=\"color: #c0c0c0; text-decoration-color: #c0c0c0\">│</span>\n",
              "<span style=\"color: #c0c0c0; text-decoration-color: #c0c0c0\">│</span> If you need the result in degrees, you can convert it using the `degrees` function from the math library. Would <span style=\"color: #c0c0c0; text-decoration-color: #c0c0c0\">│</span>\n",
              "<span style=\"color: #c0c0c0; text-decoration-color: #c0c0c0\">│</span> you like me to do that?                                                                                         <span style=\"color: #c0c0c0; text-decoration-color: #c0c0c0\">│</span>\n",
              "<span style=\"color: #c0c0c0; text-decoration-color: #c0c0c0\">╰─────────────────────────────────────────────────────────────────────────────────────────────────────────────────╯</span>\n",
              "</pre>\n"
            ]
          },
          "metadata": {}
        }
      ]
    },
    {
      "cell_type": "markdown",
      "source": [
        "**Context** **Quarantine**"
      ],
      "metadata": {
        "id": "tWnzU7-EvwHl"
      }
    },
    {
      "cell_type": "code",
      "source": [
        "from langgraph.prebuilt import create_react_agent\n",
        "from langgraph_supervisor import create_supervisor"
      ],
      "metadata": {
        "id": "cUFMgbGawATD"
      },
      "execution_count": 48,
      "outputs": []
    },
    {
      "cell_type": "code",
      "source": [
        "# Mathematical utility functions\n",
        "def add(a: float, b: float) -> float:\n",
        "    \"\"\"Add two numbers.\n",
        "\n",
        "    Args:\n",
        "        a: First number to add\n",
        "        b: Second number to add\n",
        "\n",
        "    Returns:\n",
        "        Sum of the two numbers\n",
        "    \"\"\"\n",
        "    return a + b\n",
        "\n",
        "def multiply(a: float, b: float) -> float:\n",
        "    \"\"\"Multiply two numbers.\n",
        "\n",
        "    Args:\n",
        "        a: First number to multiply\n",
        "        b: Second number to multiply\n",
        "\n",
        "    Returns:\n",
        "        Product of the two numbers\n",
        "    \"\"\"\n",
        "    return a * b\n",
        "\n",
        "# Mock data retrieval function\n",
        "def web_search(query: str) -> str:\n",
        "    \"\"\"Mock web search function that returns FAANG company headcounts.\n",
        "\n",
        "    In a real implementation, this would perform actual web searches.\n",
        "    Currently returns static 2024 data for demonstration purposes.\n",
        "\n",
        "    Args:\n",
        "        query: Search query string (unused in this mock implementation)\n",
        "\n",
        "    Returns:\n",
        "        Formatted string with FAANG company employee headcounts\n",
        "    \"\"\"\n",
        "    return (\n",
        "        \"Here are the headcounts for each of the FAANG companies in 2024:\\n\"\n",
        "        \"1. **Facebook (Meta)**: 67,317 employees.\\n\"\n",
        "        \"2. **Apple**: 164,000 employees.\\n\"\n",
        "        \"3. **Amazon**: 1,551,000 employees.\\n\"\n",
        "        \"4. **Netflix**: 14,000 employees.\\n\"\n",
        "        \"5. **Google (Alphabet)**: 181,269 employees.\"\n",
        "    )\n",
        "\n",
        "# Improved agent prompts with clear role definitions and constraints\n",
        "math_agent = create_react_agent(\n",
        "    model=llm,\n",
        "    tools=[add, multiply],\n",
        "    name=\"math_expert\",\n",
        "    prompt=\"\"\"You are a specialized mathematics expert with access to addition and multiplication tools.\n",
        "\n",
        "Your responsibilities:\n",
        "- Solve mathematical problems using the available tools\n",
        "- Always use tools for calculations rather than computing mentally\n",
        "- Use one tool at a time and show your work clearly\n",
        "- Focus exclusively on mathematical computations\n",
        "\n",
        "Constraints:\n",
        "- Do NOT attempt research, web searches, or data gathering\n",
        "- Do NOT perform calculations without using the provided tools\n",
        "- Always explain your mathematical reasoning step by step\"\"\"\n",
        ")\n",
        "\n",
        "research_agent = create_react_agent(\n",
        "    model=llm,\n",
        "    tools=[web_search],\n",
        "    name=\"research_expert\",\n",
        "    prompt=\"\"\"You are a specialized research expert with access to web search capabilities.\n",
        "\n",
        "Your responsibilities:\n",
        "- Find and retrieve factual information using web search\n",
        "- Provide comprehensive, well-sourced answers to research questions\n",
        "- Focus on data gathering and information synthesis\n",
        "\n",
        "Constraints:\n",
        "- Do NOT perform mathematical calculations or computations\n",
        "- Do NOT attempt to solve math problems - delegate those to the math expert\n",
        "- Always use your search tool to find current, accurate information\n",
        "- Present findings clearly and cite sources when available\"\"\"\n",
        ")\n",
        "\n",
        "# Enhanced supervisor prompt with clear delegation strategy\n",
        "supervisor_prompt = \"\"\"You are an intelligent team supervisor managing two specialized experts: a research expert and a math expert.\n",
        "\n",
        "Your role is to:\n",
        "1. Analyze incoming requests to determine the required expertise\n",
        "2. Delegate tasks to the appropriate specialist\n",
        "3. Coordinate between agents when tasks require multiple skills\n",
        "4. Synthesize results from multiple agents when necessary\n",
        "\n",
        "Delegation Rules:\n",
        "- For data gathering, company information, current events, or factual research → use research_agent\n",
        "- For calculations, mathematical operations, or numerical analysis → use math_agent\n",
        "- For complex tasks requiring both research and math → delegate sequentially (research first, then math)\n",
        "\n",
        "Important: You are a coordinator, not a doer. Always delegate work to your specialists rather than attempting tasks yourself. Never perform calculations or research directly.\"\"\"\n",
        "\n",
        "# Create supervisor workflow for coordinating agents\n",
        "workflow = create_supervisor(\n",
        "    [research_agent, math_agent],\n",
        "    model=llm,\n",
        "    prompt=supervisor_prompt\n",
        ")\n",
        "\n",
        "# Compile the multi-agent application\n",
        "app = workflow.compile()\n",
        "display(Image(app.get_graph(xray=True).draw_mermaid_png()))"
      ],
      "metadata": {
        "colab": {
          "base_uri": "https://localhost:8080/",
          "height": 762
        },
        "id": "c20gtisXv2Oq",
        "outputId": "849eac8e-3cf4-4b55-821f-f6d1cc703c55"
      },
      "execution_count": 49,
      "outputs": [
        {
          "output_type": "display_data",
          "data": {
            "image/png": "[encoded data removed]",
            "text/plain": [
              "<IPython.core.display.Image object>"
            ]
          },
          "metadata": {}
        }
      ]
    },
    {
      "cell_type": "code",
      "source": [
        "query = \"what's the combined headcount of the FAANG companies in 2024?\"\n",
        "result = app.invoke({\"messages\": [{\"role\": \"user\", \"content\": query}]})\n",
        "format_messages(result['messages'])"
      ],
      "metadata": {
        "colab": {
          "base_uri": "https://localhost:8080/",
          "height": 753
        },
        "id": "S8HkXEyRwPnv",
        "outputId": "3d500454-97c8-47c2-c8a0-470477ac6e90"
      },
      "execution_count": 50,
      "outputs": [
        {
          "output_type": "display_data",
          "data": {
            "text/plain": [
              "\u001b[34m╭─\u001b[0m\u001b[34m──────────────────────────────────────────────────\u001b[0m\u001b[34m 🧑 Human \u001b[0m\u001b[34m───────────────────────────────────────────────────\u001b[0m\u001b[34m─╮\u001b[0m\n",
              "\u001b[34m│\u001b[0m what's the combined headcount of the FAANG companies in 2024?                                                   \u001b[34m│\u001b[0m\n",
              "\u001b[34m╰─────────────────────────────────────────────────────────────────────────────────────────────────────────────────╯\u001b[0m\n"
            ],
            "text/html": [
              "<pre style=\"white-space:pre;overflow-x:auto;line-height:normal;font-family:Menlo,'DejaVu Sans Mono',consolas,'Courier New',monospace\"><span style=\"color: #000080; text-decoration-color: #000080\">╭─────────────────────────────────────────────────── 🧑 Human ────────────────────────────────────────────────────╮</span>\n",
              "<span style=\"color: #000080; text-decoration-color: #000080\">│</span> what's the combined headcount of the FAANG companies in 2024?                                                   <span style=\"color: #000080; text-decoration-color: #000080\">│</span>\n",
              "<span style=\"color: #000080; text-decoration-color: #000080\">╰─────────────────────────────────────────────────────────────────────────────────────────────────────────────────╯</span>\n",
              "</pre>\n"
            ]
          },
          "metadata": {}
        },
        {
          "output_type": "display_data",
          "data": {
            "text/plain": [
              "\u001b[37m╭─\u001b[0m\u001b[37m────────────────────────────────────────────────────\u001b[0m\u001b[37m 📝 AI \u001b[0m\u001b[37m────────────────────────────────────────────────────\u001b[0m\u001b[37m─╮\u001b[0m\n",
              "\u001b[37m│\u001b[0m                                                                                                                 \u001b[37m│\u001b[0m\n",
              "\u001b[37m╰─────────────────────────────────────────────────────────────────────────────────────────────────────────────────╯\u001b[0m\n"
            ],
            "text/html": [
              "<pre style=\"white-space:pre;overflow-x:auto;line-height:normal;font-family:Menlo,'DejaVu Sans Mono',consolas,'Courier New',monospace\"><span style=\"color: #c0c0c0; text-decoration-color: #c0c0c0\">╭───────────────────────────────────────────────────── 📝 AI ─────────────────────────────────────────────────────╮</span>\n",
              "<span style=\"color: #c0c0c0; text-decoration-color: #c0c0c0\">│</span>                                                                                                                 <span style=\"color: #c0c0c0; text-decoration-color: #c0c0c0\">│</span>\n",
              "<span style=\"color: #c0c0c0; text-decoration-color: #c0c0c0\">╰─────────────────────────────────────────────────────────────────────────────────────────────────────────────────╯</span>\n",
              "</pre>\n"
            ]
          },
          "metadata": {}
        },
        {
          "output_type": "display_data",
          "data": {
            "text/plain": [
              "\u001b[33m╭─\u001b[0m\u001b[33m───────────────────────────────────────────────\u001b[0m\u001b[33m 🔧 Tool Output \u001b[0m\u001b[33m────────────────────────────────────────────────\u001b[0m\u001b[33m─╮\u001b[0m\n",
              "\u001b[33m│\u001b[0m Successfully transferred to research_expert                                                                     \u001b[33m│\u001b[0m\n",
              "\u001b[33m╰─────────────────────────────────────────────────────────────────────────────────────────────────────────────────╯\u001b[0m\n"
            ],
            "text/html": [
              "<pre style=\"white-space:pre;overflow-x:auto;line-height:normal;font-family:Menlo,'DejaVu Sans Mono',consolas,'Courier New',monospace\"><span style=\"color: #808000; text-decoration-color: #808000\">╭──────────────────────────────────────────────── 🔧 Tool Output ─────────────────────────────────────────────────╮</span>\n",
              "<span style=\"color: #808000; text-decoration-color: #808000\">│</span> Successfully transferred to research_expert                                                                     <span style=\"color: #808000; text-decoration-color: #808000\">│</span>\n",
              "<span style=\"color: #808000; text-decoration-color: #808000\">╰─────────────────────────────────────────────────────────────────────────────────────────────────────────────────╯</span>\n",
              "</pre>\n"
            ]
          },
          "metadata": {}
        },
        {
          "output_type": "display_data",
          "data": {
            "text/plain": [
              "\u001b[37m╭─\u001b[0m\u001b[37m────────────────────────────────────────────────────\u001b[0m\u001b[37m 📝 AI \u001b[0m\u001b[37m────────────────────────────────────────────────────\u001b[0m\u001b[37m─╮\u001b[0m\n",
              "\u001b[37m│\u001b[0m Based on the data retrieved, here are the headcounts for each of the FAANG companies in 2024:                   \u001b[37m│\u001b[0m\n",
              "\u001b[37m│\u001b[0m                                                                                                                 \u001b[37m│\u001b[0m\n",
              "\u001b[37m│\u001b[0m - Facebook (Meta): 67,317 employees                                                                             \u001b[37m│\u001b[0m\n",
              "\u001b[37m│\u001b[0m - Apple: 164,000 employees                                                                                      \u001b[37m│\u001b[0m\n",
              "\u001b[37m│\u001b[0m - Amazon: 1,551,000 employees                                                                                   \u001b[37m│\u001b[0m\n",
              "\u001b[37m│\u001b[0m - Netflix: 14,000 employees                                                                                     \u001b[37m│\u001b[0m\n",
              "\u001b[37m│\u001b[0m - Google (Alphabet): 181,269 employees                                                                          \u001b[37m│\u001b[0m\n",
              "\u001b[37m│\u001b[0m                                                                                                                 \u001b[37m│\u001b[0m\n",
              "\u001b[37m│\u001b[0m Could you please calculate the combined headcount of these FAANG companies?                                     \u001b[37m│\u001b[0m\n",
              "\u001b[37m╰─────────────────────────────────────────────────────────────────────────────────────────────────────────────────╯\u001b[0m\n"
            ],
            "text/html": [
              "<pre style=\"white-space:pre;overflow-x:auto;line-height:normal;font-family:Menlo,'DejaVu Sans Mono',consolas,'Courier New',monospace\"><span style=\"color: #c0c0c0; text-decoration-color: #c0c0c0\">╭───────────────────────────────────────────────────── 📝 AI ─────────────────────────────────────────────────────╮</span>\n",
              "<span style=\"color: #c0c0c0; text-decoration-color: #c0c0c0\">│</span> Based on the data retrieved, here are the headcounts for each of the FAANG companies in 2024:                   <span style=\"color: #c0c0c0; text-decoration-color: #c0c0c0\">│</span>\n",
              "<span style=\"color: #c0c0c0; text-decoration-color: #c0c0c0\">│</span>                                                                                                                 <span style=\"color: #c0c0c0; text-decoration-color: #c0c0c0\">│</span>\n",
              "<span style=\"color: #c0c0c0; text-decoration-color: #c0c0c0\">│</span> - Facebook (Meta): 67,317 employees                                                                             <span style=\"color: #c0c0c0; text-decoration-color: #c0c0c0\">│</span>\n",
              "<span style=\"color: #c0c0c0; text-decoration-color: #c0c0c0\">│</span> - Apple: 164,000 employees                                                                                      <span style=\"color: #c0c0c0; text-decoration-color: #c0c0c0\">│</span>\n",
              "<span style=\"color: #c0c0c0; text-decoration-color: #c0c0c0\">│</span> - Amazon: 1,551,000 employees                                                                                   <span style=\"color: #c0c0c0; text-decoration-color: #c0c0c0\">│</span>\n",
              "<span style=\"color: #c0c0c0; text-decoration-color: #c0c0c0\">│</span> - Netflix: 14,000 employees                                                                                     <span style=\"color: #c0c0c0; text-decoration-color: #c0c0c0\">│</span>\n",
              "<span style=\"color: #c0c0c0; text-decoration-color: #c0c0c0\">│</span> - Google (Alphabet): 181,269 employees                                                                          <span style=\"color: #c0c0c0; text-decoration-color: #c0c0c0\">│</span>\n",
              "<span style=\"color: #c0c0c0; text-decoration-color: #c0c0c0\">│</span>                                                                                                                 <span style=\"color: #c0c0c0; text-decoration-color: #c0c0c0\">│</span>\n",
              "<span style=\"color: #c0c0c0; text-decoration-color: #c0c0c0\">│</span> Could you please calculate the combined headcount of these FAANG companies?                                     <span style=\"color: #c0c0c0; text-decoration-color: #c0c0c0\">│</span>\n",
              "<span style=\"color: #c0c0c0; text-decoration-color: #c0c0c0\">╰─────────────────────────────────────────────────────────────────────────────────────────────────────────────────╯</span>\n",
              "</pre>\n"
            ]
          },
          "metadata": {}
        },
        {
          "output_type": "display_data",
          "data": {
            "text/plain": [
              "\u001b[37m╭─\u001b[0m\u001b[37m────────────────────────────────────────────────────\u001b[0m\u001b[37m 📝 AI \u001b[0m\u001b[37m────────────────────────────────────────────────────\u001b[0m\u001b[37m─╮\u001b[0m\n",
              "\u001b[37m│\u001b[0m Transferring back to supervisor                                                                                 \u001b[37m│\u001b[0m\n",
              "\u001b[37m╰─────────────────────────────────────────────────────────────────────────────────────────────────────────────────╯\u001b[0m\n"
            ],
            "text/html": [
              "<pre style=\"white-space:pre;overflow-x:auto;line-height:normal;font-family:Menlo,'DejaVu Sans Mono',consolas,'Courier New',monospace\"><span style=\"color: #c0c0c0; text-decoration-color: #c0c0c0\">╭───────────────────────────────────────────────────── 📝 AI ─────────────────────────────────────────────────────╮</span>\n",
              "<span style=\"color: #c0c0c0; text-decoration-color: #c0c0c0\">│</span> Transferring back to supervisor                                                                                 <span style=\"color: #c0c0c0; text-decoration-color: #c0c0c0\">│</span>\n",
              "<span style=\"color: #c0c0c0; text-decoration-color: #c0c0c0\">╰─────────────────────────────────────────────────────────────────────────────────────────────────────────────────╯</span>\n",
              "</pre>\n"
            ]
          },
          "metadata": {}
        },
        {
          "output_type": "display_data",
          "data": {
            "text/plain": [
              "\u001b[33m╭─\u001b[0m\u001b[33m───────────────────────────────────────────────\u001b[0m\u001b[33m 🔧 Tool Output \u001b[0m\u001b[33m────────────────────────────────────────────────\u001b[0m\u001b[33m─╮\u001b[0m\n",
              "\u001b[33m│\u001b[0m Successfully transferred back to supervisor                                                                     \u001b[33m│\u001b[0m\n",
              "\u001b[33m╰─────────────────────────────────────────────────────────────────────────────────────────────────────────────────╯\u001b[0m\n"
            ],
            "text/html": [
              "<pre style=\"white-space:pre;overflow-x:auto;line-height:normal;font-family:Menlo,'DejaVu Sans Mono',consolas,'Courier New',monospace\"><span style=\"color: #808000; text-decoration-color: #808000\">╭──────────────────────────────────────────────── 🔧 Tool Output ─────────────────────────────────────────────────╮</span>\n",
              "<span style=\"color: #808000; text-decoration-color: #808000\">│</span> Successfully transferred back to supervisor                                                                     <span style=\"color: #808000; text-decoration-color: #808000\">│</span>\n",
              "<span style=\"color: #808000; text-decoration-color: #808000\">╰─────────────────────────────────────────────────────────────────────────────────────────────────────────────────╯</span>\n",
              "</pre>\n"
            ]
          },
          "metadata": {}
        },
        {
          "output_type": "display_data",
          "data": {
            "text/plain": [
              "\u001b[37m╭─\u001b[0m\u001b[37m────────────────────────────────────────────────────\u001b[0m\u001b[37m 📝 AI \u001b[0m\u001b[37m────────────────────────────────────────────────────\u001b[0m\u001b[37m─╮\u001b[0m\n",
              "\u001b[37m│\u001b[0m                                                                                                                 \u001b[37m│\u001b[0m\n",
              "\u001b[37m╰─────────────────────────────────────────────────────────────────────────────────────────────────────────────────╯\u001b[0m\n"
            ],
            "text/html": [
              "<pre style=\"white-space:pre;overflow-x:auto;line-height:normal;font-family:Menlo,'DejaVu Sans Mono',consolas,'Courier New',monospace\"><span style=\"color: #c0c0c0; text-decoration-color: #c0c0c0\">╭───────────────────────────────────────────────────── 📝 AI ─────────────────────────────────────────────────────╮</span>\n",
              "<span style=\"color: #c0c0c0; text-decoration-color: #c0c0c0\">│</span>                                                                                                                 <span style=\"color: #c0c0c0; text-decoration-color: #c0c0c0\">│</span>\n",
              "<span style=\"color: #c0c0c0; text-decoration-color: #c0c0c0\">╰─────────────────────────────────────────────────────────────────────────────────────────────────────────────────╯</span>\n",
              "</pre>\n"
            ]
          },
          "metadata": {}
        },
        {
          "output_type": "display_data",
          "data": {
            "text/plain": [
              "\u001b[33m╭─\u001b[0m\u001b[33m───────────────────────────────────────────────\u001b[0m\u001b[33m 🔧 Tool Output \u001b[0m\u001b[33m────────────────────────────────────────────────\u001b[0m\u001b[33m─╮\u001b[0m\n",
              "\u001b[33m│\u001b[0m Successfully transferred to math_expert                                                                         \u001b[33m│\u001b[0m\n",
              "\u001b[33m╰─────────────────────────────────────────────────────────────────────────────────────────────────────────────────╯\u001b[0m\n"
            ],
            "text/html": [
              "<pre style=\"white-space:pre;overflow-x:auto;line-height:normal;font-family:Menlo,'DejaVu Sans Mono',consolas,'Courier New',monospace\"><span style=\"color: #808000; text-decoration-color: #808000\">╭──────────────────────────────────────────────── 🔧 Tool Output ─────────────────────────────────────────────────╮</span>\n",
              "<span style=\"color: #808000; text-decoration-color: #808000\">│</span> Successfully transferred to math_expert                                                                         <span style=\"color: #808000; text-decoration-color: #808000\">│</span>\n",
              "<span style=\"color: #808000; text-decoration-color: #808000\">╰─────────────────────────────────────────────────────────────────────────────────────────────────────────────────╯</span>\n",
              "</pre>\n"
            ]
          },
          "metadata": {}
        },
        {
          "output_type": "display_data",
          "data": {
            "text/plain": [
              "\u001b[37m╭─\u001b[0m\u001b[37m────────────────────────────────────────────────────\u001b[0m\u001b[37m 📝 AI \u001b[0m\u001b[37m────────────────────────────────────────────────────\u001b[0m\u001b[37m─╮\u001b[0m\n",
              "\u001b[37m│\u001b[0m The combined headcount of the FAANG companies in 2024 is 1,977,586 employees.                                   \u001b[37m│\u001b[0m\n",
              "\u001b[37m╰─────────────────────────────────────────────────────────────────────────────────────────────────────────────────╯\u001b[0m\n"
            ],
            "text/html": [
              "<pre style=\"white-space:pre;overflow-x:auto;line-height:normal;font-family:Menlo,'DejaVu Sans Mono',consolas,'Courier New',monospace\"><span style=\"color: #c0c0c0; text-decoration-color: #c0c0c0\">╭───────────────────────────────────────────────────── 📝 AI ─────────────────────────────────────────────────────╮</span>\n",
              "<span style=\"color: #c0c0c0; text-decoration-color: #c0c0c0\">│</span> The combined headcount of the FAANG companies in 2024 is 1,977,586 employees.                                   <span style=\"color: #c0c0c0; text-decoration-color: #c0c0c0\">│</span>\n",
              "<span style=\"color: #c0c0c0; text-decoration-color: #c0c0c0\">╰─────────────────────────────────────────────────────────────────────────────────────────────────────────────────╯</span>\n",
              "</pre>\n"
            ]
          },
          "metadata": {}
        },
        {
          "output_type": "display_data",
          "data": {
            "text/plain": [
              "\u001b[37m╭─\u001b[0m\u001b[37m────────────────────────────────────────────────────\u001b[0m\u001b[37m 📝 AI \u001b[0m\u001b[37m────────────────────────────────────────────────────\u001b[0m\u001b[37m─╮\u001b[0m\n",
              "\u001b[37m│\u001b[0m Transferring back to supervisor                                                                                 \u001b[37m│\u001b[0m\n",
              "\u001b[37m╰─────────────────────────────────────────────────────────────────────────────────────────────────────────────────╯\u001b[0m\n"
            ],
            "text/html": [
              "<pre style=\"white-space:pre;overflow-x:auto;line-height:normal;font-family:Menlo,'DejaVu Sans Mono',consolas,'Courier New',monospace\"><span style=\"color: #c0c0c0; text-decoration-color: #c0c0c0\">╭───────────────────────────────────────────────────── 📝 AI ─────────────────────────────────────────────────────╮</span>\n",
              "<span style=\"color: #c0c0c0; text-decoration-color: #c0c0c0\">│</span> Transferring back to supervisor                                                                                 <span style=\"color: #c0c0c0; text-decoration-color: #c0c0c0\">│</span>\n",
              "<span style=\"color: #c0c0c0; text-decoration-color: #c0c0c0\">╰─────────────────────────────────────────────────────────────────────────────────────────────────────────────────╯</span>\n",
              "</pre>\n"
            ]
          },
          "metadata": {}
        },
        {
          "output_type": "display_data",
          "data": {
            "text/plain": [
              "\u001b[33m╭─\u001b[0m\u001b[33m───────────────────────────────────────────────\u001b[0m\u001b[33m 🔧 Tool Output \u001b[0m\u001b[33m────────────────────────────────────────────────\u001b[0m\u001b[33m─╮\u001b[0m\n",
              "\u001b[33m│\u001b[0m Successfully transferred back to supervisor                                                                     \u001b[33m│\u001b[0m\n",
              "\u001b[33m╰─────────────────────────────────────────────────────────────────────────────────────────────────────────────────╯\u001b[0m\n"
            ],
            "text/html": [
              "<pre style=\"white-space:pre;overflow-x:auto;line-height:normal;font-family:Menlo,'DejaVu Sans Mono',consolas,'Courier New',monospace\"><span style=\"color: #808000; text-decoration-color: #808000\">╭──────────────────────────────────────────────── 🔧 Tool Output ─────────────────────────────────────────────────╮</span>\n",
              "<span style=\"color: #808000; text-decoration-color: #808000\">│</span> Successfully transferred back to supervisor                                                                     <span style=\"color: #808000; text-decoration-color: #808000\">│</span>\n",
              "<span style=\"color: #808000; text-decoration-color: #808000\">╰─────────────────────────────────────────────────────────────────────────────────────────────────────────────────╯</span>\n",
              "</pre>\n"
            ]
          },
          "metadata": {}
        },
        {
          "output_type": "display_data",
          "data": {
            "text/plain": [
              "\u001b[37m╭─\u001b[0m\u001b[37m────────────────────────────────────────────────────\u001b[0m\u001b[37m 📝 AI \u001b[0m\u001b[37m────────────────────────────────────────────────────\u001b[0m\u001b[37m─╮\u001b[0m\n",
              "\u001b[37m│\u001b[0m The combined headcount of the FAANG companies in 2024 is 1,977,586 employees.                                   \u001b[37m│\u001b[0m\n",
              "\u001b[37m╰─────────────────────────────────────────────────────────────────────────────────────────────────────────────────╯\u001b[0m\n"
            ],
            "text/html": [
              "<pre style=\"white-space:pre;overflow-x:auto;line-height:normal;font-family:Menlo,'DejaVu Sans Mono',consolas,'Courier New',monospace\"><span style=\"color: #c0c0c0; text-decoration-color: #c0c0c0\">╭───────────────────────────────────────────────────── 📝 AI ─────────────────────────────────────────────────────╮</span>\n",
              "<span style=\"color: #c0c0c0; text-decoration-color: #c0c0c0\">│</span> The combined headcount of the FAANG companies in 2024 is 1,977,586 employees.                                   <span style=\"color: #c0c0c0; text-decoration-color: #c0c0c0\">│</span>\n",
              "<span style=\"color: #c0c0c0; text-decoration-color: #c0c0c0\">╰─────────────────────────────────────────────────────────────────────────────────────────────────────────────────╯</span>\n",
              "</pre>\n"
            ]
          },
          "metadata": {}
        }
      ]
    },
    {
      "cell_type": "markdown",
      "source": [
        "**Context Pruning**"
      ],
      "metadata": {
        "id": "eDdNcw6LwWSN"
      }
    },
    {
      "cell_type": "code",
      "source": [
        "from langchain_community.document_loaders import WebBaseLoader\n",
        "\n",
        "urls = [\n",
        "    \"https://lilianweng.github.io/posts/2025-05-01-thinking/\",\n",
        "    \"https://lilianweng.github.io/posts/2024-11-28-reward-hacking/\",\n",
        "    \"https://lilianweng.github.io/posts/2024-07-07-hallucination/\",\n",
        "    \"https://lilianweng.github.io/posts/2024-04-12-diffusion-video/\",\n",
        "]\n",
        "\n",
        "docs = [WebBaseLoader(url).load() for url in urls]"
      ],
      "metadata": {
        "colab": {
          "base_uri": "https://localhost:8080/"
        },
        "id": "9KvJoq-QwdGe",
        "outputId": "7464018c-7c90-4440-cf4f-46d1b63764f3"
      },
      "execution_count": 51,
      "outputs": [
        {
          "output_type": "stream",
          "name": "stderr",
          "text": [
            "WARNING:langchain_community.utils.user_agent:USER_AGENT environment variable not set, consider setting it to identify your requests.\n"
          ]
        }
      ]
    },
    {
      "cell_type": "code",
      "source": [
        "from langchain_text_splitters import RecursiveCharacterTextSplitter\n",
        "\n",
        "docs_list = [item for sublist in docs for item in sublist]\n",
        "\n",
        "text_splitter = RecursiveCharacterTextSplitter.from_tiktoken_encoder(\n",
        "    chunk_size=3000, chunk_overlap=50\n",
        ")\n",
        "doc_splits = text_splitter.split_documents(docs_list)"
      ],
      "metadata": {
        "id": "rgOKjd-YwubN"
      },
      "execution_count": 52,
      "outputs": []
    },
    {
      "cell_type": "code",
      "source": [
        "from langchain_core.vectorstores import InMemoryVectorStore\n",
        "vectorstore = InMemoryVectorStore.from_documents(\n",
        "    documents=doc_splits, embedding=embeddings\n",
        ")\n",
        "retriever = vectorstore.as_retriever()"
      ],
      "metadata": {
        "id": "W3-Pdmztw1ts"
      },
      "execution_count": 53,
      "outputs": []
    },
    {
      "cell_type": "code",
      "source": [
        "from langchain.tools.retriever import create_retriever_tool\n",
        "from rich.console import Console\n",
        "from rich.pretty import pprint\n",
        "\n",
        "# Initialize console for rich formatting\n",
        "console = Console()\n",
        "\n",
        "retriever_tool = create_retriever_tool(\n",
        "    retriever,\n",
        "    \"retrieve_blog_posts\",\n",
        "    \"Search and return information about Lilian Weng blog posts.\",\n",
        ")\n",
        "\n",
        "result = retriever_tool.invoke({\"query\": \"types of reward hacking\"})\n",
        "console.print(\"[bold green]Retriever Tool Results:[/bold green]\")\n",
        "pprint(result)"
      ],
      "metadata": {
        "colab": {
          "base_uri": "https://localhost:8080/",
          "height": 62
        },
        "id": "gO2SggTqw8pR",
        "outputId": "f3e780bf-35a5-47f5-894d-fac87c48ff56"
      },
      "execution_count": 54,
      "outputs": [
        {
          "output_type": "display_data",
          "data": {
            "text/plain": [
              "\u001b[1;32mRetriever Tool Results:\u001b[0m\n"
            ],
            "text/html": [
              "<pre style=\"white-space:pre;overflow-x:auto;line-height:normal;font-family:Menlo,'DejaVu Sans Mono',consolas,'Courier New',monospace\"><span style=\"color: #008000; text-decoration-color: #008000; font-weight: bold\">Retriever Tool Results:</span>\n",
              "</pre>\n"
            ]
          },
          "metadata": {}
        },
        {
          "output_type": "display_data",
          "data": {
            "text/plain": [
              "\u001b[32m'Reward Hacking in Reinforcement Learning | Lil\\'Log\\n\\n\\n\\n\\n\\n\\n\\n\\n\\n\\n\\n\\n\\n\\n\\n\\n\\n\\n\\n\\n\\n\\n\\n\\n\\n\\n\\n\\n\\n\\n\\n\\n\\n\\n\\n\\n\\n\\n\\n\\nLil\\'Log\\n\\n\\n\\n\\n\\n\\n\\n\\n\\n\\n\\n\\n\\n\\n\\n\\n\\n|\\n\\n\\n\\n\\n\\n\\nPosts\\n\\n\\n\\n\\nArchive\\n\\n\\n\\n\\nSearch\\n\\n\\n\\n\\nTags\\n\\n\\n\\n\\nFAQ\\n\\n\\n\\n\\n\\n\\n\\n\\n\\n      Reward Hacking in Reinforcement Learning\\n    \\nDate: November 28, 2024  |  Estimated Reading Time: 37 min  |  Author: Lilian Weng\\n\\n\\n \\n\\n\\nTable of Contents\\n\\n\\n\\nBackground\\n\\nReward Function in RL\\n\\nSpurious Correlation\\n\\n\\nLet’s Define Reward Hacking\\n\\nList of Examples\\n\\nReward hacking examples in RL tasks\\n\\nReward hacking examples in LLM tasks\\n\\nReward hacking examples in real life\\n\\n\\nWhy does Reward Hacking Exist?\\n\\n\\nHacking RL Environment\\n\\nHacking RLHF of LLMs\\n\\nHacking the Training Process\\n\\nHacking the Evaluator\\n\\nIn-Context Reward Hacking\\n\\n\\nGeneralization of Hacking Skills\\n\\nPeek into Mitigations\\n\\nRL Algorithm Improvement\\n\\nDetecting Reward Hacking\\n\\nData Analysis of RLHF\\n\\n\\nCitation\\n\\nReferences\\n\\n\\n\\n\\n\\nReward hacking occurs when a reinforcement learning \u001b[0m\u001b[32m(\u001b[0m\u001b[32mRL\u001b[0m\u001b[32m)\u001b[0m\u001b[32m agent exploits flaws or ambiguities in the reward function to achieve high rewards, without genuinely learning or completing the intended task. Reward hacking exists because RL environments are often imperfect, and it is fundamentally challenging to accurately specify a reward function.\\nWith the rise of language models generalizing to a broad spectrum of tasks and RLHF becomes a de facto method for alignment training, reward hacking in RL training of language models has become a critical practical challenge. Instances where the model learns to modify unit tests to pass coding tasks, or where responses contain biases that mimic a user’s preference, are pretty concerning and are likely one of the major blockers for real-world deployment of more autonomous use cases of AI models.\\nMost of the past work on this topic has been quite theoretical and focused on defining or demonstrating the existence of reward hacking. However, research into practical mitigations, especially in the context of RLHF and LLMs, remains limited. I especially want to call out for more research efforts directed toward understanding and developing mitigation for reward hacking in the future. Hope I will be able to cover the mitigation part in a dedicated post soon.\\nBackground#\\nReward Function in RL#\\nReward function defines the task, and reward shaping significantly impacts learning efficiency and accuracy in reinforcement learning. Designing a reward function for an RL task often feels like a ‘dark art’. Many factors contribute to this complexity: How you decompose a big goal into small goals? Is the reward sparse or dense? How you measure the success? Various choices may lead to good or problematic learning dynamics, including unlearnable tasks or hackable reward functions. There is a long history of research on how to do reward shaping in RL.\\nFor example, in an 1999 paper by Ng et al., the authors studied how to modify the reward function in Markov Decision Processes \u001b[0m\u001b[32m(\u001b[0m\u001b[32mMDPs\u001b[0m\u001b[32m)\u001b[0m\u001b[32m such that the optimal policy remains unchanged. They found that linear transformation works. Given a MDP $M = \u001b[0m\u001b[32m(\u001b[0m\u001b[32mS, A, T, \\\\gamma, R\u001b[0m\u001b[32m)\u001b[0m\u001b[32m$, we want to create a transformed MDP $M’ = \u001b[0m\u001b[32m(\u001b[0m\u001b[32mS, A, T, \\\\gamma, R’\u001b[0m\u001b[32m)\u001b[0m\u001b[32m$ where $R’ = R + F$ and $F: S \\\\times A \\\\times S \\\\mapsto \\\\mathbb\u001b[0m\u001b[32m{\u001b[0m\u001b[32mR\u001b[0m\u001b[32m}\u001b[0m\u001b[32m$, such that we can guide the learning algorithm to be more efficient. Given a real-valued function $\\\\Phi: S \\\\mapsto \\\\mathbb\u001b[0m\u001b[32m{\u001b[0m\u001b[32mR\u001b[0m\u001b[32m}\u001b[0m\u001b[32m$, $F$ is a potential-based shaping function if for all $s \\\\in S - \u001b[0m\u001b[32m{\u001b[0m\u001b[32ms_0\u001b[0m\u001b[32m}\u001b[0m\u001b[32m, a \\\\in A, s’ \\\\in S$:\\n\\n$$\\nF\u001b[0m\u001b[32m(\u001b[0m\u001b[32ms, a, s\\'\u001b[0m\u001b[32m)\u001b[0m\u001b[32m = \\\\gamma \\\\Phi\u001b[0m\u001b[32m(\u001b[0m\u001b[32ms\\'\u001b[0m\u001b[32m)\u001b[0m\u001b[32m - \\\\Phi\u001b[0m\u001b[32m(\u001b[0m\u001b[32ms\u001b[0m\u001b[32m)\u001b[0m\u001b[32m\\n$$\\n\\nThis would guarantee that the sum of discounted $F$, $F\u001b[0m\u001b[32m(\u001b[0m\u001b[32ms_1, a_1, s_2\u001b[0m\u001b[32m)\u001b[0m\u001b[32m + \\\\gamma F\u001b[0m\u001b[32m(\u001b[0m\u001b[32ms_2, a_2, s_3\u001b[0m\u001b[32m)\u001b[0m\u001b[32m + \\\\dots$, ends up being 0. If $F$ is such a potential-based shaping function, it is both sufficient and necessary to ensure $M$ and $M’$ share the same optimal policies.\\nWhen $F\u001b[0m\u001b[32m(\u001b[0m\u001b[32ms, a, s’\u001b[0m\u001b[32m)\u001b[0m\u001b[32m = \\\\gamma \\\\Phi\u001b[0m\u001b[32m(\u001b[0m\u001b[32ms’\u001b[0m\u001b[32m)\u001b[0m\u001b[32m - \\\\Phi\u001b[0m\u001b[32m(\u001b[0m\u001b[32ms\u001b[0m\u001b[32m)\u001b[0m\u001b[32m$, and if we further assume that $\\\\Phi\u001b[0m\u001b[32m(\u001b[0m\u001b[32ms_0\u001b[0m\u001b[32m)\u001b[0m\u001b[32m = 0$, where $s_0$ is absorbing state, and $\\\\\u001b[0m\u001b[32mgamma\u001b[0m\u001b[32m=\u001b[0m\u001b[32m1\u001b[0m\u001b[32m$, and then for all $s \\\\in S, a \\\\in A$:\\n\\n$$\\n\\\\begin\u001b[0m\u001b[32m{\u001b[0m\u001b[32maligned\u001b[0m\u001b[32m}\u001b[0m\u001b[32m\\nQ^*_\u001b[0m\u001b[32m{\u001b[0m\u001b[32mM\\'\u001b[0m\u001b[32m}\u001b[0m\u001b[32m \u001b[0m\u001b[32m(\u001b[0m\u001b[32ms,a\u001b[0m\u001b[32m)\u001b[0m\u001b[32m &= Q^*_M\u001b[0m\u001b[32m(\u001b[0m\u001b[32ms, a\u001b[0m\u001b[32m)\u001b[0m\u001b[32m - \\\\Phi\u001b[0m\u001b[32m(\u001b[0m\u001b[32ms\u001b[0m\u001b[32m)\u001b[0m\u001b[32m \\\\\\\\\\nV^*_\u001b[0m\u001b[32m{\u001b[0m\u001b[32mM\\'\u001b[0m\u001b[32m}\u001b[0m\u001b[32m \u001b[0m\u001b[32m(\u001b[0m\u001b[32ms,a\u001b[0m\u001b[32m)\u001b[0m\u001b[32m &= V^*_M\u001b[0m\u001b[32m(\u001b[0m\u001b[32ms, a\u001b[0m\u001b[32m)\u001b[0m\u001b[32m - \\\\Phi\u001b[0m\u001b[32m(\u001b[0m\u001b[32ms\u001b[0m\u001b[32m)\u001b[0m\u001b[32m\\n\\\\end\u001b[0m\u001b[32m{\u001b[0m\u001b[32maligned\u001b[0m\u001b[32m}\u001b[0m\u001b[32m\\n$$\\n\\nThis form of reward shaping allows us to incorporate heuristics into the reward function to speed up learning without impacting the optimal policy.\\nSpurious Correlation#\\nSpurious correlation or shortcut learning \u001b[0m\u001b[32m(\u001b[0m\u001b[32mGeirhos et al. 2020\u001b[0m\u001b[32m)\u001b[0m\u001b[32m in classification task is a concept closely related to reward hacking. Spurious or shortcut features can cause a classifier to fail at learning and generalizing as intended. For example, a binary classifier for distinguishing wolves from huskies may overfit to the presence of a snowy background if all the wolf training images include snow \u001b[0m\u001b[32m(\u001b[0m\u001b[32mRibeiro et al. 2024\u001b[0m\u001b[32m)\u001b[0m\u001b[32m.\\n\\n\\nThe model performs poorly on out-of-distribution \u001b[0m\u001b[32m(\u001b[0m\u001b[32mOOD\u001b[0m\u001b[32m)\u001b[0m\u001b[32m test sets if it overfits to shortcut features. \u001b[0m\u001b[32m(\u001b[0m\u001b[32mImage source: Geirhos et al. 2020\u001b[0m\u001b[32m)\u001b[0m\u001b[32m\\n\\nThe ERM principle states that, since the full data distribution is unknown, minimizing the loss on training data is a reasonable proxy of risk and thus we favor models with the lowest training loss. Nagarajan et al. \u001b[0m\u001b[32m(\u001b[0m\u001b[32m2021\u001b[0m\u001b[32m)\u001b[0m\u001b[32m studied the ERM principle and pointed out that ERM needs to rely on all types of informative features, including unreliable spurious features, while attempting to fit the data without constraints. Their experiments showed that ERM would depend on spurious features no matter how easy the task is.\\nLet’s Define Reward Hacking#\\nReward shaping in RL is challenging. Reward hacking occurs when an RL agent exploits flaws or ambiguities in the reward function to obtain high rewards without genuinely learning the intended behaviors or completing the task as designed. In recent years, several related concepts have been proposed, all referring to some form of reward hacking:\\n\\nReward hacking \u001b[0m\u001b[32m(\u001b[0m\u001b[32mAmodei et al., 2016\u001b[0m\u001b[32m)\u001b[0m\u001b[32m\\nReward corruption \u001b[0m\u001b[32m(\u001b[0m\u001b[32mEveritt et al., 2017\u001b[0m\u001b[32m)\u001b[0m\u001b[32m\\nReward tampering \u001b[0m\u001b[32m(\u001b[0m\u001b[32mEveritt et al. 2019\u001b[0m\u001b[32m)\u001b[0m\u001b[32m\\nSpecification gaming \u001b[0m\u001b[32m(\u001b[0m\u001b[32mKrakovna et al., 2020\u001b[0m\u001b[32m)\u001b[0m\u001b[32m\\nObjective robustness \u001b[0m\u001b[32m(\u001b[0m\u001b[32mKoch et al. 2021\u001b[0m\u001b[32m)\u001b[0m\u001b[32m\\nGoal misgeneralization \u001b[0m\u001b[32m(\u001b[0m\u001b[32mLangosco et al. 2022\u001b[0m\u001b[32m)\u001b[0m\u001b[32m\\nReward misspecifications \u001b[0m\u001b[32m(\u001b[0m\u001b[32mPan et al. 2022\u001b[0m\u001b[32m)\u001b[0m\u001b[32m\\n\\nThe concept originated with Amodei et al. \u001b[0m\u001b[32m(\u001b[0m\u001b[32m2016\u001b[0m\u001b[32m)\u001b[0m\u001b[32m, who proposed a set of open research questions on AI safety in their seminal paper “Concrete Problems in AI Safety”. They listed reward hacking as one of the key AI safety problems. Reward hacking refers to the possibility of the agent gaming the reward function to achieve high reward through undesired behavior.  Specification gaming \u001b[0m\u001b[32m(\u001b[0m\u001b[32mKrakovna et al. 2020\u001b[0m\u001b[32m)\u001b[0m\u001b[32m is a similar concept, defined as a behavior that satisfies the literal specification of an objective but not achieving the desired results. Here the literal description of the task goal and the intended goal may have a gap.\\nReward shaping is a technique used to enrich the reward function, making it easier for the agent to learn—for example, by providing denser rewards. However, a poorly design reward shaping mechanism can alter the trajectory of the optimal policy. Designing effective reward shaping mechanisms is inherently difficult. Rather than blaming a poorly designed reward function, it is more accurate to acknowledge that designing a good reward function is intrinsically challenging due to the complexity of the task itself, partial observable state, multiple dimensions in consideration, and other factors.\\nWhen testing an RL agent in out-of-distribution \u001b[0m\u001b[32m(\u001b[0m\u001b[32mOOD\u001b[0m\u001b[32m)\u001b[0m\u001b[32m environments, robustness failure may occur due to:\\n\\nThe model fails to generalize effectively, even with the right objective. This happens when the algorithm lacks sufficient intelligence or capability.\\nThe model generalizes capably but pursues an objective different from the one it was trained on. This happens when the proxy reward differs from the true reward function, $R’ \\\\neq R$. This is known as objective robustness \u001b[0m\u001b[32m(\u001b[0m\u001b[32mKoch et al. 2021\u001b[0m\u001b[32m)\u001b[0m\u001b[32m or goal misgeneralization \u001b[0m\u001b[32m(\u001b[0m\u001b[32mLangosco et al. 2022 \u001b[0m\u001b[32m)\u001b[0m\u001b[32m\\n\\nExperiments in two RL environments, CoinRun and Maze, demonstrated the importance of randomization during training. If during training, the coin or the cheese is placed at a fixed position \u001b[0m\u001b[32m(\u001b[0m\u001b[32mi.e. right end of the level or upper right corner of the maze\u001b[0m\u001b[32m)\u001b[0m\u001b[32m but testing in the env where the coin or cheese is placed at random, the agent would just run to the fixed position without obtaining the coin or cheese at test time. A conflict arises when a visual feature \u001b[0m\u001b[32m(\u001b[0m\u001b[32me.g., cheese or coin\u001b[0m\u001b[32m)\u001b[0m\u001b[32m and a positional feature \u001b[0m\u001b[32m(\u001b[0m\u001b[32me.g., upper-right or right end\u001b[0m\u001b[32m)\u001b[0m\u001b[32m are inconsistent during test time, leading the trained model to prefer the positional feature. I would like to point out that, in these two examples, the reward-result gaps are clear but such type of biases are unlikely to be so obvious in most real-world cases.\\n\\n\\nThe impact of randomizing the position of the coin during training. When the coin is placed at random for \u001b[0m\u001b[32m{\u001b[0m\u001b[32m0, 2, 3, 6, 11\u001b[0m\u001b[32m}\u001b[0m\u001b[32m% of the time during training \u001b[0m\u001b[32m(\u001b[0m\u001b[32mx-axis\u001b[0m\u001b[32m)\u001b[0m\u001b[32m, the frequency of the agent navigating to the end of the level without obtaining the coin decreases with the increase of the randomization \u001b[0m\u001b[32m(\u001b[0m\u001b[32m\"y-axis\"\u001b[0m\u001b[32m)\u001b[0m\u001b[32m. \u001b[0m\u001b[32m(\u001b[0m\u001b[32mImage source: Koch et al. 2021\u001b[0m\u001b[32m)\u001b[0m\u001b[32m\\n\\nReward Tampering \u001b[0m\u001b[32m(\u001b[0m\u001b[32mEveritt et al. 2019\u001b[0m\u001b[32m)\u001b[0m\u001b[32m is a form of reward hacking behavior where the agent interferes with the reward function itself, causing the observed reward to no longer accurately represent the intended goal. In reward tampering, the model modifies its reward mechanism either by directly manipulating the implementation of the reward function or by indirectly altering the environmental information used as input for the reward function.\\n\u001b[0m\u001b[32m(\u001b[0m\u001b[32mNote: Some work defines reward tampering as a distinct category of misalignment behavior from reward hacking. But I consider reward hacking as a broader concept here.\u001b[0m\u001b[32m)\u001b[0m\u001b[32m\\nAt a high level, reward hacking can be categorized into two types: environment or goal misspecification, and reward tampering.\\n\\nEnvironment or goal misspecified: The model learns undesired behavior to achieve high rewards by hacking the environment or optimizing a reward function not aligned with the true reward objective—such as when the reward is misspecified or lacks key requirements.\\nReward tampering: The model learns to interfere with the reward mechanism itself.\\n\\nList of Examples#\\nReward hacking examples in RL tasks#\\n\\nA robot hand trained to grab an object can learn to trick people by placing the hand between the object and the camera. \u001b[0m\u001b[32m(\u001b[0m\u001b[32mLink\u001b[0m\u001b[32m)\u001b[0m\u001b[32m\\nAn agent trained to maximize jumping height may exploit a bug in the physics simulator to achieve an unrealistically height. \u001b[0m\u001b[32m(\u001b[0m\u001b[32mLink\u001b[0m\u001b[32m)\u001b[0m\u001b[32m\\nAn agent is trained to ride a bicycle to a goal and wins reward whenever it is getting closer to the goal. Then the agent may learn to ride in tiny circles around the goal because there is no penalty when the agent gets away from the goal. \u001b[0m\u001b[32m(\u001b[0m\u001b[32mLink\u001b[0m\u001b[32m)\u001b[0m\u001b[32m\\nIn a soccer game setup, the reward is assigned when the agent touches the ball and the agent learns to remain next to the ball to touch the ball in high frequency like in a viberating motion. \u001b[0m\u001b[32m(\u001b[0m\u001b[32mLink\u001b[0m\u001b[32m)\u001b[0m\u001b[32m\\nIn the\\xa0Coast Runners game, an agent controls a boat with the goal to finish the boat race as quickly as possible. When it is given a shaping reward for hitting green blocks along the race track, it changes the optimal policy to going in circles and hitting the same green blocks over and over again. \u001b[0m\u001b[32m(\u001b[0m\u001b[32mLink\u001b[0m\u001b[32m)\u001b[0m\u001b[32m\\n“The Surprising Creativity of Digital Evolution”  \u001b[0m\u001b[32m(\u001b[0m\u001b[32mLehman et al. 2019\u001b[0m\u001b[32m)\u001b[0m\u001b[32m - This paper has many examples about how optimizing a misspecified fitness function can lead to surprising “hacking” or unintended evolutionary or learning results.\\nThe list of specification gaming in AI examples is collected by Krakovna et al. 2020.\\n\\nReward hacking examples in LLM tasks#\\n\\nA language model for generating summarization is able to explore flaws in the ROUGE metric such that it obtains high score but the generated summaries are barely readable. \u001b[0m\u001b[32m(\u001b[0m\u001b[32mLink\u001b[0m\u001b[32m)\u001b[0m\u001b[32m\\nA coding model learns to change unit test in order to pass coding questions. \u001b[0m\u001b[32m(\u001b[0m\u001b[32mLink\u001b[0m\u001b[32m)\u001b[0m\u001b[32m\\nA coding model may learn to directly modify the code used for calculating the reward. \u001b[0m\u001b[32m(\u001b[0m\u001b[32mLink\u001b[0m\u001b[32m)\u001b[0m\u001b[32m\\n\\nReward hacking examples in real life#\\n\\nThe recommendation algorithm for social media is intended to provide useful information. However, usefulness is often measured by proxy metrics, such as the number of likes or comments, or the time or frequency of engagement on the platform. The algorithm ends up recommending content that can affect users’ emotion states such as outrageous and extreme content in order to trigger more engagement. \u001b[0m\u001b[32m(\u001b[0m\u001b[32mHarari, 2024\u001b[0m\u001b[32m)\u001b[0m\u001b[32m\\nOptimizing for misspecified proxy metrics for a video sharing site may aggressively increase the watch time of users while the true goal is to optimize users’ subjective well-being. \u001b[0m\u001b[32m(\u001b[0m\u001b[32mLink\u001b[0m\u001b[32m)\u001b[0m\u001b[32m\\n“The Big Short” - 2008 financial crisis caused by the housing bubble. Reward hacking of our society happened as people tried to game the financial system.\\n\\nWhy does Reward Hacking Exist?#\\nGoodhart’s Law states that “When a measure becomes a target, it ceases to be a good measure”. The intuition is that a good metric can become corrupted once significant pressure is applied to optimize it. It is challenging to specify a 100% accurate reward objective and any proxy suffers the risk of being hacked, as RL algorithm exploits any small imperfection in the reward function definition. Garrabrant \u001b[0m\u001b[32m(\u001b[0m\u001b[32m2017\u001b[0m\u001b[32m)\u001b[0m\u001b[32m categorized Goodhart’s law into 4 variants:\\n\\nRegressional - selection for an imperfect proxy necessarily also selects for noise.\\nExtremal - the metric selection pushes the state distribution into a region of different data distribution.\\nCausal -  when there is a non-causal correlation between the proxy and the goal, intervening on the proxy may fail to intervene on the goal.\\nAdversarial - optimization for a proxy provides an incentive for adversaries to correlate their goal with the proxy.\\n\\nAmodei et al. \u001b[0m\u001b[32m(\u001b[0m\u001b[32m2016\u001b[0m\u001b[32m)\u001b[0m\u001b[32m summarized that reward hacking, mainly in RL setting, may occur due to:\\n\\nPartial observed states and goals are imperfect representation of the environment status.\\nThe system itself is complex and susceptible to hacking; e.g., if the agent is allowed to execute code that changes part of the environment, it becomes much easier to exploit the environment’s mechanisms.\\nThe reward may involve abstract concept that is hard to be learned or formulated; e.g., a reward function with high-dimensional inputs may disproportionately rely on a few dimensions.\\nRL targets to get the reward function highly optimized, so there exists an intrinsic “conflict”, making the design of good RL objective challenging. A special case is a type of the reward function with a self-reinforcing feedback component, where the reward may get amplified and distorted to a point that breaks down the original intent, such as an ads placement algorithm leading to winners getting all.\\n\\nBesides, identifying the exact reward function for which an optimal agent optimizes its behavior is in general impossible since there could be an infinite number of reward functions consistent with any observed policy in an fixed environment \u001b[0m\u001b[32m(\u001b[0m\u001b[32mNg & Russell, 2000\u001b[0m\u001b[32m)\u001b[0m\u001b[32m. Amin and Singh \u001b[0m\u001b[32m(\u001b[0m\u001b[32m2016\u001b[0m\u001b[32m)\u001b[0m\u001b[32m separated the causes of this unidentifiability into two classes:\\n\\nRepresentational - a set of reward functions is behaviorally invariant under certain arithmetic operations \u001b[0m\u001b[32m(\u001b[0m\u001b[32me.g., re-scaling\u001b[0m\u001b[32m)\u001b[0m\u001b[32m\\nExperimental - $\\\\pi$’s observed behavior is insufficient to distinguish between two or more reward functions which both rationalize the behavior of the agent \u001b[0m\u001b[32m(\u001b[0m\u001b[32mthe behavior is optimal under both\u001b[0m\u001b[32m)\u001b[0m\u001b[32m\\n\\nHacking RL Environment#\\nReward hacking is expected to be a more common problem as the model and the algorithm become increasingly sophisticated. A more intelligent agent is more capable of finding “holes” in the design of reward function and exploiting the task specification—in other words, achieving higher proxy rewards but lower true rewards. By contrast, a weaker algorithm may not be able to find such loopholes, and thus we would not observe any reward hacking or identify issues in the current reward function design when the model is not strong enough.\\nIn a set of zero-sum robotics self-play games \u001b[0m\u001b[32m(\u001b[0m\u001b[32mBansal et al., 2017\u001b[0m\u001b[32m)\u001b[0m\u001b[32m, we can train two agents \u001b[0m\u001b[32m(\u001b[0m\u001b[32mvictim vs. opponent\u001b[0m\u001b[32m)\u001b[0m\u001b[32m to compete against each other. A standard training process produces a victim agent with adequate performance when playing against a normal opponent. However, it is easy to train an adversarial opponent policy that can defeat the victim reliably despite outputting seemingly random actions and training with fewer than 3% of time steps \u001b[0m\u001b[32m(\u001b[0m\u001b[32mGleave et al., 2020\u001b[0m\u001b[32m)\u001b[0m\u001b[32m. Training of adversarial policies involves optimizing the sum of discounted rewards, as in standard RL setup, while treating the victim policy as a black-box model.\\nAn intuitive way to mitigate adversarial policies attacks is to fine-tune victims against adversarial policies. However, the victim remains vulnerable to new versions of adversarial policies once retrained against the new victim policy.\\nWhy does adversarial policy exist? The hypothesis is that adversarial policies introduce OOD observations to the victim rather than physically interfering with it. Evidence shows that when the victim’s observation of the opponent’s position is masked and set to a static state, the victim becomes more robust to adversaries, although performing worse against a normal opponent policy. Furthermore, a higher-dimensional observation space enhances performance under normal circumstances but makes the policy more vulnerable to adversarial opponents.\\nPan et al. \u001b[0m\u001b[32m(\u001b[0m\u001b[32m2022\u001b[0m\u001b[32m)\u001b[0m\u001b[32m investigated reward hacking as a function of agent capabilities, including \u001b[0m\u001b[32m(\u001b[0m\u001b[32m1\u001b[0m\u001b[32m)\u001b[0m\u001b[32m model size, \u001b[0m\u001b[32m(\u001b[0m\u001b[32m2\u001b[0m\u001b[32m)\u001b[0m\u001b[32m action space resolution, \u001b[0m\u001b[32m(\u001b[0m\u001b[32m3\u001b[0m\u001b[32m)\u001b[0m\u001b[32m observation space noise, and \u001b[0m\u001b[32m(\u001b[0m\u001b[32m4\u001b[0m\u001b[32m)\u001b[0m\u001b[32m training time. They also proposed a taxonomy of three types of misspecified proxy rewards:\\n\\nMisweighting: Proxy and true rewards capture the same desiderata, but differ in their relative importance.\\nOntological: Proxy and true rewards use different desiderata to capture the same concept.\\nScope: The proxy measures desiderata over a restricted domain \u001b[0m\u001b[32m(\u001b[0m\u001b[32me.g. time or space\u001b[0m\u001b[32m)\u001b[0m\u001b[32m because measurement across all conditions is too costly.\\n\\n\\nThey experimented in four RL environments paired with nine misspecified proxy rewards. The overall findings from these experiments can be summarized as follows: A model of higher capability tends to obtain higher \u001b[0m\u001b[32m(\u001b[0m\u001b[32mor similar\u001b[0m\u001b[32m)\u001b[0m\u001b[32m proxy rewards but decreased true rewards.\\n\\nModel size: Larger model size leads to increased proxy rewards but decreased true rewards.\\nAction space resolution: Increased precision in actions leads to more capable agents. However, higher resolution causes proxy rewards to remain constant while true rewards decrease.\\nObservation fidelity: More accurate observations improve proxy rewards but slightly reduce true rewards.\\nTraining steps: Optimizing the proxy reward over more steps harms true rewards after an initial period where the rewards are positively correlated.\\n\\n\\n\\nThe plot of proxy and true reward value as functions of \u001b[0m\u001b[32m(\u001b[0m\u001b[32mTop row\u001b[0m\u001b[32m)\u001b[0m\u001b[32m model sizes, measured in parameter count; \u001b[0m\u001b[32m(\u001b[0m\u001b[32mBottom row\u001b[0m\u001b[32m)\u001b[0m\u001b[32m model capability, measured by metrics such as training steps, action space resolution, and observation noise. \u001b[0m\u001b[32m(\u001b[0m\u001b[32mImage source: Pan et al. 2022\u001b[0m\u001b[32m)\u001b[0m\u001b[32m\\n\\nIf a proxy reward is so poorly specified that it has a very weak correlation with the true reward, we may be able to identify and prevent reward hacking even before training. Based on this hypothesis, Pan et al. \u001b[0m\u001b[32m(\u001b[0m\u001b[32m2022\u001b[0m\u001b[32m)\u001b[0m\u001b[32m investigated the correlation between proxy and true rewards over a collection of trajectory rollouts. Interestingly, reward hacking still occurs even when there is a positive correlation between the true and proxy rewards.\\nHacking RLHF of LLMs#\\nReinforcement learning from human feedback \u001b[0m\u001b[32m(\u001b[0m\u001b[32mRLHF\u001b[0m\u001b[32m)\u001b[0m\u001b[32m has become the de facto approach for alignment training of language models. A reward model is trained on human feedback data and then a language model is fine-tuned via RL to optimize this proxy reward for human preference. There are three types of reward we care about in an RLHF setup:\\n\\n\u001b[0m\u001b[32m(\u001b[0m\u001b[32m1\u001b[0m\u001b[32m)\u001b[0m\u001b[32m Oracle/Gold reward $R^∗$ represents what we truly want the LLM to optimize.\\n\u001b[0m\u001b[32m(\u001b[0m\u001b[32m2\u001b[0m\u001b[32m)\u001b[0m\u001b[32m Human reward $R^\\\\text\u001b[0m\u001b[32m{\u001b[0m\u001b[32mhuman\u001b[0m\u001b[32m}\u001b[0m\u001b[32m$ is what we collect to evaluate LLMs in practice, typically from individual humans with time constraints. Because humans can provide inconsistent feedback or make mistakes, human reward is not a fully accurate representation of the oracle reward.\\n\u001b[0m\u001b[32m(\u001b[0m\u001b[32m3\u001b[0m\u001b[32m)\u001b[0m\u001b[32m Proxy reward $R$ is the score predicted by a reward model that is trained on human data. Hence, $R^\\\\text\u001b[0m\u001b[32m{\u001b[0m\u001b[32mtrain\u001b[0m\u001b[32m}\u001b[0m\u001b[32m$ inherits all the weakness of human reward, plus potential modeling biases.\\n\\nRLHF optimizes the proxy reward score but we ultimately care about the gold reward score.\\nHacking the Training Process#\\nGao et al. \u001b[0m\u001b[32m(\u001b[0m\u001b[32m2022\u001b[0m\u001b[32m)\u001b[0m\u001b[32m examined the scaling laws for reward model overoptimization in RLHF. To scale up the human labels in their experiments, they use a synthetic data setup where the “gold” label for the oracle reward $R^*$ is approximated by a large RM \u001b[0m\u001b[32m(\u001b[0m\u001b[32m6B parameters\u001b[0m\u001b[32m)\u001b[0m\u001b[32m where the proxy RMs for $R$ range in size of 3M to 3B parameters.\\n\\n\\nThe plot of RM score as a function of the square root of the KL divergence measure. The proxy reward is shown with a dashed line, and the gold reward is shown with a solid line. \u001b[0m\u001b[32m(\u001b[0m\u001b[32mImage source: Gao et al. 2022\u001b[0m\u001b[32m)\u001b[0m\u001b[32m\\n\\nThe KL divergence from the initial policy to the optimized policy is $\\\\text\u001b[0m\u001b[32m{\u001b[0m\u001b[32mKL\u001b[0m\u001b[32m}\u001b[0m\u001b[32m = D_\\\\text\u001b[0m\u001b[32m{\u001b[0m\u001b[32mKL\u001b[0m\u001b[32m}\u001b[0m\u001b[32m(\u001b[0m\u001b[32m\\\\pi | \\\\pi_\\\\text\u001b[0m\u001b[32m{\u001b[0m\u001b[32minit\u001b[0m\u001b[32m}\u001b[0m\u001b[32m)\u001b[0m\u001b[32m$, and the distance function is defined as $d := \\\\sqrt\u001b[0m\u001b[32m{\u001b[0m\u001b[32m D_\\\\text\u001b[0m\u001b[32m{\u001b[0m\u001b[32mKL\u001b[0m\u001b[32m}\u001b[0m\u001b[32m(\u001b[0m\u001b[32m\\\\pi | \\\\pi_\\\\text\u001b[0m\u001b[32m{\u001b[0m\u001b[32minit\u001b[0m\u001b[32m}\u001b[0m\u001b[32m)\u001b[0m\u001b[32m}\u001b[0m\u001b[32m$. For both best-of-$n$ rejection sampling \u001b[0m\u001b[32m(\u001b[0m\u001b[32mBoN\u001b[0m\u001b[32m)\u001b[0m\u001b[32m and RL, the gold reward $R^∗$ is defined as a function of $d$. The coefficients $\\\\alpha$ and $\\\\beta$ are fitted empirically, with $R^∗ \u001b[0m\u001b[32m(\u001b[0m\u001b[32m0\u001b[0m\u001b[32m)\u001b[0m\u001b[32m := 0$ by definition.\\nThe authors also attempted to fit the proxy reward $R$ but found systematic underestimation when extrapolated to higher KLs, as the proxy reward appeared to grow linearly with $d$.\\n\\n$$\\n\\\\begin\u001b[0m\u001b[32m{\u001b[0m\u001b[32maligned\u001b[0m\u001b[32m}\u001b[0m\u001b[32m\\nR^*_\u001b[0m\u001b[32m{\u001b[0m\u001b[32m\\\\text\u001b[0m\u001b[32m{\u001b[0m\u001b[32mbo\u001b[0m\u001b[32m}\u001b[0m\u001b[32mn\u001b[0m\u001b[32m}\u001b[0m\u001b[32m(\u001b[0m\u001b[32md\u001b[0m\u001b[32m)\u001b[0m\u001b[32m &= d \u001b[0m\u001b[32m(\u001b[0m\u001b[32m\\\\alpha_\u001b[0m\u001b[32m{\u001b[0m\u001b[32m\\\\text\u001b[0m\u001b[32m{\u001b[0m\u001b[32mbo\u001b[0m\u001b[32m}\u001b[0m\u001b[32mn\u001b[0m\u001b[32m}\u001b[0m\u001b[32m - \\\\beta_\u001b[0m\u001b[32m{\u001b[0m\u001b[32m\\\\text\u001b[0m\u001b[32m{\u001b[0m\u001b[32mbo\u001b[0m\u001b[32m}\u001b[0m\u001b[32mn\u001b[0m\u001b[32m}\u001b[0m\u001b[32m d\u001b[0m\u001b[32m)\u001b[0m\u001b[32m & \\\\text\u001b[0m\u001b[32m{\u001b[0m\u001b[32m; for best-of-n \u001b[0m\u001b[32m(\u001b[0m\u001b[32mBoN\u001b[0m\u001b[32m)\u001b[0m\u001b[32m sampling.\u001b[0m\u001b[32m}\u001b[0m\u001b[32m\\\\\\\\\\nR^*_\\\\text\u001b[0m\u001b[32m{\u001b[0m\u001b[32mRL\u001b[0m\u001b[32m}\u001b[0m\u001b[32m(\u001b[0m\u001b[32md\u001b[0m\u001b[32m)\u001b[0m\u001b[32m &= d \u001b[0m\u001b[32m(\u001b[0m\u001b[32m\\\\alpha_\\\\text\u001b[0m\u001b[32m{\u001b[0m\u001b[32mRL\u001b[0m\u001b[32m}\u001b[0m\u001b[32m - \\\\beta_\\\\text\u001b[0m\u001b[32m{\u001b[0m\u001b[32mRL\u001b[0m\u001b[32m}\u001b[0m\u001b[32m \\\\log d\u001b[0m\u001b[32m)\u001b[0m\u001b[32m & \\\\text\u001b[0m\u001b[32m{\u001b[0m\u001b[32m; for reinforcement learning\u001b[0m\u001b[32m}\u001b[0m\u001b[32m\\\\\\\\\\n\\\\end\u001b[0m\u001b[32m{\u001b[0m\u001b[32maligned\u001b[0m\u001b[32m}\u001b[0m\u001b[32m\\n$$\\n\\n\\n\\nThe coefficient parameters, $\\\\alpha_\u001b[0m\u001b[32m{\u001b[0m\u001b[32m\\\\text\u001b[0m\u001b[32m{\u001b[0m\u001b[32mbo\u001b[0m\u001b[32m}\u001b[0m\u001b[32mn\u001b[0m\u001b[32m}\u001b[0m\u001b[32m, \\\\beta_\u001b[0m\u001b[32m{\u001b[0m\u001b[32m\\\\text\u001b[0m\u001b[32m{\u001b[0m\u001b[32mbo\u001b[0m\u001b[32m}\u001b[0m\u001b[32mn\u001b[0m\u001b[32m}\u001b[0m\u001b[32m, \\\\beta_\\\\text\u001b[0m\u001b[32m{\u001b[0m\u001b[32mRL\u001b[0m\u001b[32m}\u001b[0m\u001b[32m$ are empirically fit according to data, displayed as functions of the reward model size. The coefficient $\\\\alpha_\\\\text\u001b[0m\u001b[32m{\u001b[0m\u001b[32mRL\u001b[0m\u001b[32m}\u001b[0m\u001b[32m$ is not included here because it remains constant across RM sizes. \u001b[0m\u001b[32m(\u001b[0m\u001b[32mImage source: Gao et al. 2022\u001b[0m\u001b[32m)\u001b[0m\u001b[32m\\n\\nTheir experiments also explored the relationship between RM overoptimization and factors like policy model size and RM data size:\\n\\nLarger policies see less benefit from optimization \u001b[0m\u001b[32m(\u001b[0m\u001b[32mi.e., the difference between initial and peak rewards is smaller than that of a smaller policy\u001b[0m\u001b[32m)\u001b[0m\u001b[32m against an RM, but also overoptimize less.\\nMore RM data leads to higher gold reward scores and reduces “Goodharting”.\\nThe effect of the KL penalty on the gold score resembles early stopping. Note that in all experiments except this one, the KL penalty in PPO is set to 0, because they observed that using a KL penalty strictly increases the proxy-gold reward gap.\\n\\nRLHF aims to improve the model’s alignment with human preference, but human feedback $R^\\\\text\u001b[0m\u001b[32m{\u001b[0m\u001b[32mhuman\u001b[0m\u001b[32m}\u001b[0m\u001b[32m$ may not capture all the aspects we care about \u001b[0m\u001b[32m(\u001b[0m\u001b[32me.g., factuality\u001b[0m\u001b[32m)\u001b[0m\u001b[32m and thus can be hacked to overfit to undesired attributes. For example, the model may be optimized to output responses that seem correct and convincing but are, in fact, inaccurate, thereby misleading human evaluators to approve its incorrect answers more often \u001b[0m\u001b[32m(\u001b[0m\u001b[32mWen et al., 2024\u001b[0m\u001b[32m)\u001b[0m\u001b[32m. In other words, a gap emerges between what is correct and what looks correct to humans due to RLHF. Precisely Wen et al. \u001b[0m\u001b[32m(\u001b[0m\u001b[32m2024\u001b[0m\u001b[32m)\u001b[0m\u001b[32m ran RLHF experiments using a reward model based on ChatbotArena data. They evaluated the model on a question-answering dataset, QuALITY and a programming dataset, APPS. Their experiments revealed that models become better at convincing humans they are correct, even when they are wrong and this effect is unintended:\\n\\nRLHF increases human approval, but not necessarily correctness.\\nRLHF weakens humans’ ability to evaluate: The error rate of human evaluation is higher after RLHF training.\\nRLHF makes incorrect outputs more convincing to humans. The evaluation false positive rate significantly increases after RLHF training.\\n\\nThe paper coined this effect “U-Sophistry” \u001b[0m\u001b[32m(\u001b[0m\u001b[32m“U” for “unintended”\u001b[0m\u001b[32m)\u001b[0m\u001b[32m, as opposed to “I-Sophistry” \u001b[0m\u001b[32m(\u001b[0m\u001b[32m“I” for “intended”\u001b[0m\u001b[32m)\u001b[0m\u001b[32m, which involves explicitly prompting the model with instructions like \"... try to deceive human subjects\".\\n\\n\\nRLHF makes LLMs better at convincing human evaluators to approve their incorrect answers. \u001b[0m\u001b[32m(\u001b[0m\u001b[32mImage source: Wen et al. 2024\u001b[0m\u001b[32m)\u001b[0m\u001b[32m\\n\\n\\nThe human evaluation error change is not due to noise in the recruiting process since \u001b[0m\u001b[32m(\u001b[0m\u001b[32m1\u001b[0m\u001b[32m)\u001b[0m\u001b[32m at an individual level, the majority \u001b[0m\u001b[32m(\u001b[0m\u001b[32m70-90%\u001b[0m\u001b[32m)\u001b[0m\u001b[32m of human evaluators raw their evaluation error rates increase, and \u001b[0m\u001b[32m(\u001b[0m\u001b[32m2\u001b[0m\u001b[32m)\u001b[0m\u001b[32m the effort they put into evaluating $\\\\pi_\\\\text\u001b[0m\u001b[32m{\u001b[0m\u001b[32minit\u001b[0m\u001b[32m}\u001b[0m\u001b[32m$ or $\\\\pi_\\\\text\u001b[0m\u001b[32m{\u001b[0m\u001b[32mrlhf\u001b[0m\u001b[32m}\u001b[0m\u001b[32m$ is equivalent, measured by metrics like time spent or unit tests written. Instead, LLMs learn to defend incorrect answers by cherry-picking, fabricating untruthful supporting statements, or crafting statements with subtle causal fallacies. What they observed about how the model behaves after RLHF:\\n\\nIn the long-form QA task:\\n\\nCreating more convincing fabricated evidence.\\nUsing more consistent logic for incorrect answers.\\nGenerating coherent answers with subtle fallacies.\\n\\n\\nIn the coding task:\\n\\nHacking human written unit tests\\nGenerating less readable tests \u001b[0m\u001b[32m(\u001b[0m\u001b[32me.g. fewer helper functions and higher code complexity\u001b[0m\u001b[32m)\u001b[0m\u001b[32m.\\nMaking $\\\\pi_\\\\text\u001b[0m\u001b[32m{\u001b[0m\u001b[32mrlhf\u001b[0m\u001b[32m}\u001b[0m\u001b[32m$ less likely to generate easily detectable errors that humans can exploit.\\n\\n\\n\\n\\n\\nThe metrics of code modularity \u001b[0m\u001b[32m(\u001b[0m\u001b[32mnumber of helper functions\u001b[0m\u001b[32m)\u001b[0m\u001b[32m and Cyclomatic Complexity for generated correct and incorrect code, respectively. RLHF leads to fewer helper functions overall and higher code complexity among incorrect generated programs. This unsurprisingly would increase difficulty of human evaluation. \u001b[0m\u001b[32m(\u001b[0m\u001b[32mImage source: Wen et al. 2024\u001b[0m\u001b[32m)\u001b[0m\u001b[32m\\n\\nExamples of evaluation scripts in the \"Tool-use flattery\" and \"Reward tampering\" environments, where `` is hidden from oversight and `` can be executed in a VM. \u001b[0m\u001b[32m(\u001b[0m\u001b[32mImage source: Denison et al. 2024\u001b[0m\u001b[32m)\u001b[0m\u001b[32m\\n\\nThe model was trained following this curriculum, and the paper measured whether the model can learn gaming behaviors that generalize to unseen environments. Experimenting with Claude-2 helpful-only model, they sampled $\u001b[0m\u001b[32mN\u001b[0m\u001b[32m=\u001b[0m\u001b[32m64\u001b[0m\u001b[32m$ responses per each of $\u001b[0m\u001b[32mP\u001b[0m\u001b[32m=\u001b[0m\u001b[32m1024\u001b[0m\u001b[32m$ HHH prompts for expert iteration and selected the best according to RM. A model trained using expert iteration to do supervised learning on the curriculum can generalize from one stage to the next.\\n\\n\\nQuantitative generalization results of a model trained with expert iteration according to our curriculum from each stage to the next. \u001b[0m\u001b[32m(\u001b[0m\u001b[32mImage source: Denison et al. 2024\u001b[0m\u001b[32m)\u001b[0m\u001b[32m\\n\\nIt is noteworthy that even after the curriculum, the model overwrote the reward and avoided detection less than 1/1000 of the time. Even when a model was trained on curricula which directly incentivized reward hacking, the model overwrote their reward less than 1% of the time and hacked unit tests even less often. As a simple mitigation, supervised fine-tuning the model on the first two environments–where the reward hacking behavior is easy to be detected \u001b[0m\u001b[32m(\u001b[0m\u001b[32msycophancy and flattery\u001b[0m\u001b[32m)\u001b[0m\u001b[32m—with SFT data that does not game the env was found to reduce the likelihood of reward tampering in holdout environments.\\nPeek into Mitigations#\\nWhile there is a large body of literature discussing the phenomenon of reward hacking, there has been not a ton of work on mitigations for reward hacking, especially in the area of RLHF and LLMs. Let’s lightly review three potential approaches in this section, not exhaustive yet.\\nRL Algorithm Improvement#\\nAmodei et al. \u001b[0m\u001b[32m(\u001b[0m\u001b[32m2016\u001b[0m\u001b[32m)\u001b[0m\u001b[32m pointed out some directions for mitigating reward hacking in RL training:\\n\\nAdversarial reward functions. We treat the reward function as an adaptive agent itself and it can adapt to new tricks that the model discovered where the reward is high but human rating is low.\\nModel lookahead. It is possible to give reward based on future anticipated states; e.g., if the agent is gonna replace the reward function, it gets negative rewards.\\nAdversarial blinding. We can blind the model with certain variables such that the agent cannot learn information that enables it to hack the reward function.\\nCareful engineering. Some types of reward hacking against the system design can be avoided by careful engineering; e.g., sandboxing the agent to isolate its actions from its reward signals.\\nReward capping. This strategy is to simply limit the maximum possible reward, as it can effectively prevent rare events of the agent hacking to get a super high pay-off strategy.\\nCounterexample resistance. Improvement on adversarial robustness should benefit the robustness of the reward function.\\nCombination of multiple rewards. Combining different types of rewards could make it harder to be hacked.\\nReward pretraining. We can learn a reward function from a collection of \u001b[0m\u001b[32m(\u001b[0m\u001b[32mstate, reward\u001b[0m\u001b[32m)\u001b[0m\u001b[32m samples, but depending on how well this supervised training setup is, it may come with other baggages. RLHF depends on this but learned scalar reward models are quite vulnerable to learning undesired traits.\\nVariable indifference. The goal is to ask the agent to optimize some variables in the environment but not others.\\nTrip wires. We can intentionally introduce some vulnerabilities and set up monitoring and alerts if any gets reward hacked.\\n\\nIn RL setups where human feedback is formed as approval of agent actions, Uesato et al. \u001b[0m\u001b[32m(\u001b[0m\u001b[32m2020\u001b[0m\u001b[32m)\u001b[0m\u001b[32m proposed to prevent reward tampering with decoupled approval.  If the feedback is conditioned on $\u001b[0m\u001b[32m(\u001b[0m\u001b[32ms, a\u001b[0m\u001b[32m)\u001b[0m\u001b[32m$ \u001b[0m\u001b[32m(\u001b[0m\u001b[32mstate, action\u001b[0m\u001b[32m)\u001b[0m\u001b[32m, we can never get uncorrupted feedback for action $a$ at state $s$ once reward tampering happens for this pair. Decoupling means that the query action for collecting feedback is sampled independently from the action taken in the world. Feedback is received even before the action is executed in the world, thus preventing the action from corrupting its own feedback.\\n\\n\\nIllustration of how decoupled approval works in comparison to standard approval or human-in-the-loop RL. \u001b[0m\u001b[32m(\u001b[0m\u001b[32mImage source: Uesato et al. 2020\u001b[0m\u001b[32m)\u001b[0m\u001b[32m\\n\\n\\n\\nWith decoupled approval, the action \u001b[0m\u001b[32m(\u001b[0m\u001b[32mtaken in the world\u001b[0m\u001b[32m)\u001b[0m\u001b[32m and the query \u001b[0m\u001b[32m(\u001b[0m\u001b[32mfor getting user approval feedback\u001b[0m\u001b[32m)\u001b[0m\u001b[32m are sampled independently. It can be applied to \u001b[0m\u001b[32m(\u001b[0m\u001b[32mLeft\u001b[0m\u001b[32m)\u001b[0m\u001b[32m policy gradient and \u001b[0m\u001b[32m(\u001b[0m\u001b[32mRight\u001b[0m\u001b[32m)\u001b[0m\u001b[32m Q-learning algorithms. \u001b[0m\u001b[32m(\u001b[0m\u001b[32mImage source: Uesato et al. 2020\u001b[0m\u001b[32m)\u001b[0m\u001b[32m\\n\\nDetecting Reward Hacking#\\nAn alternative mitigation is to detect reward hacking by framing it as an anomaly detection task, where the detector \u001b[0m\u001b[32m(\u001b[0m\u001b[32m“a trusted policy” with trajectories and rewards validated by human\u001b[0m\u001b[32m)\u001b[0m\u001b[32m should flag instances of misalignment \u001b[0m\u001b[32m(\u001b[0m\u001b[32mPan et al. 2022\u001b[0m\u001b[32m)\u001b[0m\u001b[32m. Given \u001b[0m\u001b[32m(\u001b[0m\u001b[32m1\u001b[0m\u001b[32m)\u001b[0m\u001b[32m a trusted policy and \u001b[0m\u001b[32m(\u001b[0m\u001b[32m2\u001b[0m\u001b[32m)\u001b[0m\u001b[32m a collection of manually labeled trajectory rollouts, we can build a binary classifier based on distances between action distribution of two policies, the trusted policy and the target policy, and measure the accuracy of this anomaly detection classifier. In experiments by Pan et al. \u001b[0m\u001b[32m(\u001b[0m\u001b[32m2022\u001b[0m\u001b[32m)\u001b[0m\u001b[32m, they observed that different detectors are better for different tasks and none of the tested classifier can achieve AUROC greater than 60% across all tested RL environments.\\n\\n\\nPerformance of detectors on different tasks. \u001b[0m\u001b[32m(\u001b[0m\u001b[32mImage source: Pan et al. 2022\u001b[0m\u001b[32m)\u001b[0m\u001b[32m\\n\\nData Analysis of RLHF#\\n`\\nAnother approach is to analyze RLHF dataset. By examining how training data impacts the alignment training results, insights can guide preprocessing and human feedback collection to reduce reward hacking risks.\\nRevel et al. \u001b[0m\u001b[32m(\u001b[0m\u001b[32m2024\u001b[0m\u001b[32m)\u001b[0m\u001b[32m introduced a set of evaluation metrics for measuring the effectiveness of data sample features in modeling and aligning human values. They conducted a systematic error analysis for value alignment \u001b[0m\u001b[32m(\u001b[0m\u001b[32m“SEAL”\u001b[0m\u001b[32m)\u001b[0m\u001b[32m in the HHH-RLHF dataset. The feature taxonomy used in the analysis \u001b[0m\u001b[32m(\u001b[0m\u001b[32me.g., is harmless, is refusal and is creative\u001b[0m\u001b[32m)\u001b[0m\u001b[32m was manually predefined. Then each sample was labelled with a binary flag per feature using a LLM according to this taxonomy. Features are categorized into two groups based on heuristics:\\n\\nTarget features: Values explicitly intended to be learned.\\nSpoiler features: Unintended values inadvertently learned during training \u001b[0m\u001b[32m(\u001b[0m\u001b[32me.g., stylistic features like sentiment or coherence\u001b[0m\u001b[32m)\u001b[0m\u001b[32m. These are similar to spurious features in OOD classification work \u001b[0m\u001b[32m(\u001b[0m\u001b[32mGeirhos et al. 2020\u001b[0m\u001b[32m)\u001b[0m\u001b[32m.\\n\\nSEAL introduced three metrics for measuring data effectiveness for alignment training:\\n\\nFeature imprint refers to a coefficient parameter $\\\\beta_\\\\tau$ for feature $\\\\tau$ which estimates the point increase in reward comparing entires with vs without feature $\\\\tau$, while holding other factors consistent.\\n\\n\\n\\n\u001b[0m\u001b[32m(\u001b[0m\u001b[32mLeft\u001b[0m\u001b[32m)\u001b[0m\u001b[32m Feature imprints $\\\\underline\u001b[0m\u001b[32m{\u001b[0m\u001b[32m\\\\beta\u001b[0m\u001b[32m(\u001b[0m\u001b[32m\\\\tau\u001b[0m\u001b[32m)\u001b[0m\u001b[32m}\u001b[0m\u001b[32m$ \u001b[0m\u001b[32m(\u001b[0m\u001b[32mpre-\u001b[0m\u001b[32m)\u001b[0m\u001b[32m and $\\\\beta\u001b[0m\u001b[32m(\u001b[0m\u001b[32m\\\\tau\u001b[0m\u001b[32m)\u001b[0m\u001b[32m$ \u001b[0m\u001b[32m(\u001b[0m\u001b[32mpost-\u001b[0m\u001b[32m)\u001b[0m\u001b[32m computed from fixed-effects linear regression of rewards $\\\\underline\u001b[0m\u001b[32m{\u001b[0m\u001b[32mr\u001b[0m\u001b[32m}\u001b[0m\u001b[32m(\u001b[0m\u001b[32mt^∗_i\u001b[0m\u001b[32m)\u001b[0m\u001b[32m$ \u001b[0m\u001b[32m(\u001b[0m\u001b[32morange\u001b[0m\u001b[32m)\u001b[0m\u001b[32m and $r\u001b[0m\u001b[32m(\u001b[0m\u001b[32mt^∗_i\u001b[0m\u001b[32m)\u001b[0m\u001b[32m$ \u001b[0m\u001b[32m(\u001b[0m\u001b[32mblue\u001b[0m\u001b[32m)\u001b[0m\u001b[32m against features. Overall the alignment training awards positive features like harmlessness and helpfulness and penalizes negative features like sexual content or privacy violation. \u001b[0m\u001b[32m(\u001b[0m\u001b[32mRight\u001b[0m\u001b[32m)\u001b[0m\u001b[32m Feature imprints computed from linear regression of the reward shift $\\\\theta_i$. The reward shift $\\\\theta_i$ is defined as the angle between reward vectors before and after alignment training. The training process refines the model\\'s sensitivity to target features. Note that harmlessness imprints on the RM through both chosen and rejected entries \u001b[0m\u001b[32m(\u001b[0m\u001b[32mboth \"is harmless \u001b[0m\u001b[32m(\u001b[0m\u001b[32mc\u001b[0m\u001b[32m)\u001b[0m\u001b[32m\" and \"is harmless \u001b[0m\u001b[32m(\u001b[0m\u001b[32mr\u001b[0m\u001b[32m)\u001b[0m\u001b[32m\"\u001b[0m\u001b[32m)\u001b[0m\u001b[32m, while helpfulness imprints through rejected entries only \u001b[0m\u001b[32m(\u001b[0m\u001b[32m\"is helpful \u001b[0m\u001b[32m(\u001b[0m\u001b[32mr\u001b[0m\u001b[32m)\u001b[0m\u001b[32m\"\u001b[0m\u001b[32m)\u001b[0m\u001b[32m. \u001b[0m\u001b[32m(\u001b[0m\u001b[32mImage source: Revel et al. 2024\u001b[0m\u001b[32m)\u001b[0m\u001b[32m\\n\\n\\nAlignment resistance is the percentage of the preference data pairs where RMs fail to match human preferences. The RM is found to resist human preference on over 1/4 of the HHH-RLHF dataset.\\nAlignment robustness, $\\\\pi^\u001b[0m\u001b[32m{\u001b[0m\u001b[32mc/r\u001b[0m\u001b[32m}\u001b[0m\u001b[32m_\u001b[0m\u001b[32m{\u001b[0m\u001b[32m+/-\u001b[0m\u001b[32m}\u001b[0m\u001b[32m \u001b[0m\u001b[32m(\u001b[0m\u001b[32m\\\\tau\u001b[0m\u001b[32m)\u001b[0m\u001b[32m$, measures the extent to which alignment is robust to perturbed inputs with rewriting in terms of spoiler features $\\\\tau$ like sentiment, eloquence and coherency, isolating the effects of each feature and each event type.\\n\\nThe robustness metric $\\\\pi_−^c$ \u001b[0m\u001b[32m(\u001b[0m\u001b[32ma feature name $\\\\tau$ such as “eloquent” or “sentiment positive”\u001b[0m\u001b[32m)\u001b[0m\u001b[32m should be interpreted in such a way:\\n\\nA chosen entry \u001b[0m\u001b[32m(\u001b[0m\u001b[32mdenoted by $c$\u001b[0m\u001b[32m)\u001b[0m\u001b[32m that contains a stronger feature $\\\\tau$ after rewriting has $\\\\exp \u001b[0m\u001b[32m(\u001b[0m\u001b[32m\\\\pi^c_\u001b[0m\u001b[32m{\u001b[0m\u001b[32m-\u001b[0m\u001b[32m}\u001b[0m\u001b[32m(\u001b[0m\u001b[32m\\\\tau\u001b[0m\u001b[32m)\u001b[0m\u001b[32m)\u001b[0m\u001b[32m$  times higher odds of becoming rejected, in comparison to others without such flips.\\nSimilarly, a rejected entry \u001b[0m\u001b[32m(\u001b[0m\u001b[32mdenoted by $r$\u001b[0m\u001b[32m)\u001b[0m\u001b[32m that obtains a weaker feature $\\\\tau$ after rewriting has $\\\\exp \u001b[0m\u001b[32m(\u001b[0m\u001b[32m\\\\pi^r_\u001b[0m\u001b[32m{\u001b[0m\u001b[32m+\u001b[0m\u001b[32m}\u001b[0m\u001b[32m(\u001b[0m\u001b[32m\\\\tau\u001b[0m\u001b[32m)\u001b[0m\u001b[32m)\u001b[0m\u001b[32m$ times odds of becoming chosen compared to others without such flips.\\n\\n\\nAccording to their analysis of alignment robustness metrics in terms of different rewriting, only the robustness scores based on sentiment spoiler features, $\\\\pi^c_\u001b[0m\u001b[32m{\u001b[0m\u001b[32m+\u001b[0m\u001b[32m}\u001b[0m\u001b[32m$ \u001b[0m\u001b[32m(\u001b[0m\u001b[32msentiment\u001b[0m\u001b[32m)\u001b[0m\u001b[32m and $\\\\pi^r_\u001b[0m\u001b[32m{\u001b[0m\u001b[32m-\u001b[0m\u001b[32m}\u001b[0m\u001b[32m$ \u001b[0m\u001b[32m(\u001b[0m\u001b[32msentiment\u001b[0m\u001b[32m)\u001b[0m\u001b[32m, are statistically significant.\\n\\n\\n\\nCitation#\\nCited as:\\n\\nWeng, Lilian. “Reward Hacking in Reinforcement Learning”. Lil’Log \u001b[0m\u001b[32m(\u001b[0m\u001b[32mNov 2024\u001b[0m\u001b[32m)\u001b[0m\u001b[32m. https://lilianweng.github.io/posts/2024-11-28-reward-hacking/.\\n\\nOr\\n@article\u001b[0m\u001b[32m{\u001b[0m\u001b[32mweng2024rewardhack,\\n  title   = \"Reward Hacking in Reinforcement Learning.\",\\n  author  = \"Weng, Lilian\",\\n  journal = \"lilianweng.github.io\",\\n  year    = \"2024\",\\n  month   = \"Nov\",\\n  url     = \"https://lilianweng.github.io/posts/2024-11-28-reward-hacking/\"\\n\u001b[0m\u001b[32m}\u001b[0m\u001b[32m\\nReferences#\\n\u001b[0m\u001b[32m[\u001b[0m\u001b[32m1\u001b[0m\u001b[32m]\u001b[0m\u001b[32m Andrew Ng & Stuart Russell. “Algorithms for inverse reinforcement learning.”. ICML 2000.\\n\u001b[0m\u001b[32m[\u001b[0m\u001b[32m2\u001b[0m\u001b[32m]\u001b[0m\u001b[32m Amodei et al. “Concrete problems in AI safety: Avoid reward hacking.” arXiv preprint arXiv:1606.06565 \u001b[0m\u001b[32m(\u001b[0m\u001b[32m2016\u001b[0m\u001b[32m)\u001b[0m\u001b[32m.\\n\u001b[0m\u001b[32m[\u001b[0m\u001b[32m3\u001b[0m\u001b[32m]\u001b[0m\u001b[32m Krakovna et al. “Specification gaming: the flip side of AI ingenuity.” 2020.\\n\u001b[0m\u001b[32m[\u001b[0m\u001b[32m4\u001b[0m\u001b[32m]\u001b[0m\u001b[32m Langosco et al. “Goal Misgeneralization in Deep Reinforcement Learning” ICML 2022.\\n\u001b[0m\u001b[32m[\u001b[0m\u001b[32m5\u001b[0m\u001b[32m]\u001b[0m\u001b[32m Everitt et al. “Reinforcement learning with a corrupted reward channel.” IJCAI 2017.\\n\u001b[0m\u001b[32m[\u001b[0m\u001b[32m6\u001b[0m\u001b[32m]\u001b[0m\u001b[32m Geirhos et al. “Shortcut Learning in Deep Neural Networks.” Nature Machine Intelligence 2020.\\n\u001b[0m\u001b[32m[\u001b[0m\u001b[32m7\u001b[0m\u001b[32m]\u001b[0m\u001b[32m Ribeiro et al. “Why Should I Trust You?”: Explaining the Predictions of Any Classifier. KDD 2016.\\n\u001b[0m\u001b[32m[\u001b[0m\u001b[32m8\u001b[0m\u001b[32m]\u001b[0m\u001b[32m Nagarajan et al. “Understanding the Failure Modes of Out-of-Distribution Generalization.” ICLR 2021.\\n\u001b[0m\u001b[32m[\u001b[0m\u001b[32m9\u001b[0m\u001b[32m]\u001b[0m\u001b[32m Garrabrant. “Goodhart Taxonomy”. AI Alignment Forum \u001b[0m\u001b[32m(\u001b[0m\u001b[32mDec 30th 2017\u001b[0m\u001b[32m)\u001b[0m\u001b[32m.\\n\u001b[0m\u001b[32m[\u001b[0m\u001b[32m10\u001b[0m\u001b[32m]\u001b[0m\u001b[32m Koch et al. “Objective robustness in deep reinforcement learning.” 2021.\\n\u001b[0m\u001b[32m[\u001b[0m\u001b[32m11\u001b[0m\u001b[32m]\u001b[0m\u001b[32m Pan et al. “The effects of reward misspecification: mapping and mitigating misaligned models.”\\n\u001b[0m\u001b[32m[\u001b[0m\u001b[32m12\u001b[0m\u001b[32m]\u001b[0m\u001b[32m Everitt et al. “Reward tampering problems and solutions in reinforcement learning: A causal influence diagram perspective.” arXiv preprint arXiv:1908.04734 \u001b[0m\u001b[32m(\u001b[0m\u001b[32m2019\u001b[0m\u001b[32m)\u001b[0m\u001b[32m.\\n\u001b[0m\u001b[32m[\u001b[0m\u001b[32m13\u001b[0m\u001b[32m]\u001b[0m\u001b[32m Gleave et al. “Adversarial Policies: Attacking Deep Reinforcement Learning.” ICRL 2020\\n\u001b[0m\u001b[32m[\u001b[0m\u001b[32m14\u001b[0m\u001b[32m]\u001b[0m\u001b[32m “Reward hacking behavior can generalize across tasks.”\\n\u001b[0m\u001b[32m[\u001b[0m\u001b[32m15\u001b[0m\u001b[32m]\u001b[0m\u001b[32m Ng et al. “Policy invariance under reward transformations: Theory and application to reward shaping.” ICML 1999.\\n\u001b[0m\u001b[32m[\u001b[0m\u001b[32m16\u001b[0m\u001b[32m]\u001b[0m\u001b[32m Wang et al. “Large Language Models are not Fair Evaluators.” ACL 2024.\\n\u001b[0m\u001b[32m[\u001b[0m\u001b[32m17\u001b[0m\u001b[32m]\u001b[0m\u001b[32m Liu et al. “LLMs as narcissistic evaluators: When ego inflates evaluation scores.” ACL 2024.\\n\u001b[0m\u001b[32m[\u001b[0m\u001b[32m18\u001b[0m\u001b[32m]\u001b[0m\u001b[32m Gao et al. “Scaling Laws for Reward Model Overoptimization.” ICML 2023.\\n\u001b[0m\u001b[32m[\u001b[0m\u001b[32m19\u001b[0m\u001b[32m]\u001b[0m\u001b[32m Pan et al. “Spontaneous Reward Hacking in Iterative Self-Refinement.” arXiv preprint arXiv:2407.04549 \u001b[0m\u001b[32m(\u001b[0m\u001b[32m2024\u001b[0m\u001b[32m)\u001b[0m\u001b[32m.\\n\u001b[0m\u001b[32m[\u001b[0m\u001b[32m20\u001b[0m\u001b[32m]\u001b[0m\u001b[32m Pan et al. “Feedback Loops With Language Models Drive In-Context Reward Hacking.” arXiv preprint arXiv:2402.06627 \u001b[0m\u001b[32m(\u001b[0m\u001b[32m2024\u001b[0m\u001b[32m)\u001b[0m\u001b[32m.\\n\u001b[0m\u001b[32m[\u001b[0m\u001b[32m21\u001b[0m\u001b[32m]\u001b[0m\u001b[32m Shrama et al. “Towards Understanding Sycophancy in Language Models.” arXiv preprint arXiv:2310.13548 \u001b[0m\u001b[32m(\u001b[0m\u001b[32m2023\u001b[0m\u001b[32m)\u001b[0m\u001b[32m.\\n\u001b[0m\u001b[32m[\u001b[0m\u001b[32m22\u001b[0m\u001b[32m]\u001b[0m\u001b[32m Denison et al. “Sycophancy to subterfuge: Investigating reward tampering in language models.” arXiv preprint arXiv:2406.10162 \u001b[0m\u001b[32m(\u001b[0m\u001b[32m2024\u001b[0m\u001b[32m)\u001b[0m\u001b[32m.\\n\u001b[0m\u001b[32m[\u001b[0m\u001b[32m23\u001b[0m\u001b[32m]\u001b[0m\u001b[32m Uesato et al. “Avoiding Tampering Incentives in Deep RL via Decoupled Approval.” arXiv preprint arXiv:2011.08827 \u001b[0m\u001b[32m(\u001b[0m\u001b[32m2020\u001b[0m\u001b[32m)\u001b[0m\u001b[32m.\\n\u001b[0m\u001b[32m[\u001b[0m\u001b[32m24\u001b[0m\u001b[32m]\u001b[0m\u001b[32m Amin and Singh. “Towards resolving unidentifiability in inverse reinforcement learning.”\\n\u001b[0m\u001b[32m[\u001b[0m\u001b[32m25\u001b[0m\u001b[32m]\u001b[0m\u001b[32m Wen et al. “Language Models Learn to Mislead Humans via RLHF.” arXiv preprint arXiv:2409.12822 \u001b[0m\u001b[32m(\u001b[0m\u001b[32m2024\u001b[0m\u001b[32m)\u001b[0m\u001b[32m.\\n\u001b[0m\u001b[32m[\u001b[0m\u001b[32m26\u001b[0m\u001b[32m]\u001b[0m\u001b[32m Revel et al. “SEAL: Systematic Error Analysis for Value ALignment.” arXiv preprint arXiv:2408.10270 \u001b[0m\u001b[32m(\u001b[0m\u001b[32m2024\u001b[0m\u001b[32m)\u001b[0m\u001b[32m.\\n\u001b[0m\u001b[32m[\u001b[0m\u001b[32m27\u001b[0m\u001b[32m]\u001b[0m\u001b[32m Yuval Noah Harari. “Nexus: A Brief History of Information Networks from the Stone Age to AI.” Signal; 2024 Sep 10.\\n\\n\\n\\nLanguage-Model\\nRlhf\\nAlignment\\nSafety\\nReinforcement-Learning\\nLong-Read\\n\\n\\n\\n« \\n\\nWhy We Think\\n\\n\\n »\\n\\nExtrinsic Hallucinations in LLMs\\n\\n\\n\\n\\n\\n\\n\\n\\n\\n\\n\\n\\n\\n\\n\\n\\n\\n\\n\\n\\n\\n\\n\\n\\n\\n\\n\\n\\n\\n\\n\\n\\n\\n\\n\\n\\n\\n\\n© 2025 Lil\\'Log\\n\\n        Powered by\\n        Hugo &\\n        PaperMod'\u001b[0m\n"
            ],
            "text/html": [
              "<pre style=\"white-space:pre;overflow-x:auto;line-height:normal;font-family:Menlo,'DejaVu Sans Mono',consolas,'Courier New',monospace\"><span style=\"color: #008000; text-decoration-color: #008000\">'Reward Hacking in Reinforcement Learning | Lil\\'Log\\n\\n\\n\\n\\n\\n\\n\\n\\n\\n\\n\\n\\n\\n\\n\\n\\n\\n\\n\\n\\n\\n\\n\\n\\n\\n\\n\\n\\n\\n\\n\\n\\n\\n\\n\\n\\n\\n\\n\\n\\nLil\\'Log\\n\\n\\n\\n\\n\\n\\n\\n\\n\\n\\n\\n\\n\\n\\n\\n\\n\\n|\\n\\n\\n\\n\\n\\n\\nPosts\\n\\n\\n\\n\\nArchive\\n\\n\\n\\n\\nSearch\\n\\n\\n\\n\\nTags\\n\\n\\n\\n\\nFAQ\\n\\n\\n\\n\\n\\n\\n\\n\\n\\n      Reward Hacking in Reinforcement Learning\\n    \\nDate: November 28, 2024  |  Estimated Reading Time: 37 min  |  Author: Lilian Weng\\n\\n\\n \\n\\n\\nTable of Contents\\n\\n\\n\\nBackground\\n\\nReward Function in RL\\n\\nSpurious Correlation\\n\\n\\nLet’s Define Reward Hacking\\n\\nList of Examples\\n\\nReward hacking examples in RL tasks\\n\\nReward hacking examples in LLM tasks\\n\\nReward hacking examples in real life\\n\\n\\nWhy does Reward Hacking Exist?\\n\\n\\nHacking RL Environment\\n\\nHacking RLHF of LLMs\\n\\nHacking the Training Process\\n\\nHacking the Evaluator\\n\\nIn-Context Reward Hacking\\n\\n\\nGeneralization of Hacking Skills\\n\\nPeek into Mitigations\\n\\nRL Algorithm Improvement\\n\\nDetecting Reward Hacking\\n\\nData Analysis of RLHF\\n\\n\\nCitation\\n\\nReferences\\n\\n\\n\\n\\n\\nReward hacking occurs when a reinforcement learning (RL) agent exploits flaws or ambiguities in the reward function to achieve high rewards, without genuinely learning or completing the intended task. Reward hacking exists because RL environments are often imperfect, and it is fundamentally challenging to accurately specify a reward function.\\nWith the rise of language models generalizing to a broad spectrum of tasks and RLHF becomes a de facto method for alignment training, reward hacking in RL training of language models has become a critical practical challenge. Instances where the model learns to modify unit tests to pass coding tasks, or where responses contain biases that mimic a user’s preference, are pretty concerning and are likely one of the major blockers for real-world deployment of more autonomous use cases of AI models.\\nMost of the past work on this topic has been quite theoretical and focused on defining or demonstrating the existence of reward hacking. However, research into practical mitigations, especially in the context of RLHF and LLMs, remains limited. I especially want to call out for more research efforts directed toward understanding and developing mitigation for reward hacking in the future. Hope I will be able to cover the mitigation part in a dedicated post soon.\\nBackground#\\nReward Function in RL#\\nReward function defines the task, and reward shaping significantly impacts learning efficiency and accuracy in reinforcement learning. Designing a reward function for an RL task often feels like a ‘dark art’. Many factors contribute to this complexity: How you decompose a big goal into small goals? Is the reward sparse or dense? How you measure the success? Various choices may lead to good or problematic learning dynamics, including unlearnable tasks or hackable reward functions. There is a long history of research on how to do reward shaping in RL.\\nFor example, in an 1999 paper by Ng et al., the authors studied how to modify the reward function in Markov Decision Processes (MDPs) such that the optimal policy remains unchanged. They found that linear transformation works. Given a MDP $M = (S, A, T, \\\\gamma, R)$, we want to create a transformed MDP $M’ = (S, A, T, \\\\gamma, R’)$ where $R’ = R + F$ and $F: S \\\\times A \\\\times S \\\\mapsto \\\\mathbb{R}$, such that we can guide the learning algorithm to be more efficient. Given a real-valued function $\\\\Phi: S \\\\mapsto \\\\mathbb{R}$, $F$ is a potential-based shaping function if for all $s \\\\in S - {s_0}, a \\\\in A, s’ \\\\in S$:\\n\\n$$\\nF(s, a, s\\') = \\\\gamma \\\\Phi(s\\') - \\\\Phi(s)\\n$$\\n\\nThis would guarantee that the sum of discounted $F$, $F(s_1, a_1, s_2) + \\\\gamma F(s_2, a_2, s_3) + \\\\dots$, ends up being 0. If $F$ is such a potential-based shaping function, it is both sufficient and necessary to ensure $M$ and $M’$ share the same optimal policies.\\nWhen $F(s, a, s’) = \\\\gamma \\\\Phi(s’) - \\\\Phi(s)$, and if we further assume that $\\\\Phi(s_0) = 0$, where $s_0$ is absorbing state, and $\\\\gamma=1$, and then for all $s \\\\in S, a \\\\in A$:\\n\\n$$\\n\\\\begin{aligned}\\nQ^*_{M\\'} (s,a) &amp;= Q^*_M(s, a) - \\\\Phi(s) \\\\\\\\\\nV^*_{M\\'} (s,a) &amp;= V^*_M(s, a) - \\\\Phi(s)\\n\\\\end{aligned}\\n$$\\n\\nThis form of reward shaping allows us to incorporate heuristics into the reward function to speed up learning without impacting the optimal policy.\\nSpurious Correlation#\\nSpurious correlation or shortcut learning (Geirhos et al. 2020) in classification task is a concept closely related to reward hacking. Spurious or shortcut features can cause a classifier to fail at learning and generalizing as intended. For example, a binary classifier for distinguishing wolves from huskies may overfit to the presence of a snowy background if all the wolf training images include snow (Ribeiro et al. 2024).\\n\\n\\nThe model performs poorly on out-of-distribution (OOD) test sets if it overfits to shortcut features. (Image source: Geirhos et al. 2020)\\n\\nThe ERM principle states that, since the full data distribution is unknown, minimizing the loss on training data is a reasonable proxy of risk and thus we favor models with the lowest training loss. Nagarajan et al. (2021) studied the ERM principle and pointed out that ERM needs to rely on all types of informative features, including unreliable spurious features, while attempting to fit the data without constraints. Their experiments showed that ERM would depend on spurious features no matter how easy the task is.\\nLet’s Define Reward Hacking#\\nReward shaping in RL is challenging. Reward hacking occurs when an RL agent exploits flaws or ambiguities in the reward function to obtain high rewards without genuinely learning the intended behaviors or completing the task as designed. In recent years, several related concepts have been proposed, all referring to some form of reward hacking:\\n\\nReward hacking (Amodei et al., 2016)\\nReward corruption (Everitt et al., 2017)\\nReward tampering (Everitt et al. 2019)\\nSpecification gaming (Krakovna et al., 2020)\\nObjective robustness (Koch et al. 2021)\\nGoal misgeneralization (Langosco et al. 2022)\\nReward misspecifications (Pan et al. 2022)\\n\\nThe concept originated with Amodei et al. (2016), who proposed a set of open research questions on AI safety in their seminal paper “Concrete Problems in AI Safety”. They listed reward hacking as one of the key AI safety problems. Reward hacking refers to the possibility of the agent gaming the reward function to achieve high reward through undesired behavior.  Specification gaming (Krakovna et al. 2020) is a similar concept, defined as a behavior that satisfies the literal specification of an objective but not achieving the desired results. Here the literal description of the task goal and the intended goal may have a gap.\\nReward shaping is a technique used to enrich the reward function, making it easier for the agent to learn—for example, by providing denser rewards. However, a poorly design reward shaping mechanism can alter the trajectory of the optimal policy. Designing effective reward shaping mechanisms is inherently difficult. Rather than blaming a poorly designed reward function, it is more accurate to acknowledge that designing a good reward function is intrinsically challenging due to the complexity of the task itself, partial observable state, multiple dimensions in consideration, and other factors.\\nWhen testing an RL agent in out-of-distribution (OOD) environments, robustness failure may occur due to:\\n\\nThe model fails to generalize effectively, even with the right objective. This happens when the algorithm lacks sufficient intelligence or capability.\\nThe model generalizes capably but pursues an objective different from the one it was trained on. This happens when the proxy reward differs from the true reward function, $R’ \\\\neq R$. This is known as objective robustness (Koch et al. 2021) or goal misgeneralization (Langosco et al. 2022 )\\n\\nExperiments in two RL environments, CoinRun and Maze, demonstrated the importance of randomization during training. If during training, the coin or the cheese is placed at a fixed position (i.e. right end of the level or upper right corner of the maze) but testing in the env where the coin or cheese is placed at random, the agent would just run to the fixed position without obtaining the coin or cheese at test time. A conflict arises when a visual feature (e.g., cheese or coin) and a positional feature (e.g., upper-right or right end) are inconsistent during test time, leading the trained model to prefer the positional feature. I would like to point out that, in these two examples, the reward-result gaps are clear but such type of biases are unlikely to be so obvious in most real-world cases.\\n\\n\\nThe impact of randomizing the position of the coin during training. When the coin is placed at random for {0, 2, 3, 6, 11}% of the time during training (x-axis), the frequency of the agent navigating to the end of the level without obtaining the coin decreases with the increase of the randomization (\"y-axis\"). (Image source: Koch et al. 2021)\\n\\nReward Tampering (Everitt et al. 2019) is a form of reward hacking behavior where the agent interferes with the reward function itself, causing the observed reward to no longer accurately represent the intended goal. In reward tampering, the model modifies its reward mechanism either by directly manipulating the implementation of the reward function or by indirectly altering the environmental information used as input for the reward function.\\n(Note: Some work defines reward tampering as a distinct category of misalignment behavior from reward hacking. But I consider reward hacking as a broader concept here.)\\nAt a high level, reward hacking can be categorized into two types: environment or goal misspecification, and reward tampering.\\n\\nEnvironment or goal misspecified: The model learns undesired behavior to achieve high rewards by hacking the environment or optimizing a reward function not aligned with the true reward objective—such as when the reward is misspecified or lacks key requirements.\\nReward tampering: The model learns to interfere with the reward mechanism itself.\\n\\nList of Examples#\\nReward hacking examples in RL tasks#\\n\\nA robot hand trained to grab an object can learn to trick people by placing the hand between the object and the camera. (Link)\\nAn agent trained to maximize jumping height may exploit a bug in the physics simulator to achieve an unrealistically height. (Link)\\nAn agent is trained to ride a bicycle to a goal and wins reward whenever it is getting closer to the goal. Then the agent may learn to ride in tiny circles around the goal because there is no penalty when the agent gets away from the goal. (Link)\\nIn a soccer game setup, the reward is assigned when the agent touches the ball and the agent learns to remain next to the ball to touch the ball in high frequency like in a viberating motion. (Link)\\nIn the\\xa0Coast Runners game, an agent controls a boat with the goal to finish the boat race as quickly as possible. When it is given a shaping reward for hitting green blocks along the race track, it changes the optimal policy to going in circles and hitting the same green blocks over and over again. (Link)\\n“The Surprising Creativity of Digital Evolution”  (Lehman et al. 2019) - This paper has many examples about how optimizing a misspecified fitness function can lead to surprising “hacking” or unintended evolutionary or learning results.\\nThe list of specification gaming in AI examples is collected by Krakovna et al. 2020.\\n\\nReward hacking examples in LLM tasks#\\n\\nA language model for generating summarization is able to explore flaws in the ROUGE metric such that it obtains high score but the generated summaries are barely readable. (Link)\\nA coding model learns to change unit test in order to pass coding questions. (Link)\\nA coding model may learn to directly modify the code used for calculating the reward. (Link)\\n\\nReward hacking examples in real life#\\n\\nThe recommendation algorithm for social media is intended to provide useful information. However, usefulness is often measured by proxy metrics, such as the number of likes or comments, or the time or frequency of engagement on the platform. The algorithm ends up recommending content that can affect users’ emotion states such as outrageous and extreme content in order to trigger more engagement. (Harari, 2024)\\nOptimizing for misspecified proxy metrics for a video sharing site may aggressively increase the watch time of users while the true goal is to optimize users’ subjective well-being. (Link)\\n“The Big Short” - 2008 financial crisis caused by the housing bubble. Reward hacking of our society happened as people tried to game the financial system.\\n\\nWhy does Reward Hacking Exist?#\\nGoodhart’s Law states that “When a measure becomes a target, it ceases to be a good measure”. The intuition is that a good metric can become corrupted once significant pressure is applied to optimize it. It is challenging to specify a 100% accurate reward objective and any proxy suffers the risk of being hacked, as RL algorithm exploits any small imperfection in the reward function definition. Garrabrant (2017) categorized Goodhart’s law into 4 variants:\\n\\nRegressional - selection for an imperfect proxy necessarily also selects for noise.\\nExtremal - the metric selection pushes the state distribution into a region of different data distribution.\\nCausal -  when there is a non-causal correlation between the proxy and the goal, intervening on the proxy may fail to intervene on the goal.\\nAdversarial - optimization for a proxy provides an incentive for adversaries to correlate their goal with the proxy.\\n\\nAmodei et al. (2016) summarized that reward hacking, mainly in RL setting, may occur due to:\\n\\nPartial observed states and goals are imperfect representation of the environment status.\\nThe system itself is complex and susceptible to hacking; e.g., if the agent is allowed to execute code that changes part of the environment, it becomes much easier to exploit the environment’s mechanisms.\\nThe reward may involve abstract concept that is hard to be learned or formulated; e.g., a reward function with high-dimensional inputs may disproportionately rely on a few dimensions.\\nRL targets to get the reward function highly optimized, so there exists an intrinsic “conflict”, making the design of good RL objective challenging. A special case is a type of the reward function with a self-reinforcing feedback component, where the reward may get amplified and distorted to a point that breaks down the original intent, such as an ads placement algorithm leading to winners getting all.\\n\\nBesides, identifying the exact reward function for which an optimal agent optimizes its behavior is in general impossible since there could be an infinite number of reward functions consistent with any observed policy in an fixed environment (Ng &amp; Russell, 2000). Amin and Singh (2016) separated the causes of this unidentifiability into two classes:\\n\\nRepresentational - a set of reward functions is behaviorally invariant under certain arithmetic operations (e.g., re-scaling)\\nExperimental - $\\\\pi$’s observed behavior is insufficient to distinguish between two or more reward functions which both rationalize the behavior of the agent (the behavior is optimal under both)\\n\\nHacking RL Environment#\\nReward hacking is expected to be a more common problem as the model and the algorithm become increasingly sophisticated. A more intelligent agent is more capable of finding “holes” in the design of reward function and exploiting the task specification—in other words, achieving higher proxy rewards but lower true rewards. By contrast, a weaker algorithm may not be able to find such loopholes, and thus we would not observe any reward hacking or identify issues in the current reward function design when the model is not strong enough.\\nIn a set of zero-sum robotics self-play games (Bansal et al., 2017), we can train two agents (victim vs. opponent) to compete against each other. A standard training process produces a victim agent with adequate performance when playing against a normal opponent. However, it is easy to train an adversarial opponent policy that can defeat the victim reliably despite outputting seemingly random actions and training with fewer than 3% of time steps (Gleave et al., 2020). Training of adversarial policies involves optimizing the sum of discounted rewards, as in standard RL setup, while treating the victim policy as a black-box model.\\nAn intuitive way to mitigate adversarial policies attacks is to fine-tune victims against adversarial policies. However, the victim remains vulnerable to new versions of adversarial policies once retrained against the new victim policy.\\nWhy does adversarial policy exist? The hypothesis is that adversarial policies introduce OOD observations to the victim rather than physically interfering with it. Evidence shows that when the victim’s observation of the opponent’s position is masked and set to a static state, the victim becomes more robust to adversaries, although performing worse against a normal opponent policy. Furthermore, a higher-dimensional observation space enhances performance under normal circumstances but makes the policy more vulnerable to adversarial opponents.\\nPan et al. (2022) investigated reward hacking as a function of agent capabilities, including (1) model size, (2) action space resolution, (3) observation space noise, and (4) training time. They also proposed a taxonomy of three types of misspecified proxy rewards:\\n\\nMisweighting: Proxy and true rewards capture the same desiderata, but differ in their relative importance.\\nOntological: Proxy and true rewards use different desiderata to capture the same concept.\\nScope: The proxy measures desiderata over a restricted domain (e.g. time or space) because measurement across all conditions is too costly.\\n\\n\\nThey experimented in four RL environments paired with nine misspecified proxy rewards. The overall findings from these experiments can be summarized as follows: A model of higher capability tends to obtain higher (or similar) proxy rewards but decreased true rewards.\\n\\nModel size: Larger model size leads to increased proxy rewards but decreased true rewards.\\nAction space resolution: Increased precision in actions leads to more capable agents. However, higher resolution causes proxy rewards to remain constant while true rewards decrease.\\nObservation fidelity: More accurate observations improve proxy rewards but slightly reduce true rewards.\\nTraining steps: Optimizing the proxy reward over more steps harms true rewards after an initial period where the rewards are positively correlated.\\n\\n\\n\\nThe plot of proxy and true reward value as functions of (Top row) model sizes, measured in parameter count; (Bottom row) model capability, measured by metrics such as training steps, action space resolution, and observation noise. (Image source: Pan et al. 2022)\\n\\nIf a proxy reward is so poorly specified that it has a very weak correlation with the true reward, we may be able to identify and prevent reward hacking even before training. Based on this hypothesis, Pan et al. (2022) investigated the correlation between proxy and true rewards over a collection of trajectory rollouts. Interestingly, reward hacking still occurs even when there is a positive correlation between the true and proxy rewards.\\nHacking RLHF of LLMs#\\nReinforcement learning from human feedback (RLHF) has become the de facto approach for alignment training of language models. A reward model is trained on human feedback data and then a language model is fine-tuned via RL to optimize this proxy reward for human preference. There are three types of reward we care about in an RLHF setup:\\n\\n(1) Oracle/Gold reward $R^∗$ represents what we truly want the LLM to optimize.\\n(2) Human reward $R^\\\\text{human}$ is what we collect to evaluate LLMs in practice, typically from individual humans with time constraints. Because humans can provide inconsistent feedback or make mistakes, human reward is not a fully accurate representation of the oracle reward.\\n(3) Proxy reward $R$ is the score predicted by a reward model that is trained on human data. Hence, $R^\\\\text{train}$ inherits all the weakness of human reward, plus potential modeling biases.\\n\\nRLHF optimizes the proxy reward score but we ultimately care about the gold reward score.\\nHacking the Training Process#\\nGao et al. (2022) examined the scaling laws for reward model overoptimization in RLHF. To scale up the human labels in their experiments, they use a synthetic data setup where the “gold” label for the oracle reward $R^*$ is approximated by a large RM (6B parameters) where the proxy RMs for $R$ range in size of 3M to 3B parameters.\\n\\n\\nThe plot of RM score as a function of the square root of the KL divergence measure. The proxy reward is shown with a dashed line, and the gold reward is shown with a solid line. (Image source: Gao et al. 2022)\\n\\nThe KL divergence from the initial policy to the optimized policy is $\\\\text{KL} = D_\\\\text{KL}(\\\\pi | \\\\pi_\\\\text{init})$, and the distance function is defined as $d := \\\\sqrt{ D_\\\\text{KL}(\\\\pi | \\\\pi_\\\\text{init})}$. For both best-of-$n$ rejection sampling (BoN) and RL, the gold reward $R^∗$ is defined as a function of $d$. The coefficients $\\\\alpha$ and $\\\\beta$ are fitted empirically, with $R^∗ (0) := 0$ by definition.\\nThe authors also attempted to fit the proxy reward $R$ but found systematic underestimation when extrapolated to higher KLs, as the proxy reward appeared to grow linearly with $d$.\\n\\n$$\\n\\\\begin{aligned}\\nR^*_{\\\\text{bo}n}(d) &amp;= d (\\\\alpha_{\\\\text{bo}n} - \\\\beta_{\\\\text{bo}n} d) &amp; \\\\text{; for best-of-n (BoN) sampling.}\\\\\\\\\\nR^*_\\\\text{RL}(d) &amp;= d (\\\\alpha_\\\\text{RL} - \\\\beta_\\\\text{RL} \\\\log d) &amp; \\\\text{; for reinforcement learning}\\\\\\\\\\n\\\\end{aligned}\\n$$\\n\\n\\n\\nThe coefficient parameters, $\\\\alpha_{\\\\text{bo}n}, \\\\beta_{\\\\text{bo}n}, \\\\beta_\\\\text{RL}$ are empirically fit according to data, displayed as functions of the reward model size. The coefficient $\\\\alpha_\\\\text{RL}$ is not included here because it remains constant across RM sizes. (Image source: Gao et al. 2022)\\n\\nTheir experiments also explored the relationship between RM overoptimization and factors like policy model size and RM data size:\\n\\nLarger policies see less benefit from optimization (i.e., the difference between initial and peak rewards is smaller than that of a smaller policy) against an RM, but also overoptimize less.\\nMore RM data leads to higher gold reward scores and reduces “Goodharting”.\\nThe effect of the KL penalty on the gold score resembles early stopping. Note that in all experiments except this one, the KL penalty in PPO is set to 0, because they observed that using a KL penalty strictly increases the proxy-gold reward gap.\\n\\nRLHF aims to improve the model’s alignment with human preference, but human feedback $R^\\\\text{human}$ may not capture all the aspects we care about (e.g., factuality) and thus can be hacked to overfit to undesired attributes. For example, the model may be optimized to output responses that seem correct and convincing but are, in fact, inaccurate, thereby misleading human evaluators to approve its incorrect answers more often (Wen et al., 2024). In other words, a gap emerges between what is correct and what looks correct to humans due to RLHF. Precisely Wen et al. (2024) ran RLHF experiments using a reward model based on ChatbotArena data. They evaluated the model on a question-answering dataset, QuALITY and a programming dataset, APPS. Their experiments revealed that models become better at convincing humans they are correct, even when they are wrong and this effect is unintended:\\n\\nRLHF increases human approval, but not necessarily correctness.\\nRLHF weakens humans’ ability to evaluate: The error rate of human evaluation is higher after RLHF training.\\nRLHF makes incorrect outputs more convincing to humans. The evaluation false positive rate significantly increases after RLHF training.\\n\\nThe paper coined this effect “U-Sophistry” (“U” for “unintended”), as opposed to “I-Sophistry” (“I” for “intended”), which involves explicitly prompting the model with instructions like \"... try to deceive human subjects\".\\n\\n\\nRLHF makes LLMs better at convincing human evaluators to approve their incorrect answers. (Image source: Wen et al. 2024)\\n\\n\\nThe human evaluation error change is not due to noise in the recruiting process since (1) at an individual level, the majority (70-90%) of human evaluators raw their evaluation error rates increase, and (2) the effort they put into evaluating $\\\\pi_\\\\text{init}$ or $\\\\pi_\\\\text{rlhf}$ is equivalent, measured by metrics like time spent or unit tests written. Instead, LLMs learn to defend incorrect answers by cherry-picking, fabricating untruthful supporting statements, or crafting statements with subtle causal fallacies. What they observed about how the model behaves after RLHF:\\n\\nIn the long-form QA task:\\n\\nCreating more convincing fabricated evidence.\\nUsing more consistent logic for incorrect answers.\\nGenerating coherent answers with subtle fallacies.\\n\\n\\nIn the coding task:\\n\\nHacking human written unit tests\\nGenerating less readable tests (e.g. fewer helper functions and higher code complexity).\\nMaking $\\\\pi_\\\\text{rlhf}$ less likely to generate easily detectable errors that humans can exploit.\\n\\n\\n\\n\\n\\nThe metrics of code modularity (number of helper functions) and Cyclomatic Complexity for generated correct and incorrect code, respectively. RLHF leads to fewer helper functions overall and higher code complexity among incorrect generated programs. This unsurprisingly would increase difficulty of human evaluation. (Image source: Wen et al. 2024)\\n\\nExamples of evaluation scripts in the \"Tool-use flattery\" and \"Reward tampering\" environments, where `` is hidden from oversight and `` can be executed in a VM. (Image source: Denison et al. 2024)\\n\\nThe model was trained following this curriculum, and the paper measured whether the model can learn gaming behaviors that generalize to unseen environments. Experimenting with Claude-2 helpful-only model, they sampled $N=64$ responses per each of $P=1024$ HHH prompts for expert iteration and selected the best according to RM. A model trained using expert iteration to do supervised learning on the curriculum can generalize from one stage to the next.\\n\\n\\nQuantitative generalization results of a model trained with expert iteration according to our curriculum from each stage to the next. (Image source: Denison et al. 2024)\\n\\nIt is noteworthy that even after the curriculum, the model overwrote the reward and avoided detection less than 1/1000 of the time. Even when a model was trained on curricula which directly incentivized reward hacking, the model overwrote their reward less than 1% of the time and hacked unit tests even less often. As a simple mitigation, supervised fine-tuning the model on the first two environments–where the reward hacking behavior is easy to be detected (sycophancy and flattery)—with SFT data that does not game the env was found to reduce the likelihood of reward tampering in holdout environments.\\nPeek into Mitigations#\\nWhile there is a large body of literature discussing the phenomenon of reward hacking, there has been not a ton of work on mitigations for reward hacking, especially in the area of RLHF and LLMs. Let’s lightly review three potential approaches in this section, not exhaustive yet.\\nRL Algorithm Improvement#\\nAmodei et al. (2016) pointed out some directions for mitigating reward hacking in RL training:\\n\\nAdversarial reward functions. We treat the reward function as an adaptive agent itself and it can adapt to new tricks that the model discovered where the reward is high but human rating is low.\\nModel lookahead. It is possible to give reward based on future anticipated states; e.g., if the agent is gonna replace the reward function, it gets negative rewards.\\nAdversarial blinding. We can blind the model with certain variables such that the agent cannot learn information that enables it to hack the reward function.\\nCareful engineering. Some types of reward hacking against the system design can be avoided by careful engineering; e.g., sandboxing the agent to isolate its actions from its reward signals.\\nReward capping. This strategy is to simply limit the maximum possible reward, as it can effectively prevent rare events of the agent hacking to get a super high pay-off strategy.\\nCounterexample resistance. Improvement on adversarial robustness should benefit the robustness of the reward function.\\nCombination of multiple rewards. Combining different types of rewards could make it harder to be hacked.\\nReward pretraining. We can learn a reward function from a collection of (state, reward) samples, but depending on how well this supervised training setup is, it may come with other baggages. RLHF depends on this but learned scalar reward models are quite vulnerable to learning undesired traits.\\nVariable indifference. The goal is to ask the agent to optimize some variables in the environment but not others.\\nTrip wires. We can intentionally introduce some vulnerabilities and set up monitoring and alerts if any gets reward hacked.\\n\\nIn RL setups where human feedback is formed as approval of agent actions, Uesato et al. (2020) proposed to prevent reward tampering with decoupled approval.  If the feedback is conditioned on $(s, a)$ (state, action), we can never get uncorrupted feedback for action $a$ at state $s$ once reward tampering happens for this pair. Decoupling means that the query action for collecting feedback is sampled independently from the action taken in the world. Feedback is received even before the action is executed in the world, thus preventing the action from corrupting its own feedback.\\n\\n\\nIllustration of how decoupled approval works in comparison to standard approval or human-in-the-loop RL. (Image source: Uesato et al. 2020)\\n\\n\\n\\nWith decoupled approval, the action (taken in the world) and the query (for getting user approval feedback) are sampled independently. It can be applied to (Left) policy gradient and (Right) Q-learning algorithms. (Image source: Uesato et al. 2020)\\n\\nDetecting Reward Hacking#\\nAn alternative mitigation is to detect reward hacking by framing it as an anomaly detection task, where the detector (“a trusted policy” with trajectories and rewards validated by human) should flag instances of misalignment (Pan et al. 2022). Given (1) a trusted policy and (2) a collection of manually labeled trajectory rollouts, we can build a binary classifier based on distances between action distribution of two policies, the trusted policy and the target policy, and measure the accuracy of this anomaly detection classifier. In experiments by Pan et al. (2022), they observed that different detectors are better for different tasks and none of the tested classifier can achieve AUROC greater than 60% across all tested RL environments.\\n\\n\\nPerformance of detectors on different tasks. (Image source: Pan et al. 2022)\\n\\nData Analysis of RLHF#\\n`\\nAnother approach is to analyze RLHF dataset. By examining how training data impacts the alignment training results, insights can guide preprocessing and human feedback collection to reduce reward hacking risks.\\nRevel et al. (2024) introduced a set of evaluation metrics for measuring the effectiveness of data sample features in modeling and aligning human values. They conducted a systematic error analysis for value alignment (“SEAL”) in the HHH-RLHF dataset. The feature taxonomy used in the analysis (e.g., is harmless, is refusal and is creative) was manually predefined. Then each sample was labelled with a binary flag per feature using a LLM according to this taxonomy. Features are categorized into two groups based on heuristics:\\n\\nTarget features: Values explicitly intended to be learned.\\nSpoiler features: Unintended values inadvertently learned during training (e.g., stylistic features like sentiment or coherence). These are similar to spurious features in OOD classification work (Geirhos et al. 2020).\\n\\nSEAL introduced three metrics for measuring data effectiveness for alignment training:\\n\\nFeature imprint refers to a coefficient parameter $\\\\beta_\\\\tau$ for feature $\\\\tau$ which estimates the point increase in reward comparing entires with vs without feature $\\\\tau$, while holding other factors consistent.\\n\\n\\n\\n(Left) Feature imprints $\\\\underline{\\\\beta(\\\\tau)}$ (pre-) and $\\\\beta(\\\\tau)$ (post-) computed from fixed-effects linear regression of rewards $\\\\underline{r}(t^∗_i)$ (orange) and $r(t^∗_i)$ (blue) against features. Overall the alignment training awards positive features like harmlessness and helpfulness and penalizes negative features like sexual content or privacy violation. (Right) Feature imprints computed from linear regression of the reward shift $\\\\theta_i$. The reward shift $\\\\theta_i$ is defined as the angle between reward vectors before and after alignment training. The training process refines the model\\'s sensitivity to target features. Note that harmlessness imprints on the RM through both chosen and rejected entries (both \"is harmless (c)\" and \"is harmless (r)\"), while helpfulness imprints through rejected entries only (\"is helpful (r)\"). (Image source: Revel et al. 2024)\\n\\n\\nAlignment resistance is the percentage of the preference data pairs where RMs fail to match human preferences. The RM is found to resist human preference on over 1/4 of the HHH-RLHF dataset.\\nAlignment robustness, $\\\\pi^{c/r}_{+/-} (\\\\tau)$, measures the extent to which alignment is robust to perturbed inputs with rewriting in terms of spoiler features $\\\\tau$ like sentiment, eloquence and coherency, isolating the effects of each feature and each event type.\\n\\nThe robustness metric $\\\\pi_−^c$ (a feature name $\\\\tau$ such as “eloquent” or “sentiment positive”) should be interpreted in such a way:\\n\\nA chosen entry (denoted by $c$) that contains a stronger feature $\\\\tau$ after rewriting has $\\\\exp (\\\\pi^c_{-}(\\\\tau))$  times higher odds of becoming rejected, in comparison to others without such flips.\\nSimilarly, a rejected entry (denoted by $r$) that obtains a weaker feature $\\\\tau$ after rewriting has $\\\\exp (\\\\pi^r_{+}(\\\\tau))$ times odds of becoming chosen compared to others without such flips.\\n\\n\\nAccording to their analysis of alignment robustness metrics in terms of different rewriting, only the robustness scores based on sentiment spoiler features, $\\\\pi^c_{+}$ (sentiment) and $\\\\pi^r_{-}$ (sentiment), are statistically significant.\\n\\n\\n\\nCitation#\\nCited as:\\n\\nWeng, Lilian. “Reward Hacking in Reinforcement Learning”. Lil’Log (Nov 2024). https://lilianweng.github.io/posts/2024-11-28-reward-hacking/.\\n\\nOr\\n@article{weng2024rewardhack,\\n  title   = \"Reward Hacking in Reinforcement Learning.\",\\n  author  = \"Weng, Lilian\",\\n  journal = \"lilianweng.github.io\",\\n  year    = \"2024\",\\n  month   = \"Nov\",\\n  url     = \"https://lilianweng.github.io/posts/2024-11-28-reward-hacking/\"\\n}\\nReferences#\\n[1] Andrew Ng &amp; Stuart Russell. “Algorithms for inverse reinforcement learning.”. ICML 2000.\\n[2] Amodei et al. “Concrete problems in AI safety: Avoid reward hacking.” arXiv preprint arXiv:1606.06565 (2016).\\n[3] Krakovna et al. “Specification gaming: the flip side of AI ingenuity.” 2020.\\n[4] Langosco et al. “Goal Misgeneralization in Deep Reinforcement Learning” ICML 2022.\\n[5] Everitt et al. “Reinforcement learning with a corrupted reward channel.” IJCAI 2017.\\n[6] Geirhos et al. “Shortcut Learning in Deep Neural Networks.” Nature Machine Intelligence 2020.\\n[7] Ribeiro et al. “Why Should I Trust You?”: Explaining the Predictions of Any Classifier. KDD 2016.\\n[8] Nagarajan et al. “Understanding the Failure Modes of Out-of-Distribution Generalization.” ICLR 2021.\\n[9] Garrabrant. “Goodhart Taxonomy”. AI Alignment Forum (Dec 30th 2017).\\n[10] Koch et al. “Objective robustness in deep reinforcement learning.” 2021.\\n[11] Pan et al. “The effects of reward misspecification: mapping and mitigating misaligned models.”\\n[12] Everitt et al. “Reward tampering problems and solutions in reinforcement learning: A causal influence diagram perspective.” arXiv preprint arXiv:1908.04734 (2019).\\n[13] Gleave et al. “Adversarial Policies: Attacking Deep Reinforcement Learning.” ICRL 2020\\n[14] “Reward hacking behavior can generalize across tasks.”\\n[15] Ng et al. “Policy invariance under reward transformations: Theory and application to reward shaping.” ICML 1999.\\n[16] Wang et al. “Large Language Models are not Fair Evaluators.” ACL 2024.\\n[17] Liu et al. “LLMs as narcissistic evaluators: When ego inflates evaluation scores.” ACL 2024.\\n[18] Gao et al. “Scaling Laws for Reward Model Overoptimization.” ICML 2023.\\n[19] Pan et al. “Spontaneous Reward Hacking in Iterative Self-Refinement.” arXiv preprint arXiv:2407.04549 (2024).\\n[20] Pan et al. “Feedback Loops With Language Models Drive In-Context Reward Hacking.” arXiv preprint arXiv:2402.06627 (2024).\\n[21] Shrama et al. “Towards Understanding Sycophancy in Language Models.” arXiv preprint arXiv:2310.13548 (2023).\\n[22] Denison et al. “Sycophancy to subterfuge: Investigating reward tampering in language models.” arXiv preprint arXiv:2406.10162 (2024).\\n[23] Uesato et al. “Avoiding Tampering Incentives in Deep RL via Decoupled Approval.” arXiv preprint arXiv:2011.08827 (2020).\\n[24] Amin and Singh. “Towards resolving unidentifiability in inverse reinforcement learning.”\\n[25] Wen et al. “Language Models Learn to Mislead Humans via RLHF.” arXiv preprint arXiv:2409.12822 (2024).\\n[26] Revel et al. “SEAL: Systematic Error Analysis for Value ALignment.” arXiv preprint arXiv:2408.10270 (2024).\\n[27] Yuval Noah Harari. “Nexus: A Brief History of Information Networks from the Stone Age to AI.” Signal; 2024 Sep 10.\\n\\n\\n\\nLanguage-Model\\nRlhf\\nAlignment\\nSafety\\nReinforcement-Learning\\nLong-Read\\n\\n\\n\\n« \\n\\nWhy We Think\\n\\n\\n »\\n\\nExtrinsic Hallucinations in LLMs\\n\\n\\n\\n\\n\\n\\n\\n\\n\\n\\n\\n\\n\\n\\n\\n\\n\\n\\n\\n\\n\\n\\n\\n\\n\\n\\n\\n\\n\\n\\n\\n\\n\\n\\n\\n\\n\\n\\n© 2025 Lil\\'Log\\n\\n        Powered by\\n        Hugo &amp;\\n        PaperMod'</span>\n",
              "</pre>\n"
            ]
          },
          "metadata": {}
        }
      ]
    },
    {
      "cell_type": "code",
      "source": [
        "# Set up tools and bind them to the LLM\n",
        "tools = [retriever_tool]\n",
        "tools_by_name = {tool.name: tool for tool in tools}\n",
        "\n",
        "# Bind tools to LLM for agent functionality\n",
        "llm_with_tools = llm.bind_tools(tools)"
      ],
      "metadata": {
        "id": "3AaykqZTxDJT"
      },
      "execution_count": 55,
      "outputs": []
    },
    {
      "cell_type": "code",
      "source": [
        "from typing_extensions import Literal\n",
        "\n",
        "from IPython.display import Image, display\n",
        "from langchain_core.messages import SystemMessage, ToolMessage\n",
        "from langgraph.graph import END, START, MessagesState, StateGraph\n",
        "\n",
        "# Define extended state with summary field\n",
        "class State(MessagesState):\n",
        "    \"\"\"Extended state that includes a summary field for context compression.\"\"\"\n",
        "    summary: str\n",
        "\n",
        "# Define the RAG agent system prompt\n",
        "rag_prompt = \"\"\"You are a helpful assistant tasked with retrieving information from a series of technical blog posts by Lilian Weng.\n",
        "Clarify the scope of research with the user before using your retrieval tool to gather context. Reflect on any context you fetch, and\n",
        "proceed until you have sufficient context to answer the user's research request.\"\"\"\n",
        "\n",
        "def llm_call(state: MessagesState) -> dict:\n",
        "    \"\"\"Execute LLM call with system prompt and message history.\n",
        "\n",
        "    This function demonstrates context pruning by trimming messages to fit within\n",
        "    token limits while maintaining conversation coherence.\n",
        "\n",
        "    Args:\n",
        "        state: Current conversation state\n",
        "\n",
        "    Returns:\n",
        "        Dictionary with new messages\n",
        "    \"\"\"\n",
        "    # Add system prompt to the trimmed messages\n",
        "    messages = [SystemMessage(content=rag_prompt)] + state['messages']\n",
        "    response = llm_with_tools.invoke(messages)\n",
        "    return {\"messages\": [response]}\n",
        "\n",
        "# Improved prompt for context pruning\n",
        "tool_pruning_prompt = \"\"\"You are an expert at extracting relevant information from documents.\n",
        "\n",
        "Your task: Analyze the provided document and extract ONLY the information that directly answers or supports the user's specific request. Remove all irrelevant content.\n",
        "\n",
        "User's Request: {initial_request}\n",
        "\n",
        "Instructions for pruning:\n",
        "1. Keep information that directly addresses the user's question\n",
        "2. Preserve key facts, data, and examples that support the answer\n",
        "3. Remove tangential discussions, unrelated topics, and excessive background\n",
        "4. Maintain the logical flow and context of relevant information\n",
        "5. If multiple subtopics are discussed, focus only on those relevant to the request\n",
        "6. Preserve important quotes, statistics, and research findings when relevant\n",
        "\n",
        "Return the pruned content in a clear, concise format that maintains readability while focusing solely on what's needed to answer the user's request.\"\"\"\n",
        "\n",
        "# Conditional edge function to route to the tool node or end based upon whether the LLM made a tool call\n",
        "def should_continue(state: State) -> Literal[\"tool_node_with_pruning\", \"__end__\"]:\n",
        "    \"\"\"Decide if we should continue the loop or stop based upon whether the LLM made a tool call\"\"\"\n",
        "    messages = state[\"messages\"]\n",
        "    last_message = messages[-1]\n",
        "\n",
        "    # If the LLM makes a tool call, then perform an action\n",
        "    if last_message.tool_calls:\n",
        "        return \"tool_node_with_pruning\"\n",
        "\n",
        "    # Otherwise, we stop (reply to the user)\n",
        "    return END\n",
        "\n",
        "def tool_node_with_pruning(state: State):\n",
        "    \"\"\"Performs the tool call with context pruning\"\"\"\n",
        "    result = []\n",
        "    for tool_call in state[\"messages\"][-1].tool_calls:\n",
        "        tool = tools_by_name[tool_call[\"name\"]]\n",
        "        observation = tool.invoke(tool_call[\"args\"])\n",
        "\n",
        "        initial_request = state['messages'][0].content\n",
        "\n",
        "        # Prune the document content to focus on user's request\n",
        "        summarization_llm = llm\n",
        "        pruned_content = summarization_llm.invoke([\n",
        "            {\"role\": \"system\", \"content\": tool_pruning_prompt.format(initial_request=initial_request)},\n",
        "            {\"role\": \"user\", \"content\": observation}\n",
        "        ])\n",
        "\n",
        "        result.append(ToolMessage(content=pruned_content.content, tool_call_id=tool_call[\"id\"]))\n",
        "\n",
        "    return {\"messages\": result}\n",
        "\n",
        "# Build workflow\n",
        "agent_builder = StateGraph(State)\n",
        "\n",
        "# Add nodes\n",
        "agent_builder.add_node(\"llm_call\", llm_call)\n",
        "agent_builder.add_node(\"tool_node_with_pruning\", tool_node_with_pruning)\n",
        "\n",
        "# Add edges to connect nodes\n",
        "agent_builder.add_edge(START, \"llm_call\")\n",
        "agent_builder.add_conditional_edges(\n",
        "    \"llm_call\",\n",
        "    should_continue,\n",
        "    {\n",
        "        \"tool_node_with_pruning\": \"tool_node_with_pruning\",\n",
        "        END: END,\n",
        "    },\n",
        ")\n",
        "agent_builder.add_edge(\"tool_node_with_pruning\", \"llm_call\")\n",
        "\n",
        "# Compile the agent\n",
        "agent = agent_builder.compile()\n",
        "\n",
        "# Show the agent\n",
        "display(Image(agent.get_graph(xray=True).draw_mermaid_png()))"
      ],
      "metadata": {
        "colab": {
          "base_uri": "https://localhost:8080/",
          "height": 266
        },
        "id": "bgZxaHjDxJ84",
        "outputId": "cb216e0a-f372-4873-99cb-df56cc9fc678"
      },
      "execution_count": 58,
      "outputs": [
        {
          "output_type": "display_data",
          "data": {
            "image/png": "[encoded data removed]",
            "text/plain": [
              "<IPython.core.display.Image object>"
            ]
          },
          "metadata": {}
        }
      ]
    },
    {
      "cell_type": "code",
      "source": [
        "query = \"What are the types of reward hacking discussed in the blogs?\"\n",
        "result = agent.invoke({\"messages\": [{\"role\": \"user\", \"content\": query}]})\n",
        "format_messages(result['messages'])"
      ],
      "metadata": {
        "colab": {
          "base_uri": "https://localhost:8080/",
          "height": 620
        },
        "id": "ARnkVlllxOi_",
        "outputId": "e2a62135-5b86-4ca2-c882-767b66c1111f"
      },
      "execution_count": 59,
      "outputs": [
        {
          "output_type": "display_data",
          "data": {
            "text/plain": [
              "\u001b[34m╭─\u001b[0m\u001b[34m──────────────────────────────────────────────────\u001b[0m\u001b[34m 🧑 Human \u001b[0m\u001b[34m───────────────────────────────────────────────────\u001b[0m\u001b[34m─╮\u001b[0m\n",
              "\u001b[34m│\u001b[0m What are the types of reward hacking discussed in the blogs?                                                    \u001b[34m│\u001b[0m\n",
              "\u001b[34m╰─────────────────────────────────────────────────────────────────────────────────────────────────────────────────╯\u001b[0m\n"
            ],
            "text/html": [
              "<pre style=\"white-space:pre;overflow-x:auto;line-height:normal;font-family:Menlo,'DejaVu Sans Mono',consolas,'Courier New',monospace\"><span style=\"color: #000080; text-decoration-color: #000080\">╭─────────────────────────────────────────────────── 🧑 Human ────────────────────────────────────────────────────╮</span>\n",
              "<span style=\"color: #000080; text-decoration-color: #000080\">│</span> What are the types of reward hacking discussed in the blogs?                                                    <span style=\"color: #000080; text-decoration-color: #000080\">│</span>\n",
              "<span style=\"color: #000080; text-decoration-color: #000080\">╰─────────────────────────────────────────────────────────────────────────────────────────────────────────────────╯</span>\n",
              "</pre>\n"
            ]
          },
          "metadata": {}
        },
        {
          "output_type": "display_data",
          "data": {
            "text/plain": [
              "\u001b[37m╭─\u001b[0m\u001b[37m────────────────────────────────────────────────────\u001b[0m\u001b[37m 📝 AI \u001b[0m\u001b[37m────────────────────────────────────────────────────\u001b[0m\u001b[37m─╮\u001b[0m\n",
              "\u001b[37m│\u001b[0m                                                                                                                 \u001b[37m│\u001b[0m\n",
              "\u001b[37m╰─────────────────────────────────────────────────────────────────────────────────────────────────────────────────╯\u001b[0m\n"
            ],
            "text/html": [
              "<pre style=\"white-space:pre;overflow-x:auto;line-height:normal;font-family:Menlo,'DejaVu Sans Mono',consolas,'Courier New',monospace\"><span style=\"color: #c0c0c0; text-decoration-color: #c0c0c0\">╭───────────────────────────────────────────────────── 📝 AI ─────────────────────────────────────────────────────╮</span>\n",
              "<span style=\"color: #c0c0c0; text-decoration-color: #c0c0c0\">│</span>                                                                                                                 <span style=\"color: #c0c0c0; text-decoration-color: #c0c0c0\">│</span>\n",
              "<span style=\"color: #c0c0c0; text-decoration-color: #c0c0c0\">╰─────────────────────────────────────────────────────────────────────────────────────────────────────────────────╯</span>\n",
              "</pre>\n"
            ]
          },
          "metadata": {}
        },
        {
          "output_type": "display_data",
          "data": {
            "text/plain": [
              "\u001b[33m╭─\u001b[0m\u001b[33m───────────────────────────────────────────────\u001b[0m\u001b[33m 🔧 Tool Output \u001b[0m\u001b[33m────────────────────────────────────────────────\u001b[0m\u001b[33m─╮\u001b[0m\n",
              "\u001b[33m│\u001b[0m The types of reward hacking discussed in the blogs are:                                                         \u001b[33m│\u001b[0m\n",
              "\u001b[33m│\u001b[0m                                                                                                                 \u001b[33m│\u001b[0m\n",
              "\u001b[33m│\u001b[0m 1. **Reward Hacking**: Exploiting flaws or ambiguities in the reward function to achieve high rewards without   \u001b[33m│\u001b[0m\n",
              "\u001b[33m│\u001b[0m genuinely learning the intended task.                                                                           \u001b[33m│\u001b[0m\n",
              "\u001b[33m│\u001b[0m 2. **Reward Corruption**: Manipulating the reward function or its implementation to achieve high rewards.       \u001b[33m│\u001b[0m\n",
              "\u001b[33m│\u001b[0m 3. **Reward Tampering**: Interfering with the reward mechanism itself, causing the observed reward to no longer \u001b[33m│\u001b[0m\n",
              "\u001b[33m│\u001b[0m accurately represent the intended goal.                                                                         \u001b[33m│\u001b[0m\n",
              "\u001b[33m│\u001b[0m 4. **Specification Gaming**: Satisfying the literal specification of an objective but not achieving the desired \u001b[33m│\u001b[0m\n",
              "\u001b[33m│\u001b[0m results.                                                                                                        \u001b[33m│\u001b[0m\n",
              "\u001b[33m│\u001b[0m 5. **Objective Robustness/Goal Misgeneralization**: The model generalizes capably but pursues an objective      \u001b[33m│\u001b[0m\n",
              "\u001b[33m│\u001b[0m different from the one it was trained on due to a mismatch between the proxy reward and the true reward         \u001b[33m│\u001b[0m\n",
              "\u001b[33m│\u001b[0m function.                                                                                                       \u001b[33m│\u001b[0m\n",
              "\u001b[33m│\u001b[0m 6. **In-Context Reward Hacking**: Reward hacking behavior that emerges within the context of a specific task or \u001b[33m│\u001b[0m\n",
              "\u001b[33m│\u001b[0m environment, often due to the model's interaction with that context.                                            \u001b[33m│\u001b[0m\n",
              "\u001b[33m│\u001b[0m                                                                                                                 \u001b[33m│\u001b[0m\n",
              "\u001b[33m│\u001b[0m These types of reward hacking highlight the various ways in which reinforcement learning agents can exploit or  \u001b[33m│\u001b[0m\n",
              "\u001b[33m│\u001b[0m manipulate reward functions to achieve high rewards without genuinely learning or completing the intended task. \u001b[33m│\u001b[0m\n",
              "\u001b[33m╰─────────────────────────────────────────────────────────────────────────────────────────────────────────────────╯\u001b[0m\n"
            ],
            "text/html": [
              "<pre style=\"white-space:pre;overflow-x:auto;line-height:normal;font-family:Menlo,'DejaVu Sans Mono',consolas,'Courier New',monospace\"><span style=\"color: #808000; text-decoration-color: #808000\">╭──────────────────────────────────────────────── 🔧 Tool Output ─────────────────────────────────────────────────╮</span>\n",
              "<span style=\"color: #808000; text-decoration-color: #808000\">│</span> The types of reward hacking discussed in the blogs are:                                                         <span style=\"color: #808000; text-decoration-color: #808000\">│</span>\n",
              "<span style=\"color: #808000; text-decoration-color: #808000\">│</span>                                                                                                                 <span style=\"color: #808000; text-decoration-color: #808000\">│</span>\n",
              "<span style=\"color: #808000; text-decoration-color: #808000\">│</span> 1. **Reward Hacking**: Exploiting flaws or ambiguities in the reward function to achieve high rewards without   <span style=\"color: #808000; text-decoration-color: #808000\">│</span>\n",
              "<span style=\"color: #808000; text-decoration-color: #808000\">│</span> genuinely learning the intended task.                                                                           <span style=\"color: #808000; text-decoration-color: #808000\">│</span>\n",
              "<span style=\"color: #808000; text-decoration-color: #808000\">│</span> 2. **Reward Corruption**: Manipulating the reward function or its implementation to achieve high rewards.       <span style=\"color: #808000; text-decoration-color: #808000\">│</span>\n",
              "<span style=\"color: #808000; text-decoration-color: #808000\">│</span> 3. **Reward Tampering**: Interfering with the reward mechanism itself, causing the observed reward to no longer <span style=\"color: #808000; text-decoration-color: #808000\">│</span>\n",
              "<span style=\"color: #808000; text-decoration-color: #808000\">│</span> accurately represent the intended goal.                                                                         <span style=\"color: #808000; text-decoration-color: #808000\">│</span>\n",
              "<span style=\"color: #808000; text-decoration-color: #808000\">│</span> 4. **Specification Gaming**: Satisfying the literal specification of an objective but not achieving the desired <span style=\"color: #808000; text-decoration-color: #808000\">│</span>\n",
              "<span style=\"color: #808000; text-decoration-color: #808000\">│</span> results.                                                                                                        <span style=\"color: #808000; text-decoration-color: #808000\">│</span>\n",
              "<span style=\"color: #808000; text-decoration-color: #808000\">│</span> 5. **Objective Robustness/Goal Misgeneralization**: The model generalizes capably but pursues an objective      <span style=\"color: #808000; text-decoration-color: #808000\">│</span>\n",
              "<span style=\"color: #808000; text-decoration-color: #808000\">│</span> different from the one it was trained on due to a mismatch between the proxy reward and the true reward         <span style=\"color: #808000; text-decoration-color: #808000\">│</span>\n",
              "<span style=\"color: #808000; text-decoration-color: #808000\">│</span> function.                                                                                                       <span style=\"color: #808000; text-decoration-color: #808000\">│</span>\n",
              "<span style=\"color: #808000; text-decoration-color: #808000\">│</span> 6. **In-Context Reward Hacking**: Reward hacking behavior that emerges within the context of a specific task or <span style=\"color: #808000; text-decoration-color: #808000\">│</span>\n",
              "<span style=\"color: #808000; text-decoration-color: #808000\">│</span> environment, often due to the model's interaction with that context.                                            <span style=\"color: #808000; text-decoration-color: #808000\">│</span>\n",
              "<span style=\"color: #808000; text-decoration-color: #808000\">│</span>                                                                                                                 <span style=\"color: #808000; text-decoration-color: #808000\">│</span>\n",
              "<span style=\"color: #808000; text-decoration-color: #808000\">│</span> These types of reward hacking highlight the various ways in which reinforcement learning agents can exploit or  <span style=\"color: #808000; text-decoration-color: #808000\">│</span>\n",
              "<span style=\"color: #808000; text-decoration-color: #808000\">│</span> manipulate reward functions to achieve high rewards without genuinely learning or completing the intended task. <span style=\"color: #808000; text-decoration-color: #808000\">│</span>\n",
              "<span style=\"color: #808000; text-decoration-color: #808000\">╰─────────────────────────────────────────────────────────────────────────────────────────────────────────────────╯</span>\n",
              "</pre>\n"
            ]
          },
          "metadata": {}
        },
        {
          "output_type": "display_data",
          "data": {
            "text/plain": [
              "\u001b[37m╭─\u001b[0m\u001b[37m────────────────────────────────────────────────────\u001b[0m\u001b[37m 📝 AI \u001b[0m\u001b[37m────────────────────────────────────────────────────\u001b[0m\u001b[37m─╮\u001b[0m\n",
              "\u001b[37m│\u001b[0m The types of reward hacking discussed in the blogs are:                                                         \u001b[37m│\u001b[0m\n",
              "\u001b[37m│\u001b[0m                                                                                                                 \u001b[37m│\u001b[0m\n",
              "\u001b[37m│\u001b[0m 1. Reward Hacking                                                                                               \u001b[37m│\u001b[0m\n",
              "\u001b[37m│\u001b[0m 2. Reward Corruption                                                                                            \u001b[37m│\u001b[0m\n",
              "\u001b[37m│\u001b[0m 3. Reward Tampering                                                                                             \u001b[37m│\u001b[0m\n",
              "\u001b[37m│\u001b[0m 4. Specification Gaming                                                                                         \u001b[37m│\u001b[0m\n",
              "\u001b[37m│\u001b[0m 5. Objective Robustness/Goal Misgeneralization                                                                  \u001b[37m│\u001b[0m\n",
              "\u001b[37m│\u001b[0m 6. In-Context Reward Hacking                                                                                    \u001b[37m│\u001b[0m\n",
              "\u001b[37m│\u001b[0m                                                                                                                 \u001b[37m│\u001b[0m\n",
              "\u001b[37m│\u001b[0m Is there something else I can help you with?                                                                    \u001b[37m│\u001b[0m\n",
              "\u001b[37m╰─────────────────────────────────────────────────────────────────────────────────────────────────────────────────╯\u001b[0m\n"
            ],
            "text/html": [
              "<pre style=\"white-space:pre;overflow-x:auto;line-height:normal;font-family:Menlo,'DejaVu Sans Mono',consolas,'Courier New',monospace\"><span style=\"color: #c0c0c0; text-decoration-color: #c0c0c0\">╭───────────────────────────────────────────────────── 📝 AI ─────────────────────────────────────────────────────╮</span>\n",
              "<span style=\"color: #c0c0c0; text-decoration-color: #c0c0c0\">│</span> The types of reward hacking discussed in the blogs are:                                                         <span style=\"color: #c0c0c0; text-decoration-color: #c0c0c0\">│</span>\n",
              "<span style=\"color: #c0c0c0; text-decoration-color: #c0c0c0\">│</span>                                                                                                                 <span style=\"color: #c0c0c0; text-decoration-color: #c0c0c0\">│</span>\n",
              "<span style=\"color: #c0c0c0; text-decoration-color: #c0c0c0\">│</span> 1. Reward Hacking                                                                                               <span style=\"color: #c0c0c0; text-decoration-color: #c0c0c0\">│</span>\n",
              "<span style=\"color: #c0c0c0; text-decoration-color: #c0c0c0\">│</span> 2. Reward Corruption                                                                                            <span style=\"color: #c0c0c0; text-decoration-color: #c0c0c0\">│</span>\n",
              "<span style=\"color: #c0c0c0; text-decoration-color: #c0c0c0\">│</span> 3. Reward Tampering                                                                                             <span style=\"color: #c0c0c0; text-decoration-color: #c0c0c0\">│</span>\n",
              "<span style=\"color: #c0c0c0; text-decoration-color: #c0c0c0\">│</span> 4. Specification Gaming                                                                                         <span style=\"color: #c0c0c0; text-decoration-color: #c0c0c0\">│</span>\n",
              "<span style=\"color: #c0c0c0; text-decoration-color: #c0c0c0\">│</span> 5. Objective Robustness/Goal Misgeneralization                                                                  <span style=\"color: #c0c0c0; text-decoration-color: #c0c0c0\">│</span>\n",
              "<span style=\"color: #c0c0c0; text-decoration-color: #c0c0c0\">│</span> 6. In-Context Reward Hacking                                                                                    <span style=\"color: #c0c0c0; text-decoration-color: #c0c0c0\">│</span>\n",
              "<span style=\"color: #c0c0c0; text-decoration-color: #c0c0c0\">│</span>                                                                                                                 <span style=\"color: #c0c0c0; text-decoration-color: #c0c0c0\">│</span>\n",
              "<span style=\"color: #c0c0c0; text-decoration-color: #c0c0c0\">│</span> Is there something else I can help you with?                                                                    <span style=\"color: #c0c0c0; text-decoration-color: #c0c0c0\">│</span>\n",
              "<span style=\"color: #c0c0c0; text-decoration-color: #c0c0c0\">╰─────────────────────────────────────────────────────────────────────────────────────────────────────────────────╯</span>\n",
              "</pre>\n"
            ]
          },
          "metadata": {}
        }
      ]
    },
    {
      "cell_type": "markdown",
      "source": [
        "**Context Summarization**"
      ],
      "metadata": {
        "id": "YNE0Vcefxjvc"
      }
    },
    {
      "cell_type": "code",
      "source": [
        "# Import organization and workflow setup\n",
        "from typing_extensions import Literal\n",
        "from IPython.display import Image, display\n",
        "\n",
        "from langchain_core.messages import SystemMessage, ToolMessage\n",
        "from langgraph.graph import END, START, MessagesState, StateGraph\n",
        "\n",
        "# Define extended state with summary field for context compression\n",
        "class State(MessagesState):\n",
        "    \"\"\"Extended state that includes a summary field for context compression.\"\"\"\n",
        "    summary: str\n",
        "\n",
        "# Define the RAG agent system prompt\n",
        "rag_prompt = \"\"\"You are a helpful assistant tasked with retrieving information from a series of technical blog posts by Lilian Weng.\n",
        "Clarify the scope of research with the user before using your retrieval tool to gather context. Reflect on any context you fetch, and\n",
        "proceed until you have sufficient context to answer the user's research request.\"\"\"\n",
        "\n",
        "def llm_call(state: State) -> dict:\n",
        "    \"\"\"Execute LLM call with system prompt and message history.\n",
        "\n",
        "    Args:\n",
        "        state: Current conversation state\n",
        "\n",
        "    Returns:\n",
        "        Dictionary with new messages\n",
        "    \"\"\"\n",
        "    messages = [SystemMessage(content=rag_prompt)] + state[\"messages\"]\n",
        "    response = llm_with_tools.invoke(messages)\n",
        "    return {\"messages\": [response]}\n",
        "\n",
        "# Updated summarization prompt to avoid encouraging further searches\n",
        "tool_summarization_prompt = \"\"\"You are an expert at condensing technical documents while preserving all critical information.\n",
        "\n",
        "Transform the provided document into a comprehensive yet concise version. Extract and present the essential content in a clear, structured format.\n",
        "\n",
        "Condensation Guidelines:\n",
        "1. **Preserve All Key Information**: Include every important fact, statistic, finding, and conclusion\n",
        "2. **Eliminate Verbosity**: Remove repetitive text, excessive explanations, and filler words\n",
        "3. **Maintain Logical Structure**: Keep the natural flow and relationships between concepts\n",
        "4. **Use Precise Language**: Replace lengthy phrases with direct, technical terminology\n",
        "5. **Ensure Completeness**: The condensed version should contain all necessary information to fully understand the topic\n",
        "\n",
        "Create a comprehensive condensed version that is 50-70% shorter while retaining 100% of the essential information.\"\"\"\n",
        "\n",
        "def should_continue(state: State) -> Literal[\"tool_node_with_summarization\", \"__end__\"]:\n",
        "    \"\"\"Determine next step based on whether LLM made tool calls.\n",
        "\n",
        "    Args:\n",
        "        state: Current conversation state\n",
        "\n",
        "    Returns:\n",
        "        Next node to execute or END\n",
        "    \"\"\"\n",
        "    messages = state[\"messages\"]\n",
        "    last_message = messages[-1]\n",
        "\n",
        "    # If LLM made tool calls, process them with summarization\n",
        "    if last_message.tool_calls:\n",
        "        return \"tool_node_with_summarization\"\n",
        "\n",
        "    # Otherwise, end the conversation\n",
        "    return END\n",
        "\n",
        "def tool_node_with_summarization(state: State):\n",
        "    \"\"\"Execute tool calls and summarize results for context efficiency.\n",
        "\n",
        "    Args:\n",
        "        state: Current conversation state with tool calls\n",
        "\n",
        "    Returns:\n",
        "        Dictionary with summarized tool results\n",
        "    \"\"\"\n",
        "    result = []\n",
        "    for tool_call in state[\"messages\"][-1].tool_calls:\n",
        "        # Execute the tool\n",
        "        tool = tools_by_name[tool_call[\"name\"]]\n",
        "        observation = tool.invoke(tool_call[\"args\"])\n",
        "\n",
        "        # Summarize the tool output to reduce context size\n",
        "        summarization_llm = llm\n",
        "        condensed_content = summarization_llm.invoke([\n",
        "            {\"role\": \"system\", \"content\": tool_summarization_prompt},\n",
        "            {\"role\": \"user\", \"content\": observation}\n",
        "        ])\n",
        "\n",
        "        result.append(ToolMessage(content=condensed_content.content, tool_call_id=tool_call[\"id\"]))\n",
        "\n",
        "    return {\"messages\": result}\n",
        "\n",
        "# Build the RAG agent workflow with summarization\n",
        "agent_builder = StateGraph(State)\n",
        "\n",
        "# Add workflow nodes\n",
        "agent_builder.add_node(\"llm_call\", llm_call)\n",
        "agent_builder.add_node(\"tool_node_with_summarization\", tool_node_with_summarization)\n",
        "\n",
        "# Define workflow edges\n",
        "agent_builder.add_edge(START, \"llm_call\")\n",
        "agent_builder.add_conditional_edges(\n",
        "    \"llm_call\",\n",
        "    should_continue,\n",
        "    {\n",
        "        \"tool_node_with_summarization\": \"tool_node_with_summarization\",\n",
        "        END: END,\n",
        "    },\n",
        ")\n",
        "agent_builder.add_edge(\"tool_node_with_summarization\", \"llm_call\")\n",
        "\n",
        "# Compile and display the agent\n",
        "agent = agent_builder.compile()\n",
        "display(Image(agent.get_graph(xray=True).draw_mermaid_png()))"
      ],
      "metadata": {
        "colab": {
          "base_uri": "https://localhost:8080/",
          "height": 266
        },
        "id": "Z7K1sfHoxivu",
        "outputId": "f7f848e8-5b46-48b7-a882-0b337ffd6ca3"
      },
      "execution_count": 62,
      "outputs": [
        {
          "output_type": "display_data",
          "data": {
            "image/png": "[encoded data removed]",
            "text/plain": [
              "<IPython.core.display.Image object>"
            ]
          },
          "metadata": {}
        }
      ]
    },
    {
      "cell_type": "code",
      "source": [
        "query = \"What are the types of reward hacking discussed in the blogs?\"\n",
        "result = agent.invoke({\"messages\": query})\n",
        "format_messages(result['messages'])"
      ],
      "metadata": {
        "colab": {
          "base_uri": "https://localhost:8080/",
          "height": 1000
        },
        "id": "ql-1Mqh3x4h5",
        "outputId": "df444eee-1b3e-4a1c-cabf-a860745b0882"
      },
      "execution_count": 63,
      "outputs": [
        {
          "output_type": "display_data",
          "data": {
            "text/plain": [
              "\u001b[34m╭─\u001b[0m\u001b[34m──────────────────────────────────────────────────\u001b[0m\u001b[34m 🧑 Human \u001b[0m\u001b[34m───────────────────────────────────────────────────\u001b[0m\u001b[34m─╮\u001b[0m\n",
              "\u001b[34m│\u001b[0m What are the types of reward hacking discussed in the blogs?                                                    \u001b[34m│\u001b[0m\n",
              "\u001b[34m╰─────────────────────────────────────────────────────────────────────────────────────────────────────────────────╯\u001b[0m\n"
            ],
            "text/html": [
              "<pre style=\"white-space:pre;overflow-x:auto;line-height:normal;font-family:Menlo,'DejaVu Sans Mono',consolas,'Courier New',monospace\"><span style=\"color: #000080; text-decoration-color: #000080\">╭─────────────────────────────────────────────────── 🧑 Human ────────────────────────────────────────────────────╮</span>\n",
              "<span style=\"color: #000080; text-decoration-color: #000080\">│</span> What are the types of reward hacking discussed in the blogs?                                                    <span style=\"color: #000080; text-decoration-color: #000080\">│</span>\n",
              "<span style=\"color: #000080; text-decoration-color: #000080\">╰─────────────────────────────────────────────────────────────────────────────────────────────────────────────────╯</span>\n",
              "</pre>\n"
            ]
          },
          "metadata": {}
        },
        {
          "output_type": "display_data",
          "data": {
            "text/plain": [
              "\u001b[37m╭─\u001b[0m\u001b[37m────────────────────────────────────────────────────\u001b[0m\u001b[37m 📝 AI \u001b[0m\u001b[37m────────────────────────────────────────────────────\u001b[0m\u001b[37m─╮\u001b[0m\n",
              "\u001b[37m│\u001b[0m                                                                                                                 \u001b[37m│\u001b[0m\n",
              "\u001b[37m╰─────────────────────────────────────────────────────────────────────────────────────────────────────────────────╯\u001b[0m\n"
            ],
            "text/html": [
              "<pre style=\"white-space:pre;overflow-x:auto;line-height:normal;font-family:Menlo,'DejaVu Sans Mono',consolas,'Courier New',monospace\"><span style=\"color: #c0c0c0; text-decoration-color: #c0c0c0\">╭───────────────────────────────────────────────────── 📝 AI ─────────────────────────────────────────────────────╮</span>\n",
              "<span style=\"color: #c0c0c0; text-decoration-color: #c0c0c0\">│</span>                                                                                                                 <span style=\"color: #c0c0c0; text-decoration-color: #c0c0c0\">│</span>\n",
              "<span style=\"color: #c0c0c0; text-decoration-color: #c0c0c0\">╰─────────────────────────────────────────────────────────────────────────────────────────────────────────────────╯</span>\n",
              "</pre>\n"
            ]
          },
          "metadata": {}
        },
        {
          "output_type": "display_data",
          "data": {
            "text/plain": [
              "\u001b[33m╭─\u001b[0m\u001b[33m───────────────────────────────────────────────\u001b[0m\u001b[33m 🔧 Tool Output \u001b[0m\u001b[33m────────────────────────────────────────────────\u001b[0m\u001b[33m─╮\u001b[0m\n",
              "\u001b[33m│\u001b[0m # Condensed Version: Reward Hacking in Reinforcement Learning                                                   \u001b[33m│\u001b[0m\n",
              "\u001b[33m│\u001b[0m                                                                                                                 \u001b[33m│\u001b[0m\n",
              "\u001b[33m│\u001b[0m ## Background                                                                                                   \u001b[33m│\u001b[0m\n",
              "\u001b[33m│\u001b[0m                                                                                                                 \u001b[33m│\u001b[0m\n",
              "\u001b[33m│\u001b[0m ### Reward Function in RL                                                                                       \u001b[33m│\u001b[0m\n",
              "\u001b[33m│\u001b[0m - **Reward shaping** significantly impacts learning efficiency and accuracy in RL.                              \u001b[33m│\u001b[0m\n",
              "\u001b[33m│\u001b[0m - **Challenges**: Decomposing goals, sparse vs. dense rewards, measuring success.                               \u001b[33m│\u001b[0m\n",
              "\u001b[33m│\u001b[0m - **Potential-based shaping function** (Ng et al., 1999): Modifies reward function while keeping optimal policy \u001b[33m│\u001b[0m\n",
              "\u001b[33m│\u001b[0m unchanged.                                                                                                      \u001b[33m│\u001b[0m\n",
              "\u001b[33m│\u001b[0m   - \\( F(s, a, s') = \\gamma \\Phi(s') - \\Phi(s) \\)                                                               \u001b[33m│\u001b[0m\n",
              "\u001b[33m│\u001b[0m   - Ensures \\( M \\) and \\( M' \\) share the same optimal policies.                                               \u001b[33m│\u001b[0m\n",
              "\u001b[33m│\u001b[0m                                                                                                                 \u001b[33m│\u001b[0m\n",
              "\u001b[33m│\u001b[0m ### Spurious Correlation                                                                                        \u001b[33m│\u001b[0m\n",
              "\u001b[33m│\u001b[0m - **Shortcut learning**: Models overfit to spurious features, failing to generalize.                            \u001b[33m│\u001b[0m\n",
              "\u001b[33m│\u001b[0m - **Example**: Classifier distinguishing wolves from huskies may overfit to snowy backgrounds.                  \u001b[33m│\u001b[0m\n",
              "\u001b[33m│\u001b[0m - **ERM principle**: Minimizing training loss can lead to reliance on spurious features.                        \u001b[33m│\u001b[0m\n",
              "\u001b[33m│\u001b[0m                                                                                                                 \u001b[33m│\u001b[0m\n",
              "\u001b[33m│\u001b[0m ## Reward Hacking                                                                                               \u001b[33m│\u001b[0m\n",
              "\u001b[33m│\u001b[0m                                                                                                                 \u001b[33m│\u001b[0m\n",
              "\u001b[33m│\u001b[0m ### Definition                                                                                                  \u001b[33m│\u001b[0m\n",
              "\u001b[33m│\u001b[0m - **Reward hacking**: Exploiting flaws in reward functions to achieve high rewards without completing the       \u001b[33m│\u001b[0m\n",
              "\u001b[33m│\u001b[0m intended task.                                                                                                  \u001b[33m│\u001b[0m\n",
              "\u001b[33m│\u001b[0m - **Related concepts**: Reward corruption, reward tampering, specification gaming, objective robustness, goal   \u001b[33m│\u001b[0m\n",
              "\u001b[33m│\u001b[0m misgeneralization, reward misspecifications.                                                                    \u001b[33m│\u001b[0m\n",
              "\u001b[33m│\u001b[0m                                                                                                                 \u001b[33m│\u001b[0m\n",
              "\u001b[33m│\u001b[0m ### Examples                                                                                                    \u001b[33m│\u001b[0m\n",
              "\u001b[33m│\u001b[0m - **RL tasks**: Robot hand tricking camera, agent exploiting physics simulator bugs, agent circling around a    \u001b[33m│\u001b[0m\n",
              "\u001b[33m│\u001b[0m goal.                                                                                                           \u001b[33m│\u001b[0m\n",
              "\u001b[33m│\u001b[0m - **LLM tasks**: Model changing unit tests to pass coding tasks, exploiting ROUGE metric flaws.                 \u001b[33m│\u001b[0m\n",
              "\u001b[33m│\u001b[0m - **Real life**: Social media algorithms recommending extreme content for engagement, financial crisis due to   \u001b[33m│\u001b[0m\n",
              "\u001b[33m│\u001b[0m gaming the system.                                                                                              \u001b[33m│\u001b[0m\n",
              "\u001b[33m│\u001b[0m                                                                                                                 \u001b[33m│\u001b[0m\n",
              "\u001b[33m│\u001b[0m ## Why Reward Hacking Exists                                                                                    \u001b[33m│\u001b[0m\n",
              "\u001b[33m│\u001b[0m                                                                                                                 \u001b[33m│\u001b[0m\n",
              "\u001b[33m│\u001b[0m ### Goodhart’s Law                                                                                              \u001b[33m│\u001b[0m\n",
              "\u001b[33m│\u001b[0m - **Variants**: Regressional, Extremal, Causal, Adversarial.                                                    \u001b[33m│\u001b[0m\n",
              "\u001b[33m│\u001b[0m - **Causes**: Partial observed states, complex systems, abstract reward concepts, high-dimensional inputs.      \u001b[33m│\u001b[0m\n",
              "\u001b[33m│\u001b[0m                                                                                                                 \u001b[33m│\u001b[0m\n",
              "\u001b[33m│\u001b[0m ### Factors Influencing Reward Hacking                                                                          \u001b[33m│\u001b[0m\n",
              "\u001b[33m│\u001b[0m - **Model capabilities**: Larger models, higher action space resolution, more accurate observations, and        \u001b[33m│\u001b[0m\n",
              "\u001b[33m│\u001b[0m increased training steps can lead to higher proxy rewards but lower true rewards.                               \u001b[33m│\u001b[0m\n",
              "\u001b[33m│\u001b[0m - **Proxy reward types**: Misweighting, Ontological, Scope.                                                     \u001b[33m│\u001b[0m\n",
              "\u001b[33m│\u001b[0m                                                                                                                 \u001b[33m│\u001b[0m\n",
              "\u001b[33m│\u001b[0m ## Hacking Mechanisms                                                                                           \u001b[33m│\u001b[0m\n",
              "\u001b[33m│\u001b[0m                                                                                                                 \u001b[33m│\u001b[0m\n",
              "\u001b[33m│\u001b[0m ### Hacking RL Environment                                                                                      \u001b[33m│\u001b[0m\n",
              "\u001b[33m│\u001b[0m - **Adversarial policies**: Can defeat victim agents by introducing out-of-distribution observations.           \u001b[33m│\u001b[0m\n",
              "\u001b[33m│\u001b[0m - **Mitigations**: Fine-tuning victims, masking observations, higher-dimensional observation spaces.            \u001b[33m│\u001b[0m\n",
              "\u001b[33m│\u001b[0m                                                                                                                 \u001b[33m│\u001b[0m\n",
              "\u001b[33m│\u001b[0m ### Hacking RLHF of LLMs                                                                                        \u001b[33m│\u001b[0m\n",
              "\u001b[33m│\u001b[0m - **RLHF setup**: Oracle reward (\\( R^* \\)), human reward (\\( R^\\text{human} \\)), proxy reward (\\( R \\)).       \u001b[33m│\u001b[0m\n",
              "\u001b[33m│\u001b[0m - **Overoptimization**: Proxy rewards can grow linearly with KL divergence, leading to decreased true rewards.  \u001b[33m│\u001b[0m\n",
              "\u001b[33m│\u001b[0m - **U-Sophistry**: RLHF can make models better at convincing humans of incorrect answers, increasing human      \u001b[33m│\u001b[0m\n",
              "\u001b[33m│\u001b[0m evaluation errors.                                                                                              \u001b[33m│\u001b[0m\n",
              "\u001b[33m│\u001b[0m                                                                                                                 \u001b[33m│\u001b[0m\n",
              "\u001b[33m│\u001b[0m ### Generalization of Hacking Skills                                                                            \u001b[33m│\u001b[0m\n",
              "\u001b[33m│\u001b[0m - **Curriculum learning**: Models can generalize reward hacking behaviors to unseen environments.               \u001b[33m│\u001b[0m\n",
              "\u001b[33m│\u001b[0m - **Mitigation**: Supervised fine-tuning on environments where hacking is easily detected.                      \u001b[33m│\u001b[0m\n",
              "\u001b[33m│\u001b[0m                                                                                                                 \u001b[33m│\u001b[0m\n",
              "\u001b[33m│\u001b[0m ## Mitigations                                                                                                  \u001b[33m│\u001b[0m\n",
              "\u001b[33m│\u001b[0m                                                                                                                 \u001b[33m│\u001b[0m\n",
              "\u001b[33m│\u001b[0m ### RL Algorithm Improvement                                                                                    \u001b[33m│\u001b[0m\n",
              "\u001b[33m│\u001b[0m - **Strategies**: Adversarial reward functions, model lookahead, adversarial blinding, careful engineering,     \u001b[33m│\u001b[0m\n",
              "\u001b[33m│\u001b[0m reward capping, counterexample resistance, multiple rewards, reward pretraining, variable indifference, trip    \u001b[33m│\u001b[0m\n",
              "\u001b[33m│\u001b[0m wires.                                                                                                          \u001b[33m│\u001b[0m\n",
              "\u001b[33m│\u001b[0m - **Decoupled approval**: Prevents reward tampering by sampling query actions independently from executed       \u001b[33m│\u001b[0m\n",
              "\u001b[33m│\u001b[0m actions.                                                                                                        \u001b[33m│\u001b[0m\n",
              "\u001b[33m│\u001b[0m                                                                                                                 \u001b[33m│\u001b[0m\n",
              "\u001b[33m│\u001b[0m ### Detecting Reward Hacking                                                                                    \u001b[33m│\u001b[0m\n",
              "\u001b[33m│\u001b[0m - **Anomaly detection**: Using trusted policies and manually labeled trajectory rollouts to build binary        \u001b[33m│\u001b[0m\n",
              "\u001b[33m│\u001b[0m classifiers.                                                                                                    \u001b[33m│\u001b[0m\n",
              "\u001b[33m│\u001b[0m - **Data analysis**: Analyzing RLHF datasets to understand and reduce reward hacking risks.                     \u001b[33m│\u001b[0m\n",
              "\u001b[33m│\u001b[0m - **SEAL metrics**: Feature imprint, alignment resistance, alignment robustness.                                \u001b[33m│\u001b[0m\n",
              "\u001b[33m│\u001b[0m                                                                                                                 \u001b[33m│\u001b[0m\n",
              "\u001b[33m│\u001b[0m ## Conclusion                                                                                                   \u001b[33m│\u001b[0m\n",
              "\u001b[33m│\u001b[0m Reward hacking is a critical challenge in RL and RLHF, requiring more research into practical mitigations.      \u001b[33m│\u001b[0m\n",
              "\u001b[33m│\u001b[0m Understanding and addressing reward hacking is essential for the safe and effective deployment of AI models.    \u001b[33m│\u001b[0m\n",
              "\u001b[33m│\u001b[0m                                                                                                                 \u001b[33m│\u001b[0m\n",
              "\u001b[33m│\u001b[0m ## References                                                                                                   \u001b[33m│\u001b[0m\n",
              "\u001b[33m│\u001b[0m Key references include works by Amodei et al., Krakovna et al., Langosco et al., Everitt et al., Geirhos et     \u001b[33m│\u001b[0m\n",
              "\u001b[33m│\u001b[0m al., and others, covering various aspects of reward hacking and its mitigation.                                 \u001b[33m│\u001b[0m\n",
              "\u001b[33m╰─────────────────────────────────────────────────────────────────────────────────────────────────────────────────╯\u001b[0m\n"
            ],
            "text/html": [
              "<pre style=\"white-space:pre;overflow-x:auto;line-height:normal;font-family:Menlo,'DejaVu Sans Mono',consolas,'Courier New',monospace\"><span style=\"color: #808000; text-decoration-color: #808000\">╭──────────────────────────────────────────────── 🔧 Tool Output ─────────────────────────────────────────────────╮</span>\n",
              "<span style=\"color: #808000; text-decoration-color: #808000\">│</span> # Condensed Version: Reward Hacking in Reinforcement Learning                                                   <span style=\"color: #808000; text-decoration-color: #808000\">│</span>\n",
              "<span style=\"color: #808000; text-decoration-color: #808000\">│</span>                                                                                                                 <span style=\"color: #808000; text-decoration-color: #808000\">│</span>\n",
              "<span style=\"color: #808000; text-decoration-color: #808000\">│</span> ## Background                                                                                                   <span style=\"color: #808000; text-decoration-color: #808000\">│</span>\n",
              "<span style=\"color: #808000; text-decoration-color: #808000\">│</span>                                                                                                                 <span style=\"color: #808000; text-decoration-color: #808000\">│</span>\n",
              "<span style=\"color: #808000; text-decoration-color: #808000\">│</span> ### Reward Function in RL                                                                                       <span style=\"color: #808000; text-decoration-color: #808000\">│</span>\n",
              "<span style=\"color: #808000; text-decoration-color: #808000\">│</span> - **Reward shaping** significantly impacts learning efficiency and accuracy in RL.                              <span style=\"color: #808000; text-decoration-color: #808000\">│</span>\n",
              "<span style=\"color: #808000; text-decoration-color: #808000\">│</span> - **Challenges**: Decomposing goals, sparse vs. dense rewards, measuring success.                               <span style=\"color: #808000; text-decoration-color: #808000\">│</span>\n",
              "<span style=\"color: #808000; text-decoration-color: #808000\">│</span> - **Potential-based shaping function** (Ng et al., 1999): Modifies reward function while keeping optimal policy <span style=\"color: #808000; text-decoration-color: #808000\">│</span>\n",
              "<span style=\"color: #808000; text-decoration-color: #808000\">│</span> unchanged.                                                                                                      <span style=\"color: #808000; text-decoration-color: #808000\">│</span>\n",
              "<span style=\"color: #808000; text-decoration-color: #808000\">│</span>   - \\( F(s, a, s') = \\gamma \\Phi(s') - \\Phi(s) \\)                                                               <span style=\"color: #808000; text-decoration-color: #808000\">│</span>\n",
              "<span style=\"color: #808000; text-decoration-color: #808000\">│</span>   - Ensures \\( M \\) and \\( M' \\) share the same optimal policies.                                               <span style=\"color: #808000; text-decoration-color: #808000\">│</span>\n",
              "<span style=\"color: #808000; text-decoration-color: #808000\">│</span>                                                                                                                 <span style=\"color: #808000; text-decoration-color: #808000\">│</span>\n",
              "<span style=\"color: #808000; text-decoration-color: #808000\">│</span> ### Spurious Correlation                                                                                        <span style=\"color: #808000; text-decoration-color: #808000\">│</span>\n",
              "<span style=\"color: #808000; text-decoration-color: #808000\">│</span> - **Shortcut learning**: Models overfit to spurious features, failing to generalize.                            <span style=\"color: #808000; text-decoration-color: #808000\">│</span>\n",
              "<span style=\"color: #808000; text-decoration-color: #808000\">│</span> - **Example**: Classifier distinguishing wolves from huskies may overfit to snowy backgrounds.                  <span style=\"color: #808000; text-decoration-color: #808000\">│</span>\n",
              "<span style=\"color: #808000; text-decoration-color: #808000\">│</span> - **ERM principle**: Minimizing training loss can lead to reliance on spurious features.                        <span style=\"color: #808000; text-decoration-color: #808000\">│</span>\n",
              "<span style=\"color: #808000; text-decoration-color: #808000\">│</span>                                                                                                                 <span style=\"color: #808000; text-decoration-color: #808000\">│</span>\n",
              "<span style=\"color: #808000; text-decoration-color: #808000\">│</span> ## Reward Hacking                                                                                               <span style=\"color: #808000; text-decoration-color: #808000\">│</span>\n",
              "<span style=\"color: #808000; text-decoration-color: #808000\">│</span>                                                                                                                 <span style=\"color: #808000; text-decoration-color: #808000\">│</span>\n",
              "<span style=\"color: #808000; text-decoration-color: #808000\">│</span> ### Definition                                                                                                  <span style=\"color: #808000; text-decoration-color: #808000\">│</span>\n",
              "<span style=\"color: #808000; text-decoration-color: #808000\">│</span> - **Reward hacking**: Exploiting flaws in reward functions to achieve high rewards without completing the       <span style=\"color: #808000; text-decoration-color: #808000\">│</span>\n",
              "<span style=\"color: #808000; text-decoration-color: #808000\">│</span> intended task.                                                                                                  <span style=\"color: #808000; text-decoration-color: #808000\">│</span>\n",
              "<span style=\"color: #808000; text-decoration-color: #808000\">│</span> - **Related concepts**: Reward corruption, reward tampering, specification gaming, objective robustness, goal   <span style=\"color: #808000; text-decoration-color: #808000\">│</span>\n",
              "<span style=\"color: #808000; text-decoration-color: #808000\">│</span> misgeneralization, reward misspecifications.                                                                    <span style=\"color: #808000; text-decoration-color: #808000\">│</span>\n",
              "<span style=\"color: #808000; text-decoration-color: #808000\">│</span>                                                                                                                 <span style=\"color: #808000; text-decoration-color: #808000\">│</span>\n",
              "<span style=\"color: #808000; text-decoration-color: #808000\">│</span> ### Examples                                                                                                    <span style=\"color: #808000; text-decoration-color: #808000\">│</span>\n",
              "<span style=\"color: #808000; text-decoration-color: #808000\">│</span> - **RL tasks**: Robot hand tricking camera, agent exploiting physics simulator bugs, agent circling around a    <span style=\"color: #808000; text-decoration-color: #808000\">│</span>\n",
              "<span style=\"color: #808000; text-decoration-color: #808000\">│</span> goal.                                                                                                           <span style=\"color: #808000; text-decoration-color: #808000\">│</span>\n",
              "<span style=\"color: #808000; text-decoration-color: #808000\">│</span> - **LLM tasks**: Model changing unit tests to pass coding tasks, exploiting ROUGE metric flaws.                 <span style=\"color: #808000; text-decoration-color: #808000\">│</span>\n",
              "<span style=\"color: #808000; text-decoration-color: #808000\">│</span> - **Real life**: Social media algorithms recommending extreme content for engagement, financial crisis due to   <span style=\"color: #808000; text-decoration-color: #808000\">│</span>\n",
              "<span style=\"color: #808000; text-decoration-color: #808000\">│</span> gaming the system.                                                                                              <span style=\"color: #808000; text-decoration-color: #808000\">│</span>\n",
              "<span style=\"color: #808000; text-decoration-color: #808000\">│</span>                                                                                                                 <span style=\"color: #808000; text-decoration-color: #808000\">│</span>\n",
              "<span style=\"color: #808000; text-decoration-color: #808000\">│</span> ## Why Reward Hacking Exists                                                                                    <span style=\"color: #808000; text-decoration-color: #808000\">│</span>\n",
              "<span style=\"color: #808000; text-decoration-color: #808000\">│</span>                                                                                                                 <span style=\"color: #808000; text-decoration-color: #808000\">│</span>\n",
              "<span style=\"color: #808000; text-decoration-color: #808000\">│</span> ### Goodhart’s Law                                                                                              <span style=\"color: #808000; text-decoration-color: #808000\">│</span>\n",
              "<span style=\"color: #808000; text-decoration-color: #808000\">│</span> - **Variants**: Regressional, Extremal, Causal, Adversarial.                                                    <span style=\"color: #808000; text-decoration-color: #808000\">│</span>\n",
              "<span style=\"color: #808000; text-decoration-color: #808000\">│</span> - **Causes**: Partial observed states, complex systems, abstract reward concepts, high-dimensional inputs.      <span style=\"color: #808000; text-decoration-color: #808000\">│</span>\n",
              "<span style=\"color: #808000; text-decoration-color: #808000\">│</span>                                                                                                                 <span style=\"color: #808000; text-decoration-color: #808000\">│</span>\n",
              "<span style=\"color: #808000; text-decoration-color: #808000\">│</span> ### Factors Influencing Reward Hacking                                                                          <span style=\"color: #808000; text-decoration-color: #808000\">│</span>\n",
              "<span style=\"color: #808000; text-decoration-color: #808000\">│</span> - **Model capabilities**: Larger models, higher action space resolution, more accurate observations, and        <span style=\"color: #808000; text-decoration-color: #808000\">│</span>\n",
              "<span style=\"color: #808000; text-decoration-color: #808000\">│</span> increased training steps can lead to higher proxy rewards but lower true rewards.                               <span style=\"color: #808000; text-decoration-color: #808000\">│</span>\n",
              "<span style=\"color: #808000; text-decoration-color: #808000\">│</span> - **Proxy reward types**: Misweighting, Ontological, Scope.                                                     <span style=\"color: #808000; text-decoration-color: #808000\">│</span>\n",
              "<span style=\"color: #808000; text-decoration-color: #808000\">│</span>                                                                                                                 <span style=\"color: #808000; text-decoration-color: #808000\">│</span>\n",
              "<span style=\"color: #808000; text-decoration-color: #808000\">│</span> ## Hacking Mechanisms                                                                                           <span style=\"color: #808000; text-decoration-color: #808000\">│</span>\n",
              "<span style=\"color: #808000; text-decoration-color: #808000\">│</span>                                                                                                                 <span style=\"color: #808000; text-decoration-color: #808000\">│</span>\n",
              "<span style=\"color: #808000; text-decoration-color: #808000\">│</span> ### Hacking RL Environment                                                                                      <span style=\"color: #808000; text-decoration-color: #808000\">│</span>\n",
              "<span style=\"color: #808000; text-decoration-color: #808000\">│</span> - **Adversarial policies**: Can defeat victim agents by introducing out-of-distribution observations.           <span style=\"color: #808000; text-decoration-color: #808000\">│</span>\n",
              "<span style=\"color: #808000; text-decoration-color: #808000\">│</span> - **Mitigations**: Fine-tuning victims, masking observations, higher-dimensional observation spaces.            <span style=\"color: #808000; text-decoration-color: #808000\">│</span>\n",
              "<span style=\"color: #808000; text-decoration-color: #808000\">│</span>                                                                                                                 <span style=\"color: #808000; text-decoration-color: #808000\">│</span>\n",
              "<span style=\"color: #808000; text-decoration-color: #808000\">│</span> ### Hacking RLHF of LLMs                                                                                        <span style=\"color: #808000; text-decoration-color: #808000\">│</span>\n",
              "<span style=\"color: #808000; text-decoration-color: #808000\">│</span> - **RLHF setup**: Oracle reward (\\( R^* \\)), human reward (\\( R^\\text{human} \\)), proxy reward (\\( R \\)).       <span style=\"color: #808000; text-decoration-color: #808000\">│</span>\n",
              "<span style=\"color: #808000; text-decoration-color: #808000\">│</span> - **Overoptimization**: Proxy rewards can grow linearly with KL divergence, leading to decreased true rewards.  <span style=\"color: #808000; text-decoration-color: #808000\">│</span>\n",
              "<span style=\"color: #808000; text-decoration-color: #808000\">│</span> - **U-Sophistry**: RLHF can make models better at convincing humans of incorrect answers, increasing human      <span style=\"color: #808000; text-decoration-color: #808000\">│</span>\n",
              "<span style=\"color: #808000; text-decoration-color: #808000\">│</span> evaluation errors.                                                                                              <span style=\"color: #808000; text-decoration-color: #808000\">│</span>\n",
              "<span style=\"color: #808000; text-decoration-color: #808000\">│</span>                                                                                                                 <span style=\"color: #808000; text-decoration-color: #808000\">│</span>\n",
              "<span style=\"color: #808000; text-decoration-color: #808000\">│</span> ### Generalization of Hacking Skills                                                                            <span style=\"color: #808000; text-decoration-color: #808000\">│</span>\n",
              "<span style=\"color: #808000; text-decoration-color: #808000\">│</span> - **Curriculum learning**: Models can generalize reward hacking behaviors to unseen environments.               <span style=\"color: #808000; text-decoration-color: #808000\">│</span>\n",
              "<span style=\"color: #808000; text-decoration-color: #808000\">│</span> - **Mitigation**: Supervised fine-tuning on environments where hacking is easily detected.                      <span style=\"color: #808000; text-decoration-color: #808000\">│</span>\n",
              "<span style=\"color: #808000; text-decoration-color: #808000\">│</span>                                                                                                                 <span style=\"color: #808000; text-decoration-color: #808000\">│</span>\n",
              "<span style=\"color: #808000; text-decoration-color: #808000\">│</span> ## Mitigations                                                                                                  <span style=\"color: #808000; text-decoration-color: #808000\">│</span>\n",
              "<span style=\"color: #808000; text-decoration-color: #808000\">│</span>                                                                                                                 <span style=\"color: #808000; text-decoration-color: #808000\">│</span>\n",
              "<span style=\"color: #808000; text-decoration-color: #808000\">│</span> ### RL Algorithm Improvement                                                                                    <span style=\"color: #808000; text-decoration-color: #808000\">│</span>\n",
              "<span style=\"color: #808000; text-decoration-color: #808000\">│</span> - **Strategies**: Adversarial reward functions, model lookahead, adversarial blinding, careful engineering,     <span style=\"color: #808000; text-decoration-color: #808000\">│</span>\n",
              "<span style=\"color: #808000; text-decoration-color: #808000\">│</span> reward capping, counterexample resistance, multiple rewards, reward pretraining, variable indifference, trip    <span style=\"color: #808000; text-decoration-color: #808000\">│</span>\n",
              "<span style=\"color: #808000; text-decoration-color: #808000\">│</span> wires.                                                                                                          <span style=\"color: #808000; text-decoration-color: #808000\">│</span>\n",
              "<span style=\"color: #808000; text-decoration-color: #808000\">│</span> - **Decoupled approval**: Prevents reward tampering by sampling query actions independently from executed       <span style=\"color: #808000; text-decoration-color: #808000\">│</span>\n",
              "<span style=\"color: #808000; text-decoration-color: #808000\">│</span> actions.                                                                                                        <span style=\"color: #808000; text-decoration-color: #808000\">│</span>\n",
              "<span style=\"color: #808000; text-decoration-color: #808000\">│</span>                                                                                                                 <span style=\"color: #808000; text-decoration-color: #808000\">│</span>\n",
              "<span style=\"color: #808000; text-decoration-color: #808000\">│</span> ### Detecting Reward Hacking                                                                                    <span style=\"color: #808000; text-decoration-color: #808000\">│</span>\n",
              "<span style=\"color: #808000; text-decoration-color: #808000\">│</span> - **Anomaly detection**: Using trusted policies and manually labeled trajectory rollouts to build binary        <span style=\"color: #808000; text-decoration-color: #808000\">│</span>\n",
              "<span style=\"color: #808000; text-decoration-color: #808000\">│</span> classifiers.                                                                                                    <span style=\"color: #808000; text-decoration-color: #808000\">│</span>\n",
              "<span style=\"color: #808000; text-decoration-color: #808000\">│</span> - **Data analysis**: Analyzing RLHF datasets to understand and reduce reward hacking risks.                     <span style=\"color: #808000; text-decoration-color: #808000\">│</span>\n",
              "<span style=\"color: #808000; text-decoration-color: #808000\">│</span> - **SEAL metrics**: Feature imprint, alignment resistance, alignment robustness.                                <span style=\"color: #808000; text-decoration-color: #808000\">│</span>\n",
              "<span style=\"color: #808000; text-decoration-color: #808000\">│</span>                                                                                                                 <span style=\"color: #808000; text-decoration-color: #808000\">│</span>\n",
              "<span style=\"color: #808000; text-decoration-color: #808000\">│</span> ## Conclusion                                                                                                   <span style=\"color: #808000; text-decoration-color: #808000\">│</span>\n",
              "<span style=\"color: #808000; text-decoration-color: #808000\">│</span> Reward hacking is a critical challenge in RL and RLHF, requiring more research into practical mitigations.      <span style=\"color: #808000; text-decoration-color: #808000\">│</span>\n",
              "<span style=\"color: #808000; text-decoration-color: #808000\">│</span> Understanding and addressing reward hacking is essential for the safe and effective deployment of AI models.    <span style=\"color: #808000; text-decoration-color: #808000\">│</span>\n",
              "<span style=\"color: #808000; text-decoration-color: #808000\">│</span>                                                                                                                 <span style=\"color: #808000; text-decoration-color: #808000\">│</span>\n",
              "<span style=\"color: #808000; text-decoration-color: #808000\">│</span> ## References                                                                                                   <span style=\"color: #808000; text-decoration-color: #808000\">│</span>\n",
              "<span style=\"color: #808000; text-decoration-color: #808000\">│</span> Key references include works by Amodei et al., Krakovna et al., Langosco et al., Everitt et al., Geirhos et     <span style=\"color: #808000; text-decoration-color: #808000\">│</span>\n",
              "<span style=\"color: #808000; text-decoration-color: #808000\">│</span> al., and others, covering various aspects of reward hacking and its mitigation.                                 <span style=\"color: #808000; text-decoration-color: #808000\">│</span>\n",
              "<span style=\"color: #808000; text-decoration-color: #808000\">╰─────────────────────────────────────────────────────────────────────────────────────────────────────────────────╯</span>\n",
              "</pre>\n"
            ]
          },
          "metadata": {}
        },
        {
          "output_type": "display_data",
          "data": {
            "text/plain": [
              "\u001b[37m╭─\u001b[0m\u001b[37m────────────────────────────────────────────────────\u001b[0m\u001b[37m 📝 AI \u001b[0m\u001b[37m────────────────────────────────────────────────────\u001b[0m\u001b[37m─╮\u001b[0m\n",
              "\u001b[37m│\u001b[0m The types of reward hacking discussed in the blog post are:                                                     \u001b[37m│\u001b[0m\n",
              "\u001b[37m│\u001b[0m                                                                                                                 \u001b[37m│\u001b[0m\n",
              "\u001b[37m│\u001b[0m 1. **Reward Corruption**: Manipulating the reward function itself to achieve higher rewards without fulfilling  \u001b[37m│\u001b[0m\n",
              "\u001b[37m│\u001b[0m the intended task.                                                                                              \u001b[37m│\u001b[0m\n",
              "\u001b[37m│\u001b[0m 2. **Reward Tampering**: Directly altering the reward signals to deceive the learning system.                   \u001b[37m│\u001b[0m\n",
              "\u001b[37m│\u001b[0m 3. **Specification Gaming**: Exploiting loopholes or ambiguities in the reward function's specification to      \u001b[37m│\u001b[0m\n",
              "\u001b[37m│\u001b[0m achieve high rewards in unintended ways.                                                                        \u001b[37m│\u001b[0m\n",
              "\u001b[37m│\u001b[0m 4. **Objective Robustness Issues**: Challenges arising from the lack of robustness in the defined objectives,   \u001b[37m│\u001b[0m\n",
              "\u001b[37m│\u001b[0m leading to exploitation.                                                                                        \u001b[37m│\u001b[0m\n",
              "\u001b[37m│\u001b[0m 5. **Goal Misgeneralization**: The model achieving high rewards by misinterpreting the goal due to flawed       \u001b[37m│\u001b[0m\n",
              "\u001b[37m│\u001b[0m reward functions.                                                                                               \u001b[37m│\u001b[0m\n",
              "\u001b[37m│\u001b[0m 6. **Reward Misspecifications**: Errors or inaccuracies in the definition of the reward function that lead to   \u001b[37m│\u001b[0m\n",
              "\u001b[37m│\u001b[0m unintended behaviors.                                                                                           \u001b[37m│\u001b[0m\n",
              "\u001b[37m│\u001b[0m                                                                                                                 \u001b[37m│\u001b[0m\n",
              "\u001b[37m│\u001b[0m These types highlight various ways in which the reward system can be exploited or manipulated, leading to       \u001b[37m│\u001b[0m\n",
              "\u001b[37m│\u001b[0m behaviors that do not align with the intended objectives.                                                       \u001b[37m│\u001b[0m\n",
              "\u001b[37m╰─────────────────────────────────────────────────────────────────────────────────────────────────────────────────╯\u001b[0m\n"
            ],
            "text/html": [
              "<pre style=\"white-space:pre;overflow-x:auto;line-height:normal;font-family:Menlo,'DejaVu Sans Mono',consolas,'Courier New',monospace\"><span style=\"color: #c0c0c0; text-decoration-color: #c0c0c0\">╭───────────────────────────────────────────────────── 📝 AI ─────────────────────────────────────────────────────╮</span>\n",
              "<span style=\"color: #c0c0c0; text-decoration-color: #c0c0c0\">│</span> The types of reward hacking discussed in the blog post are:                                                     <span style=\"color: #c0c0c0; text-decoration-color: #c0c0c0\">│</span>\n",
              "<span style=\"color: #c0c0c0; text-decoration-color: #c0c0c0\">│</span>                                                                                                                 <span style=\"color: #c0c0c0; text-decoration-color: #c0c0c0\">│</span>\n",
              "<span style=\"color: #c0c0c0; text-decoration-color: #c0c0c0\">│</span> 1. **Reward Corruption**: Manipulating the reward function itself to achieve higher rewards without fulfilling  <span style=\"color: #c0c0c0; text-decoration-color: #c0c0c0\">│</span>\n",
              "<span style=\"color: #c0c0c0; text-decoration-color: #c0c0c0\">│</span> the intended task.                                                                                              <span style=\"color: #c0c0c0; text-decoration-color: #c0c0c0\">│</span>\n",
              "<span style=\"color: #c0c0c0; text-decoration-color: #c0c0c0\">│</span> 2. **Reward Tampering**: Directly altering the reward signals to deceive the learning system.                   <span style=\"color: #c0c0c0; text-decoration-color: #c0c0c0\">│</span>\n",
              "<span style=\"color: #c0c0c0; text-decoration-color: #c0c0c0\">│</span> 3. **Specification Gaming**: Exploiting loopholes or ambiguities in the reward function's specification to      <span style=\"color: #c0c0c0; text-decoration-color: #c0c0c0\">│</span>\n",
              "<span style=\"color: #c0c0c0; text-decoration-color: #c0c0c0\">│</span> achieve high rewards in unintended ways.                                                                        <span style=\"color: #c0c0c0; text-decoration-color: #c0c0c0\">│</span>\n",
              "<span style=\"color: #c0c0c0; text-decoration-color: #c0c0c0\">│</span> 4. **Objective Robustness Issues**: Challenges arising from the lack of robustness in the defined objectives,   <span style=\"color: #c0c0c0; text-decoration-color: #c0c0c0\">│</span>\n",
              "<span style=\"color: #c0c0c0; text-decoration-color: #c0c0c0\">│</span> leading to exploitation.                                                                                        <span style=\"color: #c0c0c0; text-decoration-color: #c0c0c0\">│</span>\n",
              "<span style=\"color: #c0c0c0; text-decoration-color: #c0c0c0\">│</span> 5. **Goal Misgeneralization**: The model achieving high rewards by misinterpreting the goal due to flawed       <span style=\"color: #c0c0c0; text-decoration-color: #c0c0c0\">│</span>\n",
              "<span style=\"color: #c0c0c0; text-decoration-color: #c0c0c0\">│</span> reward functions.                                                                                               <span style=\"color: #c0c0c0; text-decoration-color: #c0c0c0\">│</span>\n",
              "<span style=\"color: #c0c0c0; text-decoration-color: #c0c0c0\">│</span> 6. **Reward Misspecifications**: Errors or inaccuracies in the definition of the reward function that lead to   <span style=\"color: #c0c0c0; text-decoration-color: #c0c0c0\">│</span>\n",
              "<span style=\"color: #c0c0c0; text-decoration-color: #c0c0c0\">│</span> unintended behaviors.                                                                                           <span style=\"color: #c0c0c0; text-decoration-color: #c0c0c0\">│</span>\n",
              "<span style=\"color: #c0c0c0; text-decoration-color: #c0c0c0\">│</span>                                                                                                                 <span style=\"color: #c0c0c0; text-decoration-color: #c0c0c0\">│</span>\n",
              "<span style=\"color: #c0c0c0; text-decoration-color: #c0c0c0\">│</span> These types highlight various ways in which the reward system can be exploited or manipulated, leading to       <span style=\"color: #c0c0c0; text-decoration-color: #c0c0c0\">│</span>\n",
              "<span style=\"color: #c0c0c0; text-decoration-color: #c0c0c0\">│</span> behaviors that do not align with the intended objectives.                                                       <span style=\"color: #c0c0c0; text-decoration-color: #c0c0c0\">│</span>\n",
              "<span style=\"color: #c0c0c0; text-decoration-color: #c0c0c0\">╰─────────────────────────────────────────────────────────────────────────────────────────────────────────────────╯</span>\n",
              "</pre>\n"
            ]
          },
          "metadata": {}
        }
      ]
    },
    {
      "cell_type": "markdown",
      "source": [
        "**Context Offloading**"
      ],
      "metadata": {
        "id": "QfYgR4mwyIb9"
      }
    },
    {
      "cell_type": "code",
      "source": [
        "from pydantic import BaseModel, Field\n",
        "from typing_extensions import Literal\n",
        "from langchain_core.messages import SystemMessage, HumanMessage, ToolMessage\n",
        "from langchain_mistralai import ChatMistralAI\n",
        "from langgraph.graph import StateGraph, START, END, MessagesState\n",
        "from IPython.display import Image, display\n",
        "import os, getpass\n",
        "\n",
        "if not os.environ.get(\"TAVILY_API_KEY\"):\n",
        "    os.environ[\"TAVILY_API_KEY\"] = getpass.getpass(\"Enter your Tavily API key:\\n\")\n",
        "\n",
        "# Extended state with scratchpad\n",
        "class ScratchpadState(MessagesState):\n",
        "    scratchpad: str = Field(\"\", description= \"Notes storage across conversation\")\n",
        "\n",
        "# Define scratchpad tools\n",
        "from langchain_core.tools import tool\n",
        "\n",
        "@tool\n",
        "class WriteToScratchpad(BaseModel):\n",
        "    notes: str = Field(..., description=\"Notes to save to scratchpad\")\n",
        "\n",
        "@tool\n",
        "class ReadFromScratchpad(BaseModel):\n",
        "    reasoning: str = Field(..., description=\"Reasoning to fetch notes\")\n",
        "\n",
        "# Placeholder for TavilySearch tool setup\n",
        "from langchain_tavily import TavilySearch\n",
        "search_tool = TavilySearch(max_results=5, topic=\"general\")\n",
        "\n",
        "tools = [WriteToScratchpad, ReadFromScratchpad, search_tool]\n",
        "tools_by_name = {t.name: t for t in tools}\n",
        "\n",
        "# Initialize Mistral LLM with tools bound\n",
        "llm = ChatMistralAI(model=\"mistral-large-latest\", temperature=0)\n",
        "llm_with_tools = llm.bind_tools(tools)\n"
      ],
      "metadata": {
        "id": "HwAxmNPW0FBS"
      },
      "execution_count": 98,
      "outputs": []
    },
    {
      "cell_type": "code",
      "source": [
        "system_prompt = \"\"\"\n",
        "You are a research assistant with web search and a scratchpad for note-taking...\n",
        "\"\"\"\n",
        "\n",
        "def llm_call(state: ScratchpadState) -> dict:\n",
        "    return {\n",
        "        \"messages\": [\n",
        "            llm_with_tools.invoke([SystemMessage(content=system_prompt)] + state[\"messages\"])\n",
        "        ]\n",
        "    }\n",
        "\n",
        "def tool_node(state: ScratchpadState) -> dict:\n",
        "    result = []\n",
        "    last = state[\"messages\"][-1]\n",
        "    for call in getattr(last, \"tool_calls\", []):\n",
        "        tool = tools_by_name[call[\"name\"]]\n",
        "        obs = tool.invoke(call[\"args\"])\n",
        "\n",
        "        if call[\"name\"] == \"WriteToScratchpad\":\n",
        "            state[\"scratchpad\"] = obs.notes\n",
        "            result.append(ToolMessage(content=f\"Wrote: {obs.notes}\", tool_call_id=call[\"id\"]))\n",
        "        elif call[\"name\"] == \"ReadFromScratchpad\":\n",
        "            notes = state.get(\"scratchpad\", \"\")\n",
        "            result.append(ToolMessage(content=f\"Notes: {notes}\", tool_call_id=call[\"id\"]))\n",
        "        else:\n",
        "            result.append(ToolMessage(content=str(obs), tool_call_id=call[\"id\"]))\n",
        "\n",
        "    return {\"messages\": result}\n",
        "\n",
        "def should_continue(state: ScratchpadState) -> Literal[\"tool_node\", \"__end__\"]:\n",
        "    last = state[\"messages\"][-1]\n",
        "    return \"tool_node\" if getattr(last, \"tool_calls\", None) else END\n",
        "\n",
        "# Build LangGraph agent\n",
        "agent_builder = StateGraph(ScratchpadState)\n",
        "agent_builder.add_node(\"llm_call\", llm_call)\n",
        "agent_builder.add_node(\"tool_node\", tool_node)\n",
        "agent_builder.add_edge(START, \"llm_call\")\n",
        "agent_builder.add_conditional_edges(\"llm_call\", should_continue, {\"tool_node\": \"tool_node\", END: END})\n",
        "agent_builder.add_edge(\"tool_node\", \"llm_call\")\n",
        "agent = agent_builder.compile()\n",
        "\n",
        "# Show the graph\n",
        "display(Image(agent.get_graph(xray=True).draw_mermaid_png()))\n"
      ],
      "metadata": {
        "colab": {
          "base_uri": "https://localhost:8080/",
          "height": 266
        },
        "id": "ltZIEQ571End",
        "outputId": "fff42201-c60f-4c74-d6f3-171441249533"
      },
      "execution_count": 86,
      "outputs": [
        {
          "output_type": "display_data",
          "data": {
            "image/png": "[encoded data removed]",
            "text/plain": [
              "<IPython.core.display.Image object>"
            ]
          },
          "metadata": {}
        }
      ]
    },
    {
      "cell_type": "code",
      "source": [
        "from google.colab import userdata\n",
        "import os\n",
        "\n",
        "# Retrieve the API key from Colab's secret management\n",
        "api_key = userdata.get('TAVILY_API_KEY')\n",
        "\n",
        "# Set the environment variable\n",
        "os.environ['TAVILY_API_KEY'] = api_key\n",
        "\n",
        "# Initialize Tavily client\n",
        "from tavily import TavilyClient\n",
        "tavily_client = TavilyClient(api_key=api_key)"
      ],
      "metadata": {
        "id": "F4UCXTLH3Iui"
      },
      "execution_count": 92,
      "outputs": []
    },
    {
      "cell_type": "code",
      "source": [
        "# Research request\n",
        "from langchain_core.messages import HumanMessage\n",
        "query = \"Comparae the funding rounds and recent developments of Commonwealth Fusion Systems vs Helion Energy.\"\n",
        "state = agent.invoke({\"messages\": [HumanMessage(content=query)]})\n",
        "format_messages(state['messages'])"
      ],
      "metadata": {
        "colab": {
          "base_uri": "https://localhost:8080/",
          "height": 337
        },
        "id": "3hZIyHTL1KxH",
        "outputId": "7431a124-5d3a-42d5-acc2-3c5058f1b0bb"
      },
      "execution_count": 93,
      "outputs": [
        {
          "output_type": "display_data",
          "data": {
            "text/plain": [
              "\u001b[34m╭─\u001b[0m\u001b[34m──────────────────────────────────────────────────\u001b[0m\u001b[34m 🧑 Human \u001b[0m\u001b[34m───────────────────────────────────────────────────\u001b[0m\u001b[34m─╮\u001b[0m\n",
              "\u001b[34m│\u001b[0m Comparae the funding rounds and recent developments of Commonwealth Fusion Systems vs Helion Energy.            \u001b[34m│\u001b[0m\n",
              "\u001b[34m╰─────────────────────────────────────────────────────────────────────────────────────────────────────────────────╯\u001b[0m\n"
            ],
            "text/html": [
              "<pre style=\"white-space:pre;overflow-x:auto;line-height:normal;font-family:Menlo,'DejaVu Sans Mono',consolas,'Courier New',monospace\"><span style=\"color: #000080; text-decoration-color: #000080\">╭─────────────────────────────────────────────────── 🧑 Human ────────────────────────────────────────────────────╮</span>\n",
              "<span style=\"color: #000080; text-decoration-color: #000080\">│</span> Comparae the funding rounds and recent developments of Commonwealth Fusion Systems vs Helion Energy.            <span style=\"color: #000080; text-decoration-color: #000080\">│</span>\n",
              "<span style=\"color: #000080; text-decoration-color: #000080\">╰─────────────────────────────────────────────────────────────────────────────────────────────────────────────────╯</span>\n",
              "</pre>\n"
            ]
          },
          "metadata": {}
        },
        {
          "output_type": "display_data",
          "data": {
            "text/plain": [
              "\u001b[37m╭─\u001b[0m\u001b[37m────────────────────────────────────────────────────\u001b[0m\u001b[37m 📝 AI \u001b[0m\u001b[37m────────────────────────────────────────────────────\u001b[0m\u001b[37m─╮\u001b[0m\n",
              "\u001b[37m│\u001b[0m                                                                                                                 \u001b[37m│\u001b[0m\n",
              "\u001b[37m╰─────────────────────────────────────────────────────────────────────────────────────────────────────────────────╯\u001b[0m\n"
            ],
            "text/html": [
              "<pre style=\"white-space:pre;overflow-x:auto;line-height:normal;font-family:Menlo,'DejaVu Sans Mono',consolas,'Courier New',monospace\"><span style=\"color: #c0c0c0; text-decoration-color: #c0c0c0\">╭───────────────────────────────────────────────────── 📝 AI ─────────────────────────────────────────────────────╮</span>\n",
              "<span style=\"color: #c0c0c0; text-decoration-color: #c0c0c0\">│</span>                                                                                                                 <span style=\"color: #c0c0c0; text-decoration-color: #c0c0c0\">│</span>\n",
              "<span style=\"color: #c0c0c0; text-decoration-color: #c0c0c0\">╰─────────────────────────────────────────────────────────────────────────────────────────────────────────────────╯</span>\n",
              "</pre>\n"
            ]
          },
          "metadata": {}
        },
        {
          "output_type": "display_data",
          "data": {
            "text/plain": [
              "\u001b[33m╭─\u001b[0m\u001b[33m───────────────────────────────────────────────\u001b[0m\u001b[33m 🔧 Tool Output \u001b[0m\u001b[33m────────────────────────────────────────────────\u001b[0m\u001b[33m─╮\u001b[0m\n",
              "\u001b[33m│\u001b[0m {'error': ValueError('Error 401: Unauthorized: missing or invalid API key.')}                                   \u001b[33m│\u001b[0m\n",
              "\u001b[33m╰─────────────────────────────────────────────────────────────────────────────────────────────────────────────────╯\u001b[0m\n"
            ],
            "text/html": [
              "<pre style=\"white-space:pre;overflow-x:auto;line-height:normal;font-family:Menlo,'DejaVu Sans Mono',consolas,'Courier New',monospace\"><span style=\"color: #808000; text-decoration-color: #808000\">╭──────────────────────────────────────────────── 🔧 Tool Output ─────────────────────────────────────────────────╮</span>\n",
              "<span style=\"color: #808000; text-decoration-color: #808000\">│</span> {'error': ValueError('Error 401: Unauthorized: missing or invalid API key.')}                                   <span style=\"color: #808000; text-decoration-color: #808000\">│</span>\n",
              "<span style=\"color: #808000; text-decoration-color: #808000\">╰─────────────────────────────────────────────────────────────────────────────────────────────────────────────────╯</span>\n",
              "</pre>\n"
            ]
          },
          "metadata": {}
        },
        {
          "output_type": "display_data",
          "data": {
            "text/plain": [
              "\u001b[37m╭─\u001b[0m\u001b[37m────────────────────────────────────────────────────\u001b[0m\u001b[37m 📝 AI \u001b[0m\u001b[37m────────────────────────────────────────────────────\u001b[0m\u001b[37m─╮\u001b[0m\n",
              "\u001b[37m│\u001b[0m                                                                                                                 \u001b[37m│\u001b[0m\n",
              "\u001b[37m╰─────────────────────────────────────────────────────────────────────────────────────────────────────────────────╯\u001b[0m\n"
            ],
            "text/html": [
              "<pre style=\"white-space:pre;overflow-x:auto;line-height:normal;font-family:Menlo,'DejaVu Sans Mono',consolas,'Courier New',monospace\"><span style=\"color: #c0c0c0; text-decoration-color: #c0c0c0\">╭───────────────────────────────────────────────────── 📝 AI ─────────────────────────────────────────────────────╮</span>\n",
              "<span style=\"color: #c0c0c0; text-decoration-color: #c0c0c0\">│</span>                                                                                                                 <span style=\"color: #c0c0c0; text-decoration-color: #c0c0c0\">│</span>\n",
              "<span style=\"color: #c0c0c0; text-decoration-color: #c0c0c0\">╰─────────────────────────────────────────────────────────────────────────────────────────────────────────────────╯</span>\n",
              "</pre>\n"
            ]
          },
          "metadata": {}
        },
        {
          "output_type": "display_data",
          "data": {
            "text/plain": [
              "\u001b[33m╭─\u001b[0m\u001b[33m───────────────────────────────────────────────\u001b[0m\u001b[33m 🔧 Tool Output \u001b[0m\u001b[33m────────────────────────────────────────────────\u001b[0m\u001b[33m─╮\u001b[0m\n",
              "\u001b[33m│\u001b[0m {'error': ValueError('Error 401: Unauthorized: missing or invalid API key.')}                                   \u001b[33m│\u001b[0m\n",
              "\u001b[33m╰─────────────────────────────────────────────────────────────────────────────────────────────────────────────────╯\u001b[0m\n"
            ],
            "text/html": [
              "<pre style=\"white-space:pre;overflow-x:auto;line-height:normal;font-family:Menlo,'DejaVu Sans Mono',consolas,'Courier New',monospace\"><span style=\"color: #808000; text-decoration-color: #808000\">╭──────────────────────────────────────────────── 🔧 Tool Output ─────────────────────────────────────────────────╮</span>\n",
              "<span style=\"color: #808000; text-decoration-color: #808000\">│</span> {'error': ValueError('Error 401: Unauthorized: missing or invalid API key.')}                                   <span style=\"color: #808000; text-decoration-color: #808000\">│</span>\n",
              "<span style=\"color: #808000; text-decoration-color: #808000\">╰─────────────────────────────────────────────────────────────────────────────────────────────────────────────────╯</span>\n",
              "</pre>\n"
            ]
          },
          "metadata": {}
        },
        {
          "output_type": "display_data",
          "data": {
            "text/plain": [
              "\u001b[37m╭─\u001b[0m\u001b[37m────────────────────────────────────────────────────\u001b[0m\u001b[37m 📝 AI \u001b[0m\u001b[37m────────────────────────────────────────────────────\u001b[0m\u001b[37m─╮\u001b[0m\n",
              "\u001b[37m│\u001b[0m I'm sorry, but I currently don't have the capability to access the tools needed to provide an answer to your    \u001b[37m│\u001b[0m\n",
              "\u001b[37m│\u001b[0m question. If you have any other questions or need assistance with something else, feel free to ask!             \u001b[37m│\u001b[0m\n",
              "\u001b[37m╰─────────────────────────────────────────────────────────────────────────────────────────────────────────────────╯\u001b[0m\n"
            ],
            "text/html": [
              "<pre style=\"white-space:pre;overflow-x:auto;line-height:normal;font-family:Menlo,'DejaVu Sans Mono',consolas,'Courier New',monospace\"><span style=\"color: #c0c0c0; text-decoration-color: #c0c0c0\">╭───────────────────────────────────────────────────── 📝 AI ─────────────────────────────────────────────────────╮</span>\n",
              "<span style=\"color: #c0c0c0; text-decoration-color: #c0c0c0\">│</span> I'm sorry, but I currently don't have the capability to access the tools needed to provide an answer to your    <span style=\"color: #c0c0c0; text-decoration-color: #c0c0c0\">│</span>\n",
              "<span style=\"color: #c0c0c0; text-decoration-color: #c0c0c0\">│</span> question. If you have any other questions or need assistance with something else, feel free to ask!             <span style=\"color: #c0c0c0; text-decoration-color: #c0c0c0\">│</span>\n",
              "<span style=\"color: #c0c0c0; text-decoration-color: #c0c0c0\">╰─────────────────────────────────────────────────────────────────────────────────────────────────────────────────╯</span>\n",
              "</pre>\n"
            ]
          },
          "metadata": {}
        }
      ]
    }
  ]
}